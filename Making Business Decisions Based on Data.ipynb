{
 "cells": [
  {
   "cell_type": "markdown",
   "metadata": {},
   "source": [
    "#  A/B test for boosting revenue"
   ]
  },
  {
   "cell_type": "markdown",
   "metadata": {},
   "source": [
    "# Project description\n",
    "\n",
    "You are an analyst at a big online store. Together with the marketing department, you've compiled a list of hypotheses that may help boost revenue.\n",
    "You need to prioritize these hypotheses, launch an A/B test, and analyze the results.\n"
   ]
  },
  {
   "cell_type": "markdown",
   "metadata": {},
   "source": [
    "# Description of the data\n",
    "\n",
    "**Data used in the first part of the project**\n",
    "\n",
    "**hypotheses_us.csv**\n",
    "\n",
    "* Hypotheses - brief descriptions of the hypotheses\n",
    "\n",
    "* Reach -user reach, on a scale of one to ten\n",
    "\n",
    "* Impact - impact on users, on a scale of one to ten\n",
    "\n",
    "* Confidence - confidence in the hypothesis, on a scale of one to ten\n",
    "\n",
    "* Effort - the resources required to test a hypothesis, on a scale of one to ten. The higher the Effort value, the more           resource-intensive the test."
   ]
  },
  {
   "cell_type": "markdown",
   "metadata": {},
   "source": [
    "**Data used in the second part of the project**\n",
    "\n",
    "**orders_us.csv**\n",
    "\n",
    "* transactionId - order identifier\n",
    "\n",
    "* visitorId - identifier of the user who placed the order\n",
    "\n",
    "* date - of the order\n",
    "\n",
    "* revenue - from the order\n",
    "\n",
    "* group - the A/B test group that the user belongs to\n",
    "\n",
    "\n",
    "**visits_us.csv**\n",
    "\n",
    "* date - date\n",
    "\n",
    "* group - A/B test group\n",
    "\n",
    "* visits - the number of visits on the date specified in the A/B test group specified"
   ]
  },
  {
   "cell_type": "markdown",
   "metadata": {},
   "source": [
    "# Preprocessing data <a id=\"one\"></a>"
   ]
  },
  {
   "cell_type": "code",
   "execution_count": 1,
   "metadata": {},
   "outputs": [],
   "source": [
    "import pandas as pd\n",
    "import datetime as dt\n",
    "import numpy as np\n",
    "import matplotlib.pyplot as plt\n",
    "\n",
    "\n",
    "\n",
    "from scipy import stats as st"
   ]
  },
  {
   "cell_type": "code",
   "execution_count": 2,
   "metadata": {},
   "outputs": [],
   "source": [
    "hypotheses = pd.read_csv('/datasets/hypotheses_us.csv', sep=';')"
   ]
  },
  {
   "cell_type": "code",
   "execution_count": 3,
   "metadata": {},
   "outputs": [],
   "source": [
    "pd.set_option('display.max_colwidth', 0)"
   ]
  },
  {
   "cell_type": "code",
   "execution_count": 4,
   "metadata": {},
   "outputs": [
    {
     "data": {
      "text/html": [
       "<div>\n",
       "<style scoped>\n",
       "    .dataframe tbody tr th:only-of-type {\n",
       "        vertical-align: middle;\n",
       "    }\n",
       "\n",
       "    .dataframe tbody tr th {\n",
       "        vertical-align: top;\n",
       "    }\n",
       "\n",
       "    .dataframe thead th {\n",
       "        text-align: right;\n",
       "    }\n",
       "</style>\n",
       "<table border=\"1\" class=\"dataframe\">\n",
       "  <thead>\n",
       "    <tr style=\"text-align: right;\">\n",
       "      <th></th>\n",
       "      <th>Hypothesis</th>\n",
       "      <th>Reach</th>\n",
       "      <th>Impact</th>\n",
       "      <th>Confidence</th>\n",
       "      <th>Effort</th>\n",
       "    </tr>\n",
       "  </thead>\n",
       "  <tbody>\n",
       "    <tr>\n",
       "      <th>0</th>\n",
       "      <td>Add two new channels for attracting traffic. This will bring 30% more users</td>\n",
       "      <td>3</td>\n",
       "      <td>10</td>\n",
       "      <td>8</td>\n",
       "      <td>6</td>\n",
       "    </tr>\n",
       "    <tr>\n",
       "      <th>1</th>\n",
       "      <td>Launch your own delivery service. This will shorten delivery time</td>\n",
       "      <td>2</td>\n",
       "      <td>5</td>\n",
       "      <td>4</td>\n",
       "      <td>10</td>\n",
       "    </tr>\n",
       "    <tr>\n",
       "      <th>2</th>\n",
       "      <td>Add product recommendation blocks to the store's site. This will increase conversion and average purchase size</td>\n",
       "      <td>8</td>\n",
       "      <td>3</td>\n",
       "      <td>7</td>\n",
       "      <td>3</td>\n",
       "    </tr>\n",
       "    <tr>\n",
       "      <th>3</th>\n",
       "      <td>Change the category structure. This will increase conversion since users will find the products they want more quickly</td>\n",
       "      <td>8</td>\n",
       "      <td>3</td>\n",
       "      <td>3</td>\n",
       "      <td>8</td>\n",
       "    </tr>\n",
       "    <tr>\n",
       "      <th>4</th>\n",
       "      <td>Change the background color on the main page. This will increase user engagement</td>\n",
       "      <td>3</td>\n",
       "      <td>1</td>\n",
       "      <td>1</td>\n",
       "      <td>1</td>\n",
       "    </tr>\n",
       "  </tbody>\n",
       "</table>\n",
       "</div>"
      ],
      "text/plain": [
       "                                                                                                               Hypothesis  \\\n",
       "0  Add two new channels for attracting traffic. This will bring 30% more users                                              \n",
       "1  Launch your own delivery service. This will shorten delivery time                                                        \n",
       "2  Add product recommendation blocks to the store's site. This will increase conversion and average purchase size           \n",
       "3  Change the category structure. This will increase conversion since users will find the products they want more quickly   \n",
       "4  Change the background color on the main page. This will increase user engagement                                         \n",
       "\n",
       "   Reach  Impact  Confidence  Effort  \n",
       "0  3      10      8           6       \n",
       "1  2      5       4           10      \n",
       "2  8      3       7           3       \n",
       "3  8      3       3           8       \n",
       "4  3      1       1           1       "
      ]
     },
     "execution_count": 4,
     "metadata": {},
     "output_type": "execute_result"
    }
   ],
   "source": [
    "hypotheses.head()"
   ]
  },
  {
   "cell_type": "code",
   "execution_count": 5,
   "metadata": {},
   "outputs": [
    {
     "data": {
      "text/html": [
       "<div>\n",
       "<style scoped>\n",
       "    .dataframe tbody tr th:only-of-type {\n",
       "        vertical-align: middle;\n",
       "    }\n",
       "\n",
       "    .dataframe tbody tr th {\n",
       "        vertical-align: top;\n",
       "    }\n",
       "\n",
       "    .dataframe thead th {\n",
       "        text-align: right;\n",
       "    }\n",
       "</style>\n",
       "<table border=\"1\" class=\"dataframe\">\n",
       "  <thead>\n",
       "    <tr style=\"text-align: right;\">\n",
       "      <th></th>\n",
       "      <th>hypothesis</th>\n",
       "      <th>reach</th>\n",
       "      <th>impact</th>\n",
       "      <th>confidence</th>\n",
       "      <th>effort</th>\n",
       "    </tr>\n",
       "  </thead>\n",
       "  <tbody>\n",
       "    <tr>\n",
       "      <th>4</th>\n",
       "      <td>Change the background color on the main page. This will increase user engagement</td>\n",
       "      <td>3</td>\n",
       "      <td>1</td>\n",
       "      <td>1</td>\n",
       "      <td>1</td>\n",
       "    </tr>\n",
       "    <tr>\n",
       "      <th>5</th>\n",
       "      <td>Add a customer review page. This will increase the number of orders</td>\n",
       "      <td>3</td>\n",
       "      <td>2</td>\n",
       "      <td>2</td>\n",
       "      <td>3</td>\n",
       "    </tr>\n",
       "    <tr>\n",
       "      <th>6</th>\n",
       "      <td>Show banners with current offers and sales on the main page. This will boost conversion</td>\n",
       "      <td>5</td>\n",
       "      <td>3</td>\n",
       "      <td>8</td>\n",
       "      <td>3</td>\n",
       "    </tr>\n",
       "    <tr>\n",
       "      <th>7</th>\n",
       "      <td>Add a subscription form to all the main pages. This will help you compile a mailing list</td>\n",
       "      <td>10</td>\n",
       "      <td>7</td>\n",
       "      <td>8</td>\n",
       "      <td>5</td>\n",
       "    </tr>\n",
       "    <tr>\n",
       "      <th>8</th>\n",
       "      <td>Launch a promotion that gives users discounts on their birthdays</td>\n",
       "      <td>1</td>\n",
       "      <td>9</td>\n",
       "      <td>9</td>\n",
       "      <td>5</td>\n",
       "    </tr>\n",
       "  </tbody>\n",
       "</table>\n",
       "</div>"
      ],
      "text/plain": [
       "                                                                                 hypothesis  \\\n",
       "4  Change the background color on the main page. This will increase user engagement           \n",
       "5  Add a customer review page. This will increase the number of orders                        \n",
       "6  Show banners with current offers and sales on the main page. This will boost conversion    \n",
       "7  Add a subscription form to all the main pages. This will help you compile a mailing list   \n",
       "8  Launch a promotion that gives users discounts on their birthdays                           \n",
       "\n",
       "   reach  impact  confidence  effort  \n",
       "4  3      1       1           1       \n",
       "5  3      2       2           3       \n",
       "6  5      3       8           3       \n",
       "7  10     7       8           5       \n",
       "8  1      9       9           5       "
      ]
     },
     "execution_count": 5,
     "metadata": {},
     "output_type": "execute_result"
    }
   ],
   "source": [
    "hypotheses.columns= hypotheses.columns.str.lower()\n",
    "hypotheses.tail()"
   ]
  },
  {
   "cell_type": "code",
   "execution_count": 6,
   "metadata": {},
   "outputs": [
    {
     "name": "stdout",
     "output_type": "stream",
     "text": [
      "<class 'pandas.core.frame.DataFrame'>\n",
      "RangeIndex: 9 entries, 0 to 8\n",
      "Data columns (total 5 columns):\n",
      " #   Column      Non-Null Count  Dtype \n",
      "---  ------      --------------  ----- \n",
      " 0   hypothesis  9 non-null      object\n",
      " 1   reach       9 non-null      int64 \n",
      " 2   impact      9 non-null      int64 \n",
      " 3   confidence  9 non-null      int64 \n",
      " 4   effort      9 non-null      int64 \n",
      "dtypes: int64(4), object(1)\n",
      "memory usage: 488.0+ bytes\n"
     ]
    }
   ],
   "source": [
    "hypotheses.info()"
   ]
  },
  {
   "cell_type": "code",
   "execution_count": 7,
   "metadata": {},
   "outputs": [],
   "source": [
    "orders = pd.read_csv('/datasets/orders_us.csv')"
   ]
  },
  {
   "cell_type": "code",
   "execution_count": 8,
   "metadata": {},
   "outputs": [
    {
     "data": {
      "text/html": [
       "<div>\n",
       "<style scoped>\n",
       "    .dataframe tbody tr th:only-of-type {\n",
       "        vertical-align: middle;\n",
       "    }\n",
       "\n",
       "    .dataframe tbody tr th {\n",
       "        vertical-align: top;\n",
       "    }\n",
       "\n",
       "    .dataframe thead th {\n",
       "        text-align: right;\n",
       "    }\n",
       "</style>\n",
       "<table border=\"1\" class=\"dataframe\">\n",
       "  <thead>\n",
       "    <tr style=\"text-align: right;\">\n",
       "      <th></th>\n",
       "      <th>transactionId</th>\n",
       "      <th>visitorId</th>\n",
       "      <th>date</th>\n",
       "      <th>revenue</th>\n",
       "      <th>group</th>\n",
       "    </tr>\n",
       "  </thead>\n",
       "  <tbody>\n",
       "    <tr>\n",
       "      <th>0</th>\n",
       "      <td>3667963787</td>\n",
       "      <td>3312258926</td>\n",
       "      <td>2019-08-15</td>\n",
       "      <td>30.4</td>\n",
       "      <td>B</td>\n",
       "    </tr>\n",
       "    <tr>\n",
       "      <th>1</th>\n",
       "      <td>2804400009</td>\n",
       "      <td>3642806036</td>\n",
       "      <td>2019-08-15</td>\n",
       "      <td>15.2</td>\n",
       "      <td>B</td>\n",
       "    </tr>\n",
       "    <tr>\n",
       "      <th>2</th>\n",
       "      <td>2961555356</td>\n",
       "      <td>4069496402</td>\n",
       "      <td>2019-08-15</td>\n",
       "      <td>10.2</td>\n",
       "      <td>A</td>\n",
       "    </tr>\n",
       "    <tr>\n",
       "      <th>3</th>\n",
       "      <td>3797467345</td>\n",
       "      <td>1196621759</td>\n",
       "      <td>2019-08-15</td>\n",
       "      <td>155.1</td>\n",
       "      <td>B</td>\n",
       "    </tr>\n",
       "    <tr>\n",
       "      <th>4</th>\n",
       "      <td>2282983706</td>\n",
       "      <td>2322279887</td>\n",
       "      <td>2019-08-15</td>\n",
       "      <td>40.5</td>\n",
       "      <td>B</td>\n",
       "    </tr>\n",
       "  </tbody>\n",
       "</table>\n",
       "</div>"
      ],
      "text/plain": [
       "   transactionId   visitorId        date  revenue group\n",
       "0  3667963787     3312258926  2019-08-15  30.4     B   \n",
       "1  2804400009     3642806036  2019-08-15  15.2     B   \n",
       "2  2961555356     4069496402  2019-08-15  10.2     A   \n",
       "3  3797467345     1196621759  2019-08-15  155.1    B   \n",
       "4  2282983706     2322279887  2019-08-15  40.5     B   "
      ]
     },
     "execution_count": 8,
     "metadata": {},
     "output_type": "execute_result"
    }
   ],
   "source": [
    "orders.head() "
   ]
  },
  {
   "cell_type": "code",
   "execution_count": 9,
   "metadata": {},
   "outputs": [],
   "source": [
    "orders.columns= orders.columns.str.lower()"
   ]
  },
  {
   "cell_type": "code",
   "execution_count": 10,
   "metadata": {},
   "outputs": [
    {
     "data": {
      "text/html": [
       "<div>\n",
       "<style scoped>\n",
       "    .dataframe tbody tr th:only-of-type {\n",
       "        vertical-align: middle;\n",
       "    }\n",
       "\n",
       "    .dataframe tbody tr th {\n",
       "        vertical-align: top;\n",
       "    }\n",
       "\n",
       "    .dataframe thead th {\n",
       "        text-align: right;\n",
       "    }\n",
       "</style>\n",
       "<table border=\"1\" class=\"dataframe\">\n",
       "  <thead>\n",
       "    <tr style=\"text-align: right;\">\n",
       "      <th></th>\n",
       "      <th>transactionid</th>\n",
       "      <th>visitorid</th>\n",
       "      <th>date</th>\n",
       "      <th>revenue</th>\n",
       "      <th>group</th>\n",
       "    </tr>\n",
       "  </thead>\n",
       "  <tbody>\n",
       "    <tr>\n",
       "      <th>1192</th>\n",
       "      <td>2662137336</td>\n",
       "      <td>3733762160</td>\n",
       "      <td>2019-08-14</td>\n",
       "      <td>100.8</td>\n",
       "      <td>B</td>\n",
       "    </tr>\n",
       "    <tr>\n",
       "      <th>1193</th>\n",
       "      <td>2203539145</td>\n",
       "      <td>370388673</td>\n",
       "      <td>2019-08-14</td>\n",
       "      <td>50.1</td>\n",
       "      <td>A</td>\n",
       "    </tr>\n",
       "    <tr>\n",
       "      <th>1194</th>\n",
       "      <td>1807773912</td>\n",
       "      <td>573423106</td>\n",
       "      <td>2019-08-14</td>\n",
       "      <td>165.3</td>\n",
       "      <td>A</td>\n",
       "    </tr>\n",
       "    <tr>\n",
       "      <th>1195</th>\n",
       "      <td>1947021204</td>\n",
       "      <td>1614305549</td>\n",
       "      <td>2019-08-14</td>\n",
       "      <td>5.5</td>\n",
       "      <td>A</td>\n",
       "    </tr>\n",
       "    <tr>\n",
       "      <th>1196</th>\n",
       "      <td>3936777065</td>\n",
       "      <td>2108080724</td>\n",
       "      <td>2019-08-15</td>\n",
       "      <td>3120.1</td>\n",
       "      <td>B</td>\n",
       "    </tr>\n",
       "  </tbody>\n",
       "</table>\n",
       "</div>"
      ],
      "text/plain": [
       "      transactionid   visitorid        date  revenue group\n",
       "1192  2662137336     3733762160  2019-08-14  100.8    B   \n",
       "1193  2203539145     370388673   2019-08-14  50.1     A   \n",
       "1194  1807773912     573423106   2019-08-14  165.3    A   \n",
       "1195  1947021204     1614305549  2019-08-14  5.5      A   \n",
       "1196  3936777065     2108080724  2019-08-15  3120.1   B   "
      ]
     },
     "execution_count": 10,
     "metadata": {},
     "output_type": "execute_result"
    }
   ],
   "source": [
    "orders.tail()"
   ]
  },
  {
   "cell_type": "code",
   "execution_count": 11,
   "metadata": {},
   "outputs": [
    {
     "name": "stdout",
     "output_type": "stream",
     "text": [
      "<class 'pandas.core.frame.DataFrame'>\n",
      "RangeIndex: 1197 entries, 0 to 1196\n",
      "Data columns (total 5 columns):\n",
      " #   Column         Non-Null Count  Dtype  \n",
      "---  ------         --------------  -----  \n",
      " 0   transactionid  1197 non-null   int64  \n",
      " 1   visitorid      1197 non-null   int64  \n",
      " 2   date           1197 non-null   object \n",
      " 3   revenue        1197 non-null   float64\n",
      " 4   group          1197 non-null   object \n",
      "dtypes: float64(1), int64(2), object(2)\n",
      "memory usage: 46.9+ KB\n"
     ]
    }
   ],
   "source": [
    "orders.info()"
   ]
  },
  {
   "cell_type": "code",
   "execution_count": 12,
   "metadata": {},
   "outputs": [],
   "source": [
    "orders['date'] = orders['date'].astype('datetime64')"
   ]
  },
  {
   "cell_type": "code",
   "execution_count": 13,
   "metadata": {},
   "outputs": [
    {
     "name": "stdout",
     "output_type": "stream",
     "text": [
      "<class 'pandas.core.frame.DataFrame'>\n",
      "RangeIndex: 1197 entries, 0 to 1196\n",
      "Data columns (total 5 columns):\n",
      " #   Column         Non-Null Count  Dtype         \n",
      "---  ------         --------------  -----         \n",
      " 0   transactionid  1197 non-null   int64         \n",
      " 1   visitorid      1197 non-null   int64         \n",
      " 2   date           1197 non-null   datetime64[ns]\n",
      " 3   revenue        1197 non-null   float64       \n",
      " 4   group          1197 non-null   object        \n",
      "dtypes: datetime64[ns](1), float64(1), int64(2), object(1)\n",
      "memory usage: 46.9+ KB\n"
     ]
    }
   ],
   "source": [
    "orders.info()"
   ]
  },
  {
   "cell_type": "code",
   "execution_count": 14,
   "metadata": {},
   "outputs": [
    {
     "data": {
      "text/html": [
       "<div>\n",
       "<style scoped>\n",
       "    .dataframe tbody tr th:only-of-type {\n",
       "        vertical-align: middle;\n",
       "    }\n",
       "\n",
       "    .dataframe tbody tr th {\n",
       "        vertical-align: top;\n",
       "    }\n",
       "\n",
       "    .dataframe thead th {\n",
       "        text-align: right;\n",
       "    }\n",
       "</style>\n",
       "<table border=\"1\" class=\"dataframe\">\n",
       "  <thead>\n",
       "    <tr style=\"text-align: right;\">\n",
       "      <th></th>\n",
       "      <th>transactionid</th>\n",
       "      <th>visitorid</th>\n",
       "      <th>revenue</th>\n",
       "    </tr>\n",
       "  </thead>\n",
       "  <tbody>\n",
       "    <tr>\n",
       "      <th>count</th>\n",
       "      <td>1.197000e+03</td>\n",
       "      <td>1.197000e+03</td>\n",
       "      <td>1197.000000</td>\n",
       "    </tr>\n",
       "    <tr>\n",
       "      <th>mean</th>\n",
       "      <td>2.155621e+09</td>\n",
       "      <td>2.165960e+09</td>\n",
       "      <td>131.491646</td>\n",
       "    </tr>\n",
       "    <tr>\n",
       "      <th>std</th>\n",
       "      <td>1.229085e+09</td>\n",
       "      <td>1.236014e+09</td>\n",
       "      <td>603.004729</td>\n",
       "    </tr>\n",
       "    <tr>\n",
       "      <th>min</th>\n",
       "      <td>1.062393e+06</td>\n",
       "      <td>5.114589e+06</td>\n",
       "      <td>5.000000</td>\n",
       "    </tr>\n",
       "    <tr>\n",
       "      <th>25%</th>\n",
       "      <td>1.166776e+09</td>\n",
       "      <td>1.111826e+09</td>\n",
       "      <td>20.800000</td>\n",
       "    </tr>\n",
       "    <tr>\n",
       "      <th>50%</th>\n",
       "      <td>2.145194e+09</td>\n",
       "      <td>2.217985e+09</td>\n",
       "      <td>50.200000</td>\n",
       "    </tr>\n",
       "    <tr>\n",
       "      <th>75%</th>\n",
       "      <td>3.237740e+09</td>\n",
       "      <td>3.177606e+09</td>\n",
       "      <td>130.400000</td>\n",
       "    </tr>\n",
       "    <tr>\n",
       "      <th>max</th>\n",
       "      <td>4.293856e+09</td>\n",
       "      <td>4.283872e+09</td>\n",
       "      <td>19920.400000</td>\n",
       "    </tr>\n",
       "  </tbody>\n",
       "</table>\n",
       "</div>"
      ],
      "text/plain": [
       "       transactionid     visitorid       revenue\n",
       "count  1.197000e+03   1.197000e+03  1197.000000 \n",
       "mean   2.155621e+09   2.165960e+09  131.491646  \n",
       "std    1.229085e+09   1.236014e+09  603.004729  \n",
       "min    1.062393e+06   5.114589e+06  5.000000    \n",
       "25%    1.166776e+09   1.111826e+09  20.800000   \n",
       "50%    2.145194e+09   2.217985e+09  50.200000   \n",
       "75%    3.237740e+09   3.177606e+09  130.400000  \n",
       "max    4.293856e+09   4.283872e+09  19920.400000"
      ]
     },
     "execution_count": 14,
     "metadata": {},
     "output_type": "execute_result"
    }
   ],
   "source": [
    "orders.describe()"
   ]
  },
  {
   "cell_type": "code",
   "execution_count": 15,
   "metadata": {},
   "outputs": [],
   "source": [
    "visits = pd.read_csv('/datasets/visits_us.csv')"
   ]
  },
  {
   "cell_type": "code",
   "execution_count": 16,
   "metadata": {},
   "outputs": [
    {
     "data": {
      "text/html": [
       "<div>\n",
       "<style scoped>\n",
       "    .dataframe tbody tr th:only-of-type {\n",
       "        vertical-align: middle;\n",
       "    }\n",
       "\n",
       "    .dataframe tbody tr th {\n",
       "        vertical-align: top;\n",
       "    }\n",
       "\n",
       "    .dataframe thead th {\n",
       "        text-align: right;\n",
       "    }\n",
       "</style>\n",
       "<table border=\"1\" class=\"dataframe\">\n",
       "  <thead>\n",
       "    <tr style=\"text-align: right;\">\n",
       "      <th></th>\n",
       "      <th>date</th>\n",
       "      <th>group</th>\n",
       "      <th>visits</th>\n",
       "    </tr>\n",
       "  </thead>\n",
       "  <tbody>\n",
       "    <tr>\n",
       "      <th>0</th>\n",
       "      <td>2019-08-01</td>\n",
       "      <td>A</td>\n",
       "      <td>719</td>\n",
       "    </tr>\n",
       "    <tr>\n",
       "      <th>1</th>\n",
       "      <td>2019-08-02</td>\n",
       "      <td>A</td>\n",
       "      <td>619</td>\n",
       "    </tr>\n",
       "    <tr>\n",
       "      <th>2</th>\n",
       "      <td>2019-08-03</td>\n",
       "      <td>A</td>\n",
       "      <td>507</td>\n",
       "    </tr>\n",
       "    <tr>\n",
       "      <th>3</th>\n",
       "      <td>2019-08-04</td>\n",
       "      <td>A</td>\n",
       "      <td>717</td>\n",
       "    </tr>\n",
       "    <tr>\n",
       "      <th>4</th>\n",
       "      <td>2019-08-05</td>\n",
       "      <td>A</td>\n",
       "      <td>756</td>\n",
       "    </tr>\n",
       "  </tbody>\n",
       "</table>\n",
       "</div>"
      ],
      "text/plain": [
       "         date group  visits\n",
       "0  2019-08-01  A     719   \n",
       "1  2019-08-02  A     619   \n",
       "2  2019-08-03  A     507   \n",
       "3  2019-08-04  A     717   \n",
       "4  2019-08-05  A     756   "
      ]
     },
     "execution_count": 16,
     "metadata": {},
     "output_type": "execute_result"
    }
   ],
   "source": [
    "visits.head()"
   ]
  },
  {
   "cell_type": "code",
   "execution_count": 17,
   "metadata": {},
   "outputs": [],
   "source": [
    "visits['date'] = visits['date'].astype('datetime64')"
   ]
  },
  {
   "cell_type": "code",
   "execution_count": 18,
   "metadata": {},
   "outputs": [
    {
     "name": "stdout",
     "output_type": "stream",
     "text": [
      "<class 'pandas.core.frame.DataFrame'>\n",
      "RangeIndex: 62 entries, 0 to 61\n",
      "Data columns (total 3 columns):\n",
      " #   Column  Non-Null Count  Dtype         \n",
      "---  ------  --------------  -----         \n",
      " 0   date    62 non-null     datetime64[ns]\n",
      " 1   group   62 non-null     object        \n",
      " 2   visits  62 non-null     int64         \n",
      "dtypes: datetime64[ns](1), int64(1), object(1)\n",
      "memory usage: 1.6+ KB\n"
     ]
    }
   ],
   "source": [
    "visits.info()"
   ]
  },
  {
   "cell_type": "code",
   "execution_count": 19,
   "metadata": {},
   "outputs": [
    {
     "data": {
      "text/html": [
       "<div>\n",
       "<style scoped>\n",
       "    .dataframe tbody tr th:only-of-type {\n",
       "        vertical-align: middle;\n",
       "    }\n",
       "\n",
       "    .dataframe tbody tr th {\n",
       "        vertical-align: top;\n",
       "    }\n",
       "\n",
       "    .dataframe thead th {\n",
       "        text-align: right;\n",
       "    }\n",
       "</style>\n",
       "<table border=\"1\" class=\"dataframe\">\n",
       "  <thead>\n",
       "    <tr style=\"text-align: right;\">\n",
       "      <th></th>\n",
       "      <th>visits</th>\n",
       "    </tr>\n",
       "  </thead>\n",
       "  <tbody>\n",
       "    <tr>\n",
       "      <th>count</th>\n",
       "      <td>62.000000</td>\n",
       "    </tr>\n",
       "    <tr>\n",
       "      <th>mean</th>\n",
       "      <td>607.290323</td>\n",
       "    </tr>\n",
       "    <tr>\n",
       "      <th>std</th>\n",
       "      <td>114.400560</td>\n",
       "    </tr>\n",
       "    <tr>\n",
       "      <th>min</th>\n",
       "      <td>361.000000</td>\n",
       "    </tr>\n",
       "    <tr>\n",
       "      <th>25%</th>\n",
       "      <td>534.000000</td>\n",
       "    </tr>\n",
       "    <tr>\n",
       "      <th>50%</th>\n",
       "      <td>624.500000</td>\n",
       "    </tr>\n",
       "    <tr>\n",
       "      <th>75%</th>\n",
       "      <td>710.500000</td>\n",
       "    </tr>\n",
       "    <tr>\n",
       "      <th>max</th>\n",
       "      <td>770.000000</td>\n",
       "    </tr>\n",
       "  </tbody>\n",
       "</table>\n",
       "</div>"
      ],
      "text/plain": [
       "           visits\n",
       "count  62.000000 \n",
       "mean   607.290323\n",
       "std    114.400560\n",
       "min    361.000000\n",
       "25%    534.000000\n",
       "50%    624.500000\n",
       "75%    710.500000\n",
       "max    770.000000"
      ]
     },
     "execution_count": 19,
     "metadata": {},
     "output_type": "execute_result"
    }
   ],
   "source": [
    "visits.describe()"
   ]
  },
  {
   "cell_type": "code",
   "execution_count": 20,
   "metadata": {},
   "outputs": [
    {
     "name": "stdout",
     "output_type": "stream",
     "text": [
      "Number of pucrchases made by users observed in both groups: 0    183\n",
      "dtype: int64\n"
     ]
    },
    {
     "data": {
      "text/html": [
       "<div>\n",
       "<style scoped>\n",
       "    .dataframe tbody tr th:only-of-type {\n",
       "        vertical-align: middle;\n",
       "    }\n",
       "\n",
       "    .dataframe tbody tr th {\n",
       "        vertical-align: top;\n",
       "    }\n",
       "\n",
       "    .dataframe thead th {\n",
       "        text-align: right;\n",
       "    }\n",
       "</style>\n",
       "<table border=\"1\" class=\"dataframe\">\n",
       "  <thead>\n",
       "    <tr style=\"text-align: right;\">\n",
       "      <th></th>\n",
       "      <th>transactionid_x</th>\n",
       "      <th>visitorid</th>\n",
       "      <th>date_x</th>\n",
       "      <th>revenue_x</th>\n",
       "      <th>group_x</th>\n",
       "      <th>transactionid_y</th>\n",
       "      <th>date_y</th>\n",
       "      <th>revenue_y</th>\n",
       "      <th>group_y</th>\n",
       "    </tr>\n",
       "  </thead>\n",
       "  <tbody>\n",
       "    <tr>\n",
       "      <th>119</th>\n",
       "      <td>3743515850</td>\n",
       "      <td>2579882178</td>\n",
       "      <td>2019-08-18</td>\n",
       "      <td>30.6</td>\n",
       "      <td>A</td>\n",
       "      <td>131747281</td>\n",
       "      <td>2019-08-18</td>\n",
       "      <td>305.6</td>\n",
       "      <td>B</td>\n",
       "    </tr>\n",
       "  </tbody>\n",
       "</table>\n",
       "</div>"
      ],
      "text/plain": [
       "     transactionid_x   visitorid     date_x  revenue_x group_x  \\\n",
       "119  3743515850       2579882178 2019-08-18  30.6       A        \n",
       "\n",
       "     transactionid_y     date_y  revenue_y group_y  \n",
       "119  131747281       2019-08-18  305.6      B       "
      ]
     },
     "execution_count": 20,
     "metadata": {},
     "output_type": "execute_result"
    }
   ],
   "source": [
    "orders_a = orders.query('group == \"A\"')\n",
    "orders_b = orders.query('group == \"B\"')\n",
    "\n",
    "both_groups = pd.merge(orders_a, orders_b, how='inner', on = ['visitorid'])\n",
    "print('Number of pucrchases made by users observed in both groups:', pd.Series(len(both_groups)))\n",
    "both_groups.sample()"
   ]
  },
  {
   "cell_type": "code",
   "execution_count": 21,
   "metadata": {},
   "outputs": [
    {
     "name": "stdout",
     "output_type": "stream",
     "text": [
      "<class 'pandas.core.frame.DataFrame'>\n",
      "Int64Index: 1016 entries, 0 to 1196\n",
      "Data columns (total 5 columns):\n",
      " #   Column         Non-Null Count  Dtype         \n",
      "---  ------         --------------  -----         \n",
      " 0   transactionid  1016 non-null   int64         \n",
      " 1   visitorid      1016 non-null   int64         \n",
      " 2   date           1016 non-null   datetime64[ns]\n",
      " 3   revenue        1016 non-null   float64       \n",
      " 4   group          1016 non-null   object        \n",
      "dtypes: datetime64[ns](1), float64(1), int64(2), object(1)\n",
      "memory usage: 47.6+ KB\n",
      "<class 'pandas.core.frame.DataFrame'>\n",
      "RangeIndex: 1197 entries, 0 to 1196\n",
      "Data columns (total 5 columns):\n",
      " #   Column         Non-Null Count  Dtype         \n",
      "---  ------         --------------  -----         \n",
      " 0   transactionid  1197 non-null   int64         \n",
      " 1   visitorid      1197 non-null   int64         \n",
      " 2   date           1197 non-null   datetime64[ns]\n",
      " 3   revenue        1197 non-null   float64       \n",
      " 4   group          1197 non-null   object        \n",
      "dtypes: datetime64[ns](1), float64(1), int64(2), object(1)\n",
      "memory usage: 46.9+ KB\n"
     ]
    }
   ],
   "source": [
    "bad_list = both_groups['visitorid']\n",
    "full_orders = orders.copy()\n",
    "orders = orders[-orders['visitorid'].isin(bad_list)]\n",
    "orders.info()\n",
    "full_orders.info()"
   ]
  },
  {
   "cell_type": "markdown",
   "metadata": {},
   "source": [
    "**for prepering the data for analyses i predormed the following steps.**\n",
    "\n",
    "**hypotheses:**\n",
    "\n",
    "* seprated columns using max_colwidth.\n",
    "\n",
    "* converted column headings to lowercase.\n",
    "\n",
    "**orders** :\n",
    "\n",
    "* converted column headings to lowercase.\n",
    "\n",
    "* converted date column from object to datetime64.\n",
    "\n",
    "* detected users in both groups and created clean data set withot them.\n",
    "\n",
    "  \n",
    "In the **visits** dataset:\n",
    "\n",
    "* converted column headings to lowercase.\n",
    "\n",
    "* converted date column from object to datetime64."
   ]
  },
  {
   "cell_type": "markdown",
   "metadata": {},
   "source": [
    "# Part 1. Prioritizing Hypotheses <a id=\"two\"></a>"
   ]
  },
  {
   "cell_type": "markdown",
   "metadata": {},
   "source": [
    "At the next part in order to prioritize the hypothses i will use 2 methods the first one is ICE which contain the following compontes:\n",
    "\n",
    "* Impact — how strongly this update will affect the users, their experience, and their satisfaction with the product.\n",
    "\n",
    "* Confidence — how sure you are that your product will affect them in this way\n",
    "\n",
    "* Effort — how much will it cost to test the hypothesis\n",
    "\n",
    "the 2'nd one is RICE has which have four components 3 of them are the same as in ICE and the fourth one is:\n",
    "\n",
    "* Reach — how many users will be affected by the update you want to introduce.\n",
    "\n",
    "the compontes are scaled in a 1-10 ladder and according to a specific formula of multiplying and dividing the components it helps us in prorotizing the hypothesesץ\n",
    "\n",
    "ICE - (Impact * Confidence) / Effort\n",
    "\n",
    "RICE - (Reach * Impact * Confidence) / Effort"
   ]
  },
  {
   "cell_type": "markdown",
   "metadata": {},
   "source": [
    "**Apply the ICE framework to prioritize hypotheses. Sort them in descending order of priority.**\n"
   ]
  },
  {
   "cell_type": "code",
   "execution_count": 22,
   "metadata": {},
   "outputs": [
    {
     "data": {
      "text/html": [
       "<div>\n",
       "<style scoped>\n",
       "    .dataframe tbody tr th:only-of-type {\n",
       "        vertical-align: middle;\n",
       "    }\n",
       "\n",
       "    .dataframe tbody tr th {\n",
       "        vertical-align: top;\n",
       "    }\n",
       "\n",
       "    .dataframe thead th {\n",
       "        text-align: right;\n",
       "    }\n",
       "</style>\n",
       "<table border=\"1\" class=\"dataframe\">\n",
       "  <thead>\n",
       "    <tr style=\"text-align: right;\">\n",
       "      <th></th>\n",
       "      <th>hypothesis</th>\n",
       "      <th>reach</th>\n",
       "      <th>impact</th>\n",
       "      <th>confidence</th>\n",
       "      <th>effort</th>\n",
       "      <th>ICE</th>\n",
       "    </tr>\n",
       "  </thead>\n",
       "  <tbody>\n",
       "    <tr>\n",
       "      <th>8</th>\n",
       "      <td>Launch a promotion that gives users discounts on their birthdays</td>\n",
       "      <td>1</td>\n",
       "      <td>9</td>\n",
       "      <td>9</td>\n",
       "      <td>5</td>\n",
       "      <td>16.200000</td>\n",
       "    </tr>\n",
       "    <tr>\n",
       "      <th>0</th>\n",
       "      <td>Add two new channels for attracting traffic. This will bring 30% more users</td>\n",
       "      <td>3</td>\n",
       "      <td>10</td>\n",
       "      <td>8</td>\n",
       "      <td>6</td>\n",
       "      <td>13.333333</td>\n",
       "    </tr>\n",
       "    <tr>\n",
       "      <th>7</th>\n",
       "      <td>Add a subscription form to all the main pages. This will help you compile a mailing list</td>\n",
       "      <td>10</td>\n",
       "      <td>7</td>\n",
       "      <td>8</td>\n",
       "      <td>5</td>\n",
       "      <td>11.200000</td>\n",
       "    </tr>\n",
       "    <tr>\n",
       "      <th>6</th>\n",
       "      <td>Show banners with current offers and sales on the main page. This will boost conversion</td>\n",
       "      <td>5</td>\n",
       "      <td>3</td>\n",
       "      <td>8</td>\n",
       "      <td>3</td>\n",
       "      <td>8.000000</td>\n",
       "    </tr>\n",
       "    <tr>\n",
       "      <th>2</th>\n",
       "      <td>Add product recommendation blocks to the store's site. This will increase conversion and average purchase size</td>\n",
       "      <td>8</td>\n",
       "      <td>3</td>\n",
       "      <td>7</td>\n",
       "      <td>3</td>\n",
       "      <td>7.000000</td>\n",
       "    </tr>\n",
       "    <tr>\n",
       "      <th>1</th>\n",
       "      <td>Launch your own delivery service. This will shorten delivery time</td>\n",
       "      <td>2</td>\n",
       "      <td>5</td>\n",
       "      <td>4</td>\n",
       "      <td>10</td>\n",
       "      <td>2.000000</td>\n",
       "    </tr>\n",
       "    <tr>\n",
       "      <th>5</th>\n",
       "      <td>Add a customer review page. This will increase the number of orders</td>\n",
       "      <td>3</td>\n",
       "      <td>2</td>\n",
       "      <td>2</td>\n",
       "      <td>3</td>\n",
       "      <td>1.333333</td>\n",
       "    </tr>\n",
       "    <tr>\n",
       "      <th>3</th>\n",
       "      <td>Change the category structure. This will increase conversion since users will find the products they want more quickly</td>\n",
       "      <td>8</td>\n",
       "      <td>3</td>\n",
       "      <td>3</td>\n",
       "      <td>8</td>\n",
       "      <td>1.125000</td>\n",
       "    </tr>\n",
       "    <tr>\n",
       "      <th>4</th>\n",
       "      <td>Change the background color on the main page. This will increase user engagement</td>\n",
       "      <td>3</td>\n",
       "      <td>1</td>\n",
       "      <td>1</td>\n",
       "      <td>1</td>\n",
       "      <td>1.000000</td>\n",
       "    </tr>\n",
       "  </tbody>\n",
       "</table>\n",
       "</div>"
      ],
      "text/plain": [
       "                                                                                                               hypothesis  \\\n",
       "8  Launch a promotion that gives users discounts on their birthdays                                                         \n",
       "0  Add two new channels for attracting traffic. This will bring 30% more users                                              \n",
       "7  Add a subscription form to all the main pages. This will help you compile a mailing list                                 \n",
       "6  Show banners with current offers and sales on the main page. This will boost conversion                                  \n",
       "2  Add product recommendation blocks to the store's site. This will increase conversion and average purchase size           \n",
       "1  Launch your own delivery service. This will shorten delivery time                                                        \n",
       "5  Add a customer review page. This will increase the number of orders                                                      \n",
       "3  Change the category structure. This will increase conversion since users will find the products they want more quickly   \n",
       "4  Change the background color on the main page. This will increase user engagement                                         \n",
       "\n",
       "   reach  impact  confidence  effort        ICE  \n",
       "8  1      9       9           5       16.200000  \n",
       "0  3      10      8           6       13.333333  \n",
       "7  10     7       8           5       11.200000  \n",
       "6  5      3       8           3       8.000000   \n",
       "2  8      3       7           3       7.000000   \n",
       "1  2      5       4           10      2.000000   \n",
       "5  3      2       2           3       1.333333   \n",
       "3  8      3       3           8       1.125000   \n",
       "4  3      1       1           1       1.000000   "
      ]
     },
     "execution_count": 22,
     "metadata": {},
     "output_type": "execute_result"
    }
   ],
   "source": [
    "hypotheses['ICE'] = hypotheses['impact'] * hypotheses['confidence']/hypotheses['effort']\n",
    "hypotheses.sort_values(by='ICE', ascending = False)"
   ]
  },
  {
   "cell_type": "code",
   "execution_count": 23,
   "metadata": {},
   "outputs": [
    {
     "data": {
      "text/html": [
       "<div>\n",
       "<style scoped>\n",
       "    .dataframe tbody tr th:only-of-type {\n",
       "        vertical-align: middle;\n",
       "    }\n",
       "\n",
       "    .dataframe tbody tr th {\n",
       "        vertical-align: top;\n",
       "    }\n",
       "\n",
       "    .dataframe thead th {\n",
       "        text-align: right;\n",
       "    }\n",
       "</style>\n",
       "<table border=\"1\" class=\"dataframe\">\n",
       "  <thead>\n",
       "    <tr style=\"text-align: right;\">\n",
       "      <th></th>\n",
       "      <th>hypothesis</th>\n",
       "      <th>reach</th>\n",
       "      <th>impact</th>\n",
       "      <th>confidence</th>\n",
       "      <th>effort</th>\n",
       "      <th>ICE</th>\n",
       "      <th>RICE</th>\n",
       "    </tr>\n",
       "  </thead>\n",
       "  <tbody>\n",
       "    <tr>\n",
       "      <th>7</th>\n",
       "      <td>Add a subscription form to all the main pages. This will help you compile a mailing list</td>\n",
       "      <td>10</td>\n",
       "      <td>7</td>\n",
       "      <td>8</td>\n",
       "      <td>5</td>\n",
       "      <td>11.200000</td>\n",
       "      <td>112.0</td>\n",
       "    </tr>\n",
       "    <tr>\n",
       "      <th>2</th>\n",
       "      <td>Add product recommendation blocks to the store's site. This will increase conversion and average purchase size</td>\n",
       "      <td>8</td>\n",
       "      <td>3</td>\n",
       "      <td>7</td>\n",
       "      <td>3</td>\n",
       "      <td>7.000000</td>\n",
       "      <td>56.0</td>\n",
       "    </tr>\n",
       "    <tr>\n",
       "      <th>0</th>\n",
       "      <td>Add two new channels for attracting traffic. This will bring 30% more users</td>\n",
       "      <td>3</td>\n",
       "      <td>10</td>\n",
       "      <td>8</td>\n",
       "      <td>6</td>\n",
       "      <td>13.333333</td>\n",
       "      <td>40.0</td>\n",
       "    </tr>\n",
       "    <tr>\n",
       "      <th>6</th>\n",
       "      <td>Show banners with current offers and sales on the main page. This will boost conversion</td>\n",
       "      <td>5</td>\n",
       "      <td>3</td>\n",
       "      <td>8</td>\n",
       "      <td>3</td>\n",
       "      <td>8.000000</td>\n",
       "      <td>40.0</td>\n",
       "    </tr>\n",
       "    <tr>\n",
       "      <th>8</th>\n",
       "      <td>Launch a promotion that gives users discounts on their birthdays</td>\n",
       "      <td>1</td>\n",
       "      <td>9</td>\n",
       "      <td>9</td>\n",
       "      <td>5</td>\n",
       "      <td>16.200000</td>\n",
       "      <td>16.2</td>\n",
       "    </tr>\n",
       "    <tr>\n",
       "      <th>3</th>\n",
       "      <td>Change the category structure. This will increase conversion since users will find the products they want more quickly</td>\n",
       "      <td>8</td>\n",
       "      <td>3</td>\n",
       "      <td>3</td>\n",
       "      <td>8</td>\n",
       "      <td>1.125000</td>\n",
       "      <td>9.0</td>\n",
       "    </tr>\n",
       "    <tr>\n",
       "      <th>1</th>\n",
       "      <td>Launch your own delivery service. This will shorten delivery time</td>\n",
       "      <td>2</td>\n",
       "      <td>5</td>\n",
       "      <td>4</td>\n",
       "      <td>10</td>\n",
       "      <td>2.000000</td>\n",
       "      <td>4.0</td>\n",
       "    </tr>\n",
       "    <tr>\n",
       "      <th>5</th>\n",
       "      <td>Add a customer review page. This will increase the number of orders</td>\n",
       "      <td>3</td>\n",
       "      <td>2</td>\n",
       "      <td>2</td>\n",
       "      <td>3</td>\n",
       "      <td>1.333333</td>\n",
       "      <td>4.0</td>\n",
       "    </tr>\n",
       "    <tr>\n",
       "      <th>4</th>\n",
       "      <td>Change the background color on the main page. This will increase user engagement</td>\n",
       "      <td>3</td>\n",
       "      <td>1</td>\n",
       "      <td>1</td>\n",
       "      <td>1</td>\n",
       "      <td>1.000000</td>\n",
       "      <td>3.0</td>\n",
       "    </tr>\n",
       "  </tbody>\n",
       "</table>\n",
       "</div>"
      ],
      "text/plain": [
       "                                                                                                               hypothesis  \\\n",
       "7  Add a subscription form to all the main pages. This will help you compile a mailing list                                 \n",
       "2  Add product recommendation blocks to the store's site. This will increase conversion and average purchase size           \n",
       "0  Add two new channels for attracting traffic. This will bring 30% more users                                              \n",
       "6  Show banners with current offers and sales on the main page. This will boost conversion                                  \n",
       "8  Launch a promotion that gives users discounts on their birthdays                                                         \n",
       "3  Change the category structure. This will increase conversion since users will find the products they want more quickly   \n",
       "1  Launch your own delivery service. This will shorten delivery time                                                        \n",
       "5  Add a customer review page. This will increase the number of orders                                                      \n",
       "4  Change the background color on the main page. This will increase user engagement                                         \n",
       "\n",
       "   reach  impact  confidence  effort        ICE   RICE  \n",
       "7  10     7       8           5       11.200000  112.0  \n",
       "2  8      3       7           3       7.000000   56.0   \n",
       "0  3      10      8           6       13.333333  40.0   \n",
       "6  5      3       8           3       8.000000   40.0   \n",
       "8  1      9       9           5       16.200000  16.2   \n",
       "3  8      3       3           8       1.125000   9.0    \n",
       "1  2      5       4           10      2.000000   4.0    \n",
       "5  3      2       2           3       1.333333   4.0    \n",
       "4  3      1       1           1       1.000000   3.0    "
      ]
     },
     "execution_count": 23,
     "metadata": {},
     "output_type": "execute_result"
    }
   ],
   "source": [
    "hypotheses['RICE'] = hypotheses['reach'] *hypotheses['impact'] * hypotheses['confidence']/hypotheses['effort']\n",
    "hypotheses.sort_values(by='RICE', ascending = False)\n"
   ]
  },
  {
   "cell_type": "markdown",
   "metadata": {},
   "source": [
    "As seen the prioritization of hypotheses changes when use RICE instead of ICE.\n",
    "the reason is that the reach factor is coming in and hypothesis with strong reach factor xlimbs up the table:\n",
    "\n",
    "* in ICE \"launch birthday promotion\" comes first but since it gets only 1 at the reach factor it goes to 5'th place in RICE\n",
    "\n",
    "* \"Add a subscription\" comes first in RICE with reach factor of 10 whil in ICE it came 3'rd.\n",
    "\n",
    "* \"Add product recommendation blocks to the store's site\" comes 2'nd with RICE after 5'th place with ICE since it got 8 at reach factor.\n",
    "\n",
    "* \"change backround\" hypothesis comes lat at both frameworks with low grades across all factors."
   ]
  },
  {
   "cell_type": "markdown",
   "metadata": {},
   "source": [
    "# Part 2. A/B Test Analysis"
   ]
  },
  {
   "cell_type": "markdown",
   "metadata": {},
   "source": [
    "**2.1 Graph cumulative revenue by group.**"
   ]
  },
  {
   "cell_type": "code",
   "execution_count": 24,
   "metadata": {},
   "outputs": [
    {
     "data": {
      "text/html": [
       "<div>\n",
       "<style scoped>\n",
       "    .dataframe tbody tr th:only-of-type {\n",
       "        vertical-align: middle;\n",
       "    }\n",
       "\n",
       "    .dataframe tbody tr th {\n",
       "        vertical-align: top;\n",
       "    }\n",
       "\n",
       "    .dataframe thead th {\n",
       "        text-align: right;\n",
       "    }\n",
       "</style>\n",
       "<table border=\"1\" class=\"dataframe\">\n",
       "  <thead>\n",
       "    <tr style=\"text-align: right;\">\n",
       "      <th></th>\n",
       "      <th>transactionid</th>\n",
       "      <th>visitorid</th>\n",
       "      <th>date</th>\n",
       "      <th>revenue</th>\n",
       "      <th>group</th>\n",
       "    </tr>\n",
       "  </thead>\n",
       "  <tbody>\n",
       "    <tr>\n",
       "      <th>0</th>\n",
       "      <td>3667963787</td>\n",
       "      <td>3312258926</td>\n",
       "      <td>2019-08-15</td>\n",
       "      <td>30.4</td>\n",
       "      <td>B</td>\n",
       "    </tr>\n",
       "    <tr>\n",
       "      <th>1</th>\n",
       "      <td>2804400009</td>\n",
       "      <td>3642806036</td>\n",
       "      <td>2019-08-15</td>\n",
       "      <td>15.2</td>\n",
       "      <td>B</td>\n",
       "    </tr>\n",
       "    <tr>\n",
       "      <th>3</th>\n",
       "      <td>3797467345</td>\n",
       "      <td>1196621759</td>\n",
       "      <td>2019-08-15</td>\n",
       "      <td>155.1</td>\n",
       "      <td>B</td>\n",
       "    </tr>\n",
       "    <tr>\n",
       "      <th>4</th>\n",
       "      <td>2282983706</td>\n",
       "      <td>2322279887</td>\n",
       "      <td>2019-08-15</td>\n",
       "      <td>40.5</td>\n",
       "      <td>B</td>\n",
       "    </tr>\n",
       "    <tr>\n",
       "      <th>5</th>\n",
       "      <td>182168103</td>\n",
       "      <td>935554773</td>\n",
       "      <td>2019-08-15</td>\n",
       "      <td>35.0</td>\n",
       "      <td>B</td>\n",
       "    </tr>\n",
       "    <tr>\n",
       "      <th>...</th>\n",
       "      <td>...</td>\n",
       "      <td>...</td>\n",
       "      <td>...</td>\n",
       "      <td>...</td>\n",
       "      <td>...</td>\n",
       "    </tr>\n",
       "    <tr>\n",
       "      <th>1191</th>\n",
       "      <td>3592955527</td>\n",
       "      <td>608641596</td>\n",
       "      <td>2019-08-14</td>\n",
       "      <td>255.7</td>\n",
       "      <td>B</td>\n",
       "    </tr>\n",
       "    <tr>\n",
       "      <th>1192</th>\n",
       "      <td>2662137336</td>\n",
       "      <td>3733762160</td>\n",
       "      <td>2019-08-14</td>\n",
       "      <td>100.8</td>\n",
       "      <td>B</td>\n",
       "    </tr>\n",
       "    <tr>\n",
       "      <th>1193</th>\n",
       "      <td>2203539145</td>\n",
       "      <td>370388673</td>\n",
       "      <td>2019-08-14</td>\n",
       "      <td>50.1</td>\n",
       "      <td>A</td>\n",
       "    </tr>\n",
       "    <tr>\n",
       "      <th>1194</th>\n",
       "      <td>1807773912</td>\n",
       "      <td>573423106</td>\n",
       "      <td>2019-08-14</td>\n",
       "      <td>165.3</td>\n",
       "      <td>A</td>\n",
       "    </tr>\n",
       "    <tr>\n",
       "      <th>1196</th>\n",
       "      <td>3936777065</td>\n",
       "      <td>2108080724</td>\n",
       "      <td>2019-08-15</td>\n",
       "      <td>3120.1</td>\n",
       "      <td>B</td>\n",
       "    </tr>\n",
       "  </tbody>\n",
       "</table>\n",
       "<p>1016 rows × 5 columns</p>\n",
       "</div>"
      ],
      "text/plain": [
       "      transactionid   visitorid       date  revenue group\n",
       "0     3667963787     3312258926 2019-08-15  30.4     B   \n",
       "1     2804400009     3642806036 2019-08-15  15.2     B   \n",
       "3     3797467345     1196621759 2019-08-15  155.1    B   \n",
       "4     2282983706     2322279887 2019-08-15  40.5     B   \n",
       "5     182168103      935554773  2019-08-15  35.0     B   \n",
       "...         ...            ...         ...   ...    ..   \n",
       "1191  3592955527     608641596  2019-08-14  255.7    B   \n",
       "1192  2662137336     3733762160 2019-08-14  100.8    B   \n",
       "1193  2203539145     370388673  2019-08-14  50.1     A   \n",
       "1194  1807773912     573423106  2019-08-14  165.3    A   \n",
       "1196  3936777065     2108080724 2019-08-15  3120.1   B   \n",
       "\n",
       "[1016 rows x 5 columns]"
      ]
     },
     "execution_count": 24,
     "metadata": {},
     "output_type": "execute_result"
    }
   ],
   "source": [
    "orders"
   ]
  },
  {
   "cell_type": "code",
   "execution_count": 25,
   "metadata": {},
   "outputs": [
    {
     "data": {
      "text/html": [
       "<div>\n",
       "<style scoped>\n",
       "    .dataframe tbody tr th:only-of-type {\n",
       "        vertical-align: middle;\n",
       "    }\n",
       "\n",
       "    .dataframe tbody tr th {\n",
       "        vertical-align: top;\n",
       "    }\n",
       "\n",
       "    .dataframe thead th {\n",
       "        text-align: right;\n",
       "    }\n",
       "</style>\n",
       "<table border=\"1\" class=\"dataframe\">\n",
       "  <thead>\n",
       "    <tr style=\"text-align: right;\">\n",
       "      <th></th>\n",
       "      <th>date</th>\n",
       "      <th>group</th>\n",
       "      <th>visits</th>\n",
       "    </tr>\n",
       "  </thead>\n",
       "  <tbody>\n",
       "    <tr>\n",
       "      <th>0</th>\n",
       "      <td>2019-08-01</td>\n",
       "      <td>A</td>\n",
       "      <td>719</td>\n",
       "    </tr>\n",
       "    <tr>\n",
       "      <th>1</th>\n",
       "      <td>2019-08-02</td>\n",
       "      <td>A</td>\n",
       "      <td>619</td>\n",
       "    </tr>\n",
       "    <tr>\n",
       "      <th>2</th>\n",
       "      <td>2019-08-03</td>\n",
       "      <td>A</td>\n",
       "      <td>507</td>\n",
       "    </tr>\n",
       "    <tr>\n",
       "      <th>3</th>\n",
       "      <td>2019-08-04</td>\n",
       "      <td>A</td>\n",
       "      <td>717</td>\n",
       "    </tr>\n",
       "    <tr>\n",
       "      <th>4</th>\n",
       "      <td>2019-08-05</td>\n",
       "      <td>A</td>\n",
       "      <td>756</td>\n",
       "    </tr>\n",
       "    <tr>\n",
       "      <th>...</th>\n",
       "      <td>...</td>\n",
       "      <td>...</td>\n",
       "      <td>...</td>\n",
       "    </tr>\n",
       "    <tr>\n",
       "      <th>57</th>\n",
       "      <td>2019-08-27</td>\n",
       "      <td>B</td>\n",
       "      <td>720</td>\n",
       "    </tr>\n",
       "    <tr>\n",
       "      <th>58</th>\n",
       "      <td>2019-08-28</td>\n",
       "      <td>B</td>\n",
       "      <td>654</td>\n",
       "    </tr>\n",
       "    <tr>\n",
       "      <th>59</th>\n",
       "      <td>2019-08-29</td>\n",
       "      <td>B</td>\n",
       "      <td>531</td>\n",
       "    </tr>\n",
       "    <tr>\n",
       "      <th>60</th>\n",
       "      <td>2019-08-30</td>\n",
       "      <td>B</td>\n",
       "      <td>490</td>\n",
       "    </tr>\n",
       "    <tr>\n",
       "      <th>61</th>\n",
       "      <td>2019-08-31</td>\n",
       "      <td>B</td>\n",
       "      <td>718</td>\n",
       "    </tr>\n",
       "  </tbody>\n",
       "</table>\n",
       "<p>62 rows × 3 columns</p>\n",
       "</div>"
      ],
      "text/plain": [
       "         date group  visits\n",
       "0  2019-08-01  A     719   \n",
       "1  2019-08-02  A     619   \n",
       "2  2019-08-03  A     507   \n",
       "3  2019-08-04  A     717   \n",
       "4  2019-08-05  A     756   \n",
       "..        ... ..     ...   \n",
       "57 2019-08-27  B     720   \n",
       "58 2019-08-28  B     654   \n",
       "59 2019-08-29  B     531   \n",
       "60 2019-08-30  B     490   \n",
       "61 2019-08-31  B     718   \n",
       "\n",
       "[62 rows x 3 columns]"
      ]
     },
     "execution_count": 25,
     "metadata": {},
     "output_type": "execute_result"
    }
   ],
   "source": [
    "visits"
   ]
  },
  {
   "cell_type": "code",
   "execution_count": 26,
   "metadata": {},
   "outputs": [
    {
     "data": {
      "text/html": [
       "<div>\n",
       "<style scoped>\n",
       "    .dataframe tbody tr th:only-of-type {\n",
       "        vertical-align: middle;\n",
       "    }\n",
       "\n",
       "    .dataframe tbody tr th {\n",
       "        vertical-align: top;\n",
       "    }\n",
       "\n",
       "    .dataframe thead th {\n",
       "        text-align: right;\n",
       "    }\n",
       "</style>\n",
       "<table border=\"1\" class=\"dataframe\">\n",
       "  <thead>\n",
       "    <tr style=\"text-align: right;\">\n",
       "      <th></th>\n",
       "      <th>date</th>\n",
       "      <th>group</th>\n",
       "      <th>orders</th>\n",
       "      <th>buyers</th>\n",
       "      <th>revenue</th>\n",
       "      <th>visitors</th>\n",
       "    </tr>\n",
       "  </thead>\n",
       "  <tbody>\n",
       "    <tr>\n",
       "      <th>0</th>\n",
       "      <td>2019-08-01</td>\n",
       "      <td>A</td>\n",
       "      <td>23</td>\n",
       "      <td>19</td>\n",
       "      <td>2266.6</td>\n",
       "      <td>719</td>\n",
       "    </tr>\n",
       "    <tr>\n",
       "      <th>1</th>\n",
       "      <td>2019-08-01</td>\n",
       "      <td>B</td>\n",
       "      <td>17</td>\n",
       "      <td>17</td>\n",
       "      <td>967.2</td>\n",
       "      <td>713</td>\n",
       "    </tr>\n",
       "    <tr>\n",
       "      <th>2</th>\n",
       "      <td>2019-08-02</td>\n",
       "      <td>A</td>\n",
       "      <td>42</td>\n",
       "      <td>36</td>\n",
       "      <td>3734.9</td>\n",
       "      <td>1338</td>\n",
       "    </tr>\n",
       "    <tr>\n",
       "      <th>3</th>\n",
       "      <td>2019-08-02</td>\n",
       "      <td>B</td>\n",
       "      <td>40</td>\n",
       "      <td>39</td>\n",
       "      <td>3535.3</td>\n",
       "      <td>1294</td>\n",
       "    </tr>\n",
       "    <tr>\n",
       "      <th>4</th>\n",
       "      <td>2019-08-03</td>\n",
       "      <td>A</td>\n",
       "      <td>66</td>\n",
       "      <td>60</td>\n",
       "      <td>5550.1</td>\n",
       "      <td>1845</td>\n",
       "    </tr>\n",
       "    <tr>\n",
       "      <th>...</th>\n",
       "      <td>...</td>\n",
       "      <td>...</td>\n",
       "      <td>...</td>\n",
       "      <td>...</td>\n",
       "      <td>...</td>\n",
       "      <td>...</td>\n",
       "    </tr>\n",
       "    <tr>\n",
       "      <th>57</th>\n",
       "      <td>2019-08-29</td>\n",
       "      <td>B</td>\n",
       "      <td>510</td>\n",
       "      <td>490</td>\n",
       "      <td>74576.7</td>\n",
       "      <td>17708</td>\n",
       "    </tr>\n",
       "    <tr>\n",
       "      <th>58</th>\n",
       "      <td>2019-08-30</td>\n",
       "      <td>A</td>\n",
       "      <td>460</td>\n",
       "      <td>437</td>\n",
       "      <td>52363.7</td>\n",
       "      <td>18037</td>\n",
       "    </tr>\n",
       "    <tr>\n",
       "      <th>59</th>\n",
       "      <td>2019-08-30</td>\n",
       "      <td>B</td>\n",
       "      <td>531</td>\n",
       "      <td>511</td>\n",
       "      <td>77863.5</td>\n",
       "      <td>18198</td>\n",
       "    </tr>\n",
       "    <tr>\n",
       "      <th>60</th>\n",
       "      <td>2019-08-31</td>\n",
       "      <td>A</td>\n",
       "      <td>468</td>\n",
       "      <td>445</td>\n",
       "      <td>53212.0</td>\n",
       "      <td>18736</td>\n",
       "    </tr>\n",
       "    <tr>\n",
       "      <th>61</th>\n",
       "      <td>2019-08-31</td>\n",
       "      <td>B</td>\n",
       "      <td>548</td>\n",
       "      <td>528</td>\n",
       "      <td>79651.2</td>\n",
       "      <td>18916</td>\n",
       "    </tr>\n",
       "  </tbody>\n",
       "</table>\n",
       "<p>62 rows × 6 columns</p>\n",
       "</div>"
      ],
      "text/plain": [
       "         date group  orders  buyers  revenue  visitors\n",
       "0  2019-08-01  A     23      19      2266.6   719     \n",
       "1  2019-08-01  B     17      17      967.2    713     \n",
       "2  2019-08-02  A     42      36      3734.9   1338    \n",
       "3  2019-08-02  B     40      39      3535.3   1294    \n",
       "4  2019-08-03  A     66      60      5550.1   1845    \n",
       "..        ... ..     ..      ..         ...    ...    \n",
       "57 2019-08-29  B     510     490     74576.7  17708   \n",
       "58 2019-08-30  A     460     437     52363.7  18037   \n",
       "59 2019-08-30  B     531     511     77863.5  18198   \n",
       "60 2019-08-31  A     468     445     53212.0  18736   \n",
       "61 2019-08-31  B     548     528     79651.2  18916   \n",
       "\n",
       "[62 rows x 6 columns]"
      ]
     },
     "execution_count": 26,
     "metadata": {},
     "output_type": "execute_result"
    }
   ],
   "source": [
    "datesGroups = orders[['date','group']].drop_duplicates()\n",
    "\n",
    "ordersAggregated = datesGroups.apply(lambda x: orders[np.logical_and(orders['date'] <= x['date'], orders['group'] == x['group'])].agg({'date' : 'max', 'group' : 'max', 'transactionid' : pd.Series.nunique, 'visitorid' : pd.Series.nunique, 'revenue' : 'sum'}), axis=1).sort_values(by=['date','group'])\n",
    "\n",
    "visitorsAggregated = datesGroups.apply(lambda x: visits[np.logical_and(visits['date'] <= x['date'], visits['group'] == x['group'])].agg({'date' : 'max', 'group' : 'max', 'visits' : 'sum'}), axis=1).sort_values(by=['date','group'])\n",
    "\n",
    "cumulativeData = ordersAggregated.merge(visitorsAggregated, left_on=['date', 'group'], right_on=['date', 'group'])\n",
    "cumulativeData.columns = ['date', 'group', 'orders', 'buyers', 'revenue', 'visitors']\n",
    "\n",
    "cumulativeData"
   ]
  },
  {
   "cell_type": "code",
   "execution_count": 27,
   "metadata": {},
   "outputs": [
    {
     "data": {
      "image/png": "[encoded data removed]",
      "text/plain": [
       "<Figure size 1080x648 with 1 Axes>"
      ]
     },
     "metadata": {
      "needs_background": "light"
     },
     "output_type": "display_data"
    }
   ],
   "source": [
    "cumulativeRevenueA = cumulativeData[cumulativeData['group']=='A'][['date','revenue', 'orders']]\n",
    "\n",
    "# DataFrame with cumulative orders and cumulative revenue by day, group B\n",
    "cumulativeRevenueB = cumulativeData[cumulativeData['group']=='B'][['date','revenue', 'orders']]\n",
    "\n",
    "plt.figure(figsize=(15, 9))\n",
    "# Plotting the group A revenue graph \n",
    "plt.plot(cumulativeRevenueA['date'], cumulativeRevenueA['revenue'], label='A')\n",
    "\n",
    "# Plotting the group B revenue graph \n",
    "plt.plot(cumulativeRevenueB['date'], cumulativeRevenueB['revenue'], label='B')\n",
    "plt.xlabel('date')\n",
    "plt.ylabel('Cumulative revenue')\n",
    "plt.title('Cumulative revenue by group', fontsize =16 )\n",
    "plt.grid()\n",
    "\n",
    "plt.legend()\n",
    "\n",
    "plt.show()"
   ]
  },
  {
   "cell_type": "markdown",
   "metadata": {},
   "source": [
    "By looking at the cumulative revenue graph we can see that it started pretty much the same but since the last meeting point group B Climbs well above group A and maintains a constant distance.\n",
    "we can see a steep rise at group B around 2019-08-13 probably a very large purchase/s.\n",
    "could be as a result of a outlier will be checked ahead."
   ]
  },
  {
   "cell_type": "markdown",
   "metadata": {},
   "source": [
    "**2.2 Graph cumulative average order size by group.**"
   ]
  },
  {
   "cell_type": "code",
   "execution_count": 28,
   "metadata": {},
   "outputs": [
    {
     "data": {
      "image/png": "[encoded data removed]",
      "text/plain": [
       "<Figure size 1080x648 with 1 Axes>"
      ]
     },
     "metadata": {
      "needs_background": "light"
     },
     "output_type": "display_data"
    }
   ],
   "source": [
    "plt.figure(figsize=(15, 9))\n",
    "plt.title('Cumulative average order size by group', fontsize =16)\n",
    "\n",
    "plt.plot(cumulativeRevenueA['date'], cumulativeRevenueA['revenue']/cumulativeRevenueA['orders'], label='A')\n",
    "plt.plot(cumulativeRevenueB['date'], cumulativeRevenueB['revenue']/cumulativeRevenueB['orders'], label='B')\n",
    "\n",
    "plt.xlabel('date')\n",
    "plt.ylabel('Cumulative average')\n",
    "plt.grid()\n",
    "plt.legend()\n",
    "\n",
    "plt.show()"
   ]
  },
  {
   "cell_type": "markdown",
   "metadata": {},
   "source": [
    "The cumulative metrics of the A group are almost consistently lower than those of the B group. At the beginning of the test, fluctuation in avearage was observed in both groups similar to revenue. The graph stabilized only toward the end of the test.\n",
    "with same steep rise which Reinforces the claim of a large purchase that also seems to have greatly increased the average in Group B that is off course on top."
   ]
  },
  {
   "cell_type": "markdown",
   "metadata": {},
   "source": [
    "**2.3 Graph the relative difference in cumulative average order size for group B compared with group A.**"
   ]
  },
  {
   "cell_type": "code",
   "execution_count": 29,
   "metadata": {},
   "outputs": [
    {
     "data": {
      "image/png": "[encoded data removed]",
      "text/plain": [
       "<Figure size 1080x648 with 1 Axes>"
      ]
     },
     "metadata": {
      "needs_background": "light"
     },
     "output_type": "display_data"
    }
   ],
   "source": [
    "mergedCumulativeRevenue = cumulativeRevenueA.merge(cumulativeRevenueB, left_on='date', right_on='date', how='left', suffixes=['A', 'B'])\n",
    "rell_diff = (mergedCumulativeRevenue['revenueB']/mergedCumulativeRevenue['ordersB'])/(mergedCumulativeRevenue['revenueA']/mergedCumulativeRevenue['ordersA'])-1\n",
    "plt.rcParams['figure.figsize'] = (15,9)\n",
    "\n",
    "plt.title('Relative differnce in Cumulative average order', fontsize =16)\n",
    "# adding the X axis\n",
    "rell_diff.plot(x ='date')\n",
    "plt.ylabel('difference')\n",
    "plt.axhline(y=0, color='black', linestyle='--')\n",
    "plt.grid()\n",
    "# plotting a relative difference graph for the average purchase sizes\n",
    "\n",
    "\n",
    "plt.show()"
   ]
  },
  {
   "cell_type": "markdown",
   "metadata": {},
   "source": [
    "The A group almost consistently demonstrates worse revenue rates than the B group, and the difference is growing with time.\n",
    "actualy group B is even started below group A with -0.4 but passes it pretty fast with a small downhill at about the 10'th day which made group A go above it up until the 17-18'th day where group B is sky rockets and passing the  average of A by fare."
   ]
  },
  {
   "cell_type": "markdown",
   "metadata": {},
   "source": [
    "**2.4 Calculate each group's conversion rate as the ratio of orders to the number of visits for each day. Plot the daily conversion rates of the two groups and describe the difference.**"
   ]
  },
  {
   "cell_type": "code",
   "execution_count": 30,
   "metadata": {},
   "outputs": [
    {
     "data": {
      "image/png": "[encoded data removed]",
      "text/plain": [
       "<Figure size 1080x648 with 1 Axes>"
      ]
     },
     "metadata": {
      "needs_background": "light"
     },
     "output_type": "display_data"
    }
   ],
   "source": [
    "cumulativeData['conversion'] = cumulativeData['orders']/cumulativeData['visitors']\n",
    "\n",
    "# selecting data on group A \n",
    "cumulativeDataA = cumulativeData[cumulativeData['group']=='A']\n",
    "\n",
    "# selecting data on group B\n",
    "cumulativeDataB = cumulativeData[cumulativeData['group']=='B']\n",
    "\n",
    "# plotting the graphs\n",
    "plt.figure(figsize=(15, 9))\n",
    "plt.title('Cumulative daily conversion rates ', fontsize =16)\n",
    "plt.plot(cumulativeDataA['date'], cumulativeDataA['conversion'], label='A')\n",
    "plt.plot(cumulativeDataB['date'], cumulativeDataB['conversion'], label='B')\n",
    "plt.xlabel('date')\n",
    "plt.ylabel('Conversion rate')\n",
    "plt.grid()\n",
    "plt.legend()\n",
    "\n",
    "# setting the axes' scale\n",
    "plt.axis([pd.to_datetime('2019-08-01'), pd.to_datetime('2019-09-01'), 0, 0.04])\n",
    "plt.show()"
   ]
  },
  {
   "cell_type": "markdown",
   "metadata": {},
   "source": [
    "By looking at graph above it seems that the groups were fluctuating with better start to group A, but then the conversion rate of group B rose before stabilizing, while the conversion rate of group B dropped but then stabilized, too.\n",
    "with over 3% coversion for group B and under 3% coversion for group A."
   ]
  },
  {
   "cell_type": "markdown",
   "metadata": {},
   "source": [
    "**2.5 Plot a scatter chart of the number of orders per user.**"
   ]
  },
  {
   "cell_type": "code",
   "execution_count": 31,
   "metadata": {},
   "outputs": [
    {
     "data": {
      "image/png": "[encoded data removed]",
      "text/plain": [
       "<Figure size 1080x432 with 1 Axes>"
      ]
     },
     "metadata": {
      "needs_background": "light"
     },
     "output_type": "display_data"
    }
   ],
   "source": [
    "#calculating number of orders per user\n",
    "ord_usr = orders.groupby('visitorid')['transactionid'].count()\n",
    "\n",
    "ord_usr_a = orders_a.groupby(['visitorid'])['transactionid'].count()\n",
    "ord_usr_b = orders_b.groupby(['visitorid'])['transactionid'].count()\n",
    "\n",
    "#visualizing\n",
    "plt.rcParams['figure.figsize'] = (15,6)\n",
    "plt.title('Orders per user')\n",
    "ord_usr_a.plot(style ='*', label = 'Group A')\n",
    "ord_usr_b.plot(style ='.', label = 'Group B')\n",
    "plt.ylabel('orders')\n",
    "plt.xlabel('users')\n",
    "plt.legend()\n",
    "plt.show()"
   ]
  },
  {
   "cell_type": "markdown",
   "metadata": {},
   "source": [
    "Most of users had only 1 order.\n",
    "\n",
    "some users had 2 orders ad few ordered 3, thos are probably anomalies.\n",
    "\n",
    "we should think of ways to attract users come back and order more from us in shorter times.\n"
   ]
  },
  {
   "cell_type": "markdown",
   "metadata": {},
   "source": [
    "**2.6 Calculate the 95th and 99th percentiles for the number of orders per user. Define the point at which a data point becomes an anomaly.**"
   ]
  },
  {
   "cell_type": "code",
   "execution_count": 32,
   "metadata": {},
   "outputs": [
    {
     "data": {
      "text/html": [
       "<div>\n",
       "<style scoped>\n",
       "    .dataframe tbody tr th:only-of-type {\n",
       "        vertical-align: middle;\n",
       "    }\n",
       "\n",
       "    .dataframe tbody tr th {\n",
       "        vertical-align: top;\n",
       "    }\n",
       "\n",
       "    .dataframe thead th {\n",
       "        text-align: right;\n",
       "    }\n",
       "</style>\n",
       "<table border=\"1\" class=\"dataframe\">\n",
       "  <thead>\n",
       "    <tr style=\"text-align: right;\">\n",
       "      <th></th>\n",
       "      <th>visitorid</th>\n",
       "      <th>orders</th>\n",
       "    </tr>\n",
       "  </thead>\n",
       "  <tbody>\n",
       "    <tr>\n",
       "      <th>0</th>\n",
       "      <td>5114589</td>\n",
       "      <td>1</td>\n",
       "    </tr>\n",
       "    <tr>\n",
       "      <th>1</th>\n",
       "      <td>6958315</td>\n",
       "      <td>1</td>\n",
       "    </tr>\n",
       "    <tr>\n",
       "      <th>2</th>\n",
       "      <td>11685486</td>\n",
       "      <td>1</td>\n",
       "    </tr>\n",
       "    <tr>\n",
       "      <th>3</th>\n",
       "      <td>39475350</td>\n",
       "      <td>1</td>\n",
       "    </tr>\n",
       "    <tr>\n",
       "      <th>4</th>\n",
       "      <td>47206413</td>\n",
       "      <td>1</td>\n",
       "    </tr>\n",
       "    <tr>\n",
       "      <th>...</th>\n",
       "      <td>...</td>\n",
       "      <td>...</td>\n",
       "    </tr>\n",
       "    <tr>\n",
       "      <th>968</th>\n",
       "      <td>4259830713</td>\n",
       "      <td>1</td>\n",
       "    </tr>\n",
       "    <tr>\n",
       "      <th>969</th>\n",
       "      <td>4278982564</td>\n",
       "      <td>1</td>\n",
       "    </tr>\n",
       "    <tr>\n",
       "      <th>970</th>\n",
       "      <td>4279090005</td>\n",
       "      <td>1</td>\n",
       "    </tr>\n",
       "    <tr>\n",
       "      <th>971</th>\n",
       "      <td>4281247801</td>\n",
       "      <td>1</td>\n",
       "    </tr>\n",
       "    <tr>\n",
       "      <th>972</th>\n",
       "      <td>4283872382</td>\n",
       "      <td>1</td>\n",
       "    </tr>\n",
       "  </tbody>\n",
       "</table>\n",
       "<p>973 rows × 2 columns</p>\n",
       "</div>"
      ],
      "text/plain": [
       "      visitorid  orders\n",
       "0    5114589     1     \n",
       "1    6958315     1     \n",
       "2    11685486    1     \n",
       "3    39475350    1     \n",
       "4    47206413    1     \n",
       "..        ...   ..     \n",
       "968  4259830713  1     \n",
       "969  4278982564  1     \n",
       "970  4279090005  1     \n",
       "971  4281247801  1     \n",
       "972  4283872382  1     \n",
       "\n",
       "[973 rows x 2 columns]"
      ]
     },
     "execution_count": 32,
     "metadata": {},
     "output_type": "execute_result"
    }
   ],
   "source": [
    "orders_by_users= orders.drop(['group','revenue','date'], axis=1).groupby('visitorid', as_index=False).agg({'transactionid':'count'})\n",
    "orders_by_users.columns = ['visitorid','orders']\n",
    "orders_by_users"
   ]
  },
  {
   "cell_type": "code",
   "execution_count": 33,
   "metadata": {},
   "outputs": [
    {
     "name": "stdout",
     "output_type": "stream",
     "text": [
      "precentiles: 90%, 95%, 99%: [1. 1. 2.]\n"
     ]
    }
   ],
   "source": [
    "print('precentiles: 90%, 95%, 99%:', np.percentile(orders_by_users['orders'], [90,95,99]))"
   ]
  },
  {
   "cell_type": "markdown",
   "metadata": {},
   "source": [
    "This encourages our previous claim regarding anomalies only at the 99% precentile we had 2 orders.\n",
    "i will define users with more than 1 order as an anomaley."
   ]
  },
  {
   "cell_type": "markdown",
   "metadata": {},
   "source": [
    "**2.7 Plot a scatter chart of order prices.**"
   ]
  },
  {
   "cell_type": "code",
   "execution_count": 34,
   "metadata": {},
   "outputs": [
    {
     "data": {
      "image/png": "[encoded data removed]",
      "text/plain": [
       "<Figure size 1080x432 with 1 Axes>"
      ]
     },
     "metadata": {
      "needs_background": "light"
     },
     "output_type": "display_data"
    }
   ],
   "source": [
    "\n",
    "plt.rcParams['figure.figsize'] = (15,6)\n",
    "plt.title('Orders price')\n",
    "plt.scatter(orders_a['transactionid'], orders_a['revenue'], label='Group A', alpha = 0.5)\n",
    "plt.scatter(orders_b['transactionid'], orders_b['revenue'], label='Group B', alpha = 0.5)\n",
    "plt.ylabel('revenue')\n",
    "plt.xlabel('orders')\n",
    "plt.legend()\n",
    "plt.show()"
   ]
  },
  {
   "cell_type": "markdown",
   "metadata": {},
   "source": [
    "This graph can maybe tell us of how group B average order size suddenly rose and a one very large order of almost 20,000$ may be the cause."
   ]
  },
  {
   "cell_type": "code",
   "execution_count": 35,
   "metadata": {},
   "outputs": [
    {
     "data": {
      "image/png": "[encoded data removed]",
      "text/plain": [
       "<Figure size 1080x432 with 1 Axes>"
      ]
     },
     "metadata": {
      "needs_background": "light"
     },
     "output_type": "display_data"
    }
   ],
   "source": [
    "plt.rcParams['figure.figsize'] = (15,6)\n",
    "plt.title('Orders price')\n",
    "plt.scatter(orders_a['transactionid'], orders_a['revenue'], label='Group A', alpha = 0.5)\n",
    "plt.scatter(orders_b['transactionid'], orders_b['revenue'], label='Group B', alpha = 0.5)\n",
    "plt.ylabel('revenue')\n",
    "plt.xlabel('orders')\n",
    "plt.ylim(0,2000)\n",
    "plt.legend()\n",
    "plt.show()"
   ]
  },
  {
   "cell_type": "markdown",
   "metadata": {},
   "source": [
    "We can see that most order prices are far below 250 (closer to 0) that means orders on small amount of money and above there are some orders that are close to the 250 line and above and fewer orders prices are above them starting to look as anomalies."
   ]
  },
  {
   "cell_type": "code",
   "execution_count": 36,
   "metadata": {},
   "outputs": [
    {
     "data": {
      "image/png": "[encoded data removed]",
      "text/plain": [
       "<Figure size 1080x432 with 1 Axes>"
      ]
     },
     "metadata": {
      "needs_background": "light"
     },
     "output_type": "display_data"
    }
   ],
   "source": [
    "# the reviewer's cell:\n",
    "plt.rcParams['figure.figsize'] = (15,6)\n",
    "plt.title('Orders price')\n",
    "plt.scatter(orders_a['transactionid'], orders_a['revenue'], label='Group A', alpha = 0.5)\n",
    "plt.scatter(orders_b['transactionid'], orders_b['revenue'], label='Group B', alpha = 0.5)\n",
    "plt.ylabel('revenue')\n",
    "plt.xlabel('orders')\n",
    "plt.legend()\n",
    "plt.show()"
   ]
  },
  {
   "cell_type": "markdown",
   "metadata": {},
   "source": [
    "**2.8 Calculate the 95th and 99th percentiles of order prices. Define the point at which a data point becomes an anomaly.**"
   ]
  },
  {
   "cell_type": "code",
   "execution_count": 37,
   "metadata": {},
   "outputs": [
    {
     "name": "stdout",
     "output_type": "stream",
     "text": [
      "precentiles: 90%, 95%, 99%: [280.8   414.275 830.3  ]\n"
     ]
    }
   ],
   "source": [
    "print('precentiles: 90%, 95%, 99%:', np.percentile(orders['revenue'], [90,95,99]))"
   ]
  },
  {
   "cell_type": "markdown",
   "metadata": {},
   "source": [
    "* 90% of orders are less than 280.8$\n",
    "\n",
    "* 95% of orders are less than 414$\n",
    "\n",
    "* most of orders are less than 280 but there is 1% of orders that are even larger than 830$ \n",
    "\n",
    "by that information i will define orders over 414.275$ as an anomalies."
   ]
  },
  {
   "cell_type": "markdown",
   "metadata": {},
   "source": [
    "**2.9 Find the statistical significance of the difference in conversion between the groups using the raw data.** "
   ]
  },
  {
   "cell_type": "markdown",
   "metadata": {},
   "source": [
    "HO: Conversion rates are equal for both groups.\n",
    "\n",
    "H1: Conversion rates are not equal for both groups."
   ]
  },
  {
   "cell_type": "code",
   "execution_count": 38,
   "metadata": {
    "scrolled": true
   },
   "outputs": [
    {
     "name": "stdout",
     "output_type": "stream",
     "text": [
      "Relative gain:  0.160\n",
      "p.value:  0.011\n",
      "We reject the null hypothesis\n"
     ]
    },
    {
     "name": "stderr",
     "output_type": "stream",
     "text": [
      "/tmp/ipykernel_63/2755662708.py:3: UserWarning: Boolean Series key will be reindexed to match DataFrame index.\n",
      "  ordersByUsersA = orders[full_orders ['group']=='A'].groupby('visitorid', as_index=False).agg({'transactionid' : pd.Series.nunique})\n",
      "/tmp/ipykernel_63/2755662708.py:6: UserWarning: Boolean Series key will be reindexed to match DataFrame index.\n",
      "  ordersByUsersB = orders[full_orders ['group']=='B'].groupby('visitorid', as_index=False).agg({'transactionid' : pd.Series.nunique})\n"
     ]
    }
   ],
   "source": [
    "alpha = 0.05\n",
    "\n",
    "ordersByUsersA = orders[full_orders ['group']=='A'].groupby('visitorid', as_index=False).agg({'transactionid' : pd.Series.nunique})\n",
    "ordersByUsersA.columns = ['visitorid', 'transactionid']\n",
    "\n",
    "ordersByUsersB = orders[full_orders ['group']=='B'].groupby('visitorid', as_index=False).agg({'transactionid' : pd.Series.nunique})\n",
    "ordersByUsersB.columns = ['visitorid', 'transactionid']\n",
    "\n",
    "sampleA = pd.concat([ordersByUsersA['transactionid'],pd.Series(0, index=np.arange(visits[visits['group']=='A']['visits'].sum() - len(ordersByUsersA['transactionid'])), name='transactionid')],axis=0)\n",
    "\n",
    "sampleB = pd.concat([ordersByUsersB['transactionid'],pd.Series(0, index=np.arange(visits[visits['group']=='B']['visits'].sum() - len(ordersByUsersB['transactionid'])), name='transactionid')],axis=0)\n",
    "\n",
    "print('Relative gain: ', \"{0:.3f}\".format(sampleB.mean()/sampleA.mean()-1))\n",
    "\n",
    "result  = st.mannwhitneyu(sampleA, sampleB)[1]\n",
    "\n",
    "print('p.value: ', \"{0:.3f}\".format(result))\n",
    "\n",
    "if (result < alpha):\n",
    "      print('We reject the null hypothesis')\n",
    "else:\n",
    "      print(\"We can't reject the null hypothesis\") "
   ]
  },
  {
   "cell_type": "markdown",
   "metadata": {},
   "source": [
    "By looking at the raw data we can obtain that:\n",
    "\n",
    "* there is differnce between the groups and we reject the null hypothesis that they are the same.\n",
    "\n",
    "* the p value stands on 0.011 which is lower than 0.05.\n",
    "\n",
    "* Relative gain of group B is 16%."
   ]
  },
  {
   "cell_type": "markdown",
   "metadata": {},
   "source": [
    "**2.10 Find the statistical significance of the difference in average order size between the groups using the raw data.** "
   ]
  },
  {
   "cell_type": "markdown",
   "metadata": {},
   "source": [
    "HO: average order size are equal for both groups.\n",
    "\n",
    "H1: average order size are not equal for both groups."
   ]
  },
  {
   "cell_type": "code",
   "execution_count": 39,
   "metadata": {},
   "outputs": [
    {
     "name": "stdout",
     "output_type": "stream",
     "text": [
      "significance of difference  0.278\n",
      "p.value:  0.862\n",
      "We can't reject the null hypothesis\n"
     ]
    }
   ],
   "source": [
    "print('significance of difference ', '{0:.3f}'.format(orders[orders['group']=='B']['revenue'].mean()/orders[orders['group']=='A']['revenue'].mean()-1))\n",
    "\n",
    "result1 = st.mannwhitneyu(orders[orders['group']=='A']['revenue'], orders[orders['group']=='B']['revenue'])[1]\n",
    "\n",
    "print('p.value: ', '{0:.3f}'.format(result1))\n",
    "\n",
    "if (result1 < alpha):\n",
    "     print('We reject the null hypothesis')\n",
    "else:\n",
    "      print(\"We can't reject the null hypothesis\") "
   ]
  },
  {
   "cell_type": "markdown",
   "metadata": {},
   "source": [
    "By looking at the raw data we can obtain that:\n",
    "* The P-value is much higher than 0.05 so we cant reject the null hypothesis.\n",
    "\n",
    "* Average order size for group B is 27.8% bigger then group A average order size.\n",
    "\n",
    "\n",
    "\n"
   ]
  },
  {
   "cell_type": "markdown",
   "metadata": {},
   "source": [
    "**2.11 Find the statistical significance of the difference in conversion between the groups using the filtered data.** "
   ]
  },
  {
   "cell_type": "markdown",
   "metadata": {},
   "source": [
    "HO: Conversion rates without anomalies are equal for both groups.\n",
    "\n",
    "H1: Conversion rates without anomalies are not equal for both groups."
   ]
  },
  {
   "cell_type": "code",
   "execution_count": 40,
   "metadata": {},
   "outputs": [
    {
     "name": "stdout",
     "output_type": "stream",
     "text": [
      "568     113298937\n",
      "1099    148427295\n",
      "928     204675465\n",
      "33      249864742\n",
      "684     358944393\n",
      "Name: visitorid, dtype: int64\n",
      "(86,)\n"
     ]
    }
   ],
   "source": [
    "usersWithManyOrders = pd.concat([ordersByUsersA[ordersByUsersA['transactionid'] > 1]['visitorid'], ordersByUsersB[ordersByUsersB['transactionid'] > 1]['visitorid']], axis = 0)\n",
    "usersWithExpensiveOrders = orders[orders['revenue'] > 414.275]['visitorid']\n",
    "abnormalUsers = pd.concat([usersWithManyOrders, usersWithExpensiveOrders], axis = 0).drop_duplicates().sort_values()\n",
    "print(abnormalUsers.head())\n",
    "print(abnormalUsers.shape)"
   ]
  },
  {
   "cell_type": "markdown",
   "metadata": {},
   "source": [
    "86 users have been detected as cause to anomalies checkind data without them,"
   ]
  },
  {
   "cell_type": "code",
   "execution_count": 41,
   "metadata": {},
   "outputs": [
    {
     "name": "stdout",
     "output_type": "stream",
     "text": [
      "Relative gain:  0.174\n",
      "p.value:  0.016\n",
      "We reject the null hypothesis\n"
     ]
    }
   ],
   "source": [
    "sampleAFiltered = pd.concat([ordersByUsersA[np.logical_not(ordersByUsersA['visitorid'].isin(abnormalUsers))]['transactionid'],pd.Series(0, index=np.arange(visits[visits['group']=='A']['visits'].sum() - len(ordersByUsersA['transactionid'])),name='transactionid')],axis=0)\n",
    "\n",
    "sampleBFiltered = pd.concat([ordersByUsersB[np.logical_not(ordersByUsersB['visitorid'].isin(abnormalUsers))]['transactionid'],pd.Series(0, index=np.arange(visits[visits['group']=='B']['visits'].sum() - len(ordersByUsersB['transactionid'])),name='transactionid')],axis=0)\n",
    "print('Relative gain: ', \"{0:.3f}\".format(sampleBFiltered.mean()/sampleAFiltered.mean()-1))\n",
    "\n",
    "result2  = st.mannwhitneyu(sampleAFiltered, sampleBFiltered)[1]\n",
    "\n",
    "print('p.value: ', \"{0:.3f}\".format(result2))\n",
    "\n",
    "if (result2 < alpha):\n",
    "      print('We reject the null hypothesis')\n",
    "else:\n",
    "      print(\"We can't reject the null hypothesis\") "
   ]
  },
  {
   "cell_type": "markdown",
   "metadata": {},
   "source": [
    "Results of old test \n",
    "Relative gain:  0.160\n",
    "p-value:  0.011\n",
    "We reject the null hypothesis\n",
    "\n",
    "new test:\n",
    "we can see that null hyptoesis is still rejected although p. value has slightly increased.\n",
    "Relative gain rose to 17.4%\n",
    "groups has differnces between them."
   ]
  },
  {
   "cell_type": "markdown",
   "metadata": {},
   "source": [
    "**2.12 Find the statistical significance of the difference in average order size between the groups using the filtered data.** "
   ]
  },
  {
   "cell_type": "markdown",
   "metadata": {},
   "source": [
    "HO: average order size without anomalies are equal for both groups.\n",
    "\n",
    "H1: average order size  without anomalies are not equal for both groups."
   ]
  },
  {
   "cell_type": "code",
   "execution_count": 42,
   "metadata": {},
   "outputs": [
    {
     "name": "stdout",
     "output_type": "stream",
     "text": [
      "significance of difference  -0.033\n",
      "p.value:  0.771\n",
      "We can't reject the null hypothesis\n"
     ]
    }
   ],
   "source": [
    "print('significance of difference ', '{0:.3f}'.format(orders[np.logical_and(orders['group']=='B',np.logical_not(orders['visitorid'].isin(abnormalUsers)))]['revenue'].mean()/\n",
    "orders[np.logical_and(orders['group']=='A',np.logical_not(orders['visitorid'].isin(abnormalUsers)))]['revenue'].mean() - 1))\n",
    "result3 = st.mannwhitneyu(orders[np.logical_and(orders['group']=='A',np.logical_not(orders['visitorid'].isin(abnormalUsers)))]['revenue'],orders[np.logical_and(orders['group']=='B',np.logical_not(orders['visitorid'].isin(abnormalUsers)))]['revenue'])[1]\n",
    "\n",
    "print('p.value: ', '{0:.3f}'.format(result3))\n",
    "\n",
    "if (result3 < alpha):\n",
    "     print('We reject the null hypothesis')\n",
    "else:\n",
    "      print(\"We can't reject the null hypothesis\") "
   ]
  },
  {
   "cell_type": "markdown",
   "metadata": {},
   "source": [
    "old results:\n",
    "significance of difference  0.278\n",
    "p.value:  0.862\n",
    "We can't reject the null hypothesis\n",
    "\n",
    "* we still can't reject the null hypothesis p-value has sligthly decreaced bit not in a way that will affect the results.\n",
    "\n",
    "*  the significance of difference has changed a lot without anomlies a result of what we talked about early on a large purchase that been removed and put group a in a better position in terms of average order size. \n"
   ]
  },
  {
   "cell_type": "markdown",
   "metadata": {},
   "source": [
    "**2.13 Make a decision based on the test results. The possible decisions are:**\n",
    "1. Stop the test, consider one of the groups the leader.\n",
    "2. Stop the test, conclude that there is no difference between the groups.\n",
    "3. Continue the test."
   ]
  },
  {
   "cell_type": "markdown",
   "metadata": {},
   "source": [
    "Based on A/B test research i have decided to stop the test from thw following resaons:\n",
    "\n",
    "* strating from the end there is a statistically  difference in conversion between the groups that is occure by using raw data or the filtered data. meaning the conversion rate of group B is higher than conversion rate for group A, therefore group B can  improve our conversion rates.\n",
    "\n",
    "* as for average order size we can see that there is no statistically significant difference by using raw data or the filtered data. meaning we didn't effect the average order size.\n",
    "\n",
    "in cunclusion we can obtain that **group B presented better results** and our test can be declared as a success."
   ]
  }
 ],
 "metadata": {
  "ExecuteTimeLog": [
   {
    "duration": 460,
    "start_time": "2022-04-09T13:51:37.498Z"
   },
   {
    "duration": 12,
    "start_time": "2022-04-09T13:51:37.960Z"
   },
   {
    "duration": 21,
    "start_time": "2022-04-09T13:51:39.472Z"
   },
   {
    "duration": 14,
    "start_time": "2022-04-09T13:51:49.057Z"
   },
   {
    "duration": 11,
    "start_time": "2022-04-09T13:53:22.806Z"
   },
   {
    "duration": 7,
    "start_time": "2022-04-09T13:53:23.269Z"
   },
   {
    "duration": 11,
    "start_time": "2022-04-09T13:55:27.603Z"
   },
   {
    "duration": 8,
    "start_time": "2022-04-09T13:55:27.967Z"
   },
   {
    "duration": 11,
    "start_time": "2022-04-09T13:56:33.483Z"
   },
   {
    "duration": 2,
    "start_time": "2022-04-09T14:03:50.108Z"
   },
   {
    "duration": 17,
    "start_time": "2022-04-09T14:03:50.328Z"
   },
   {
    "duration": 3,
    "start_time": "2022-04-09T14:03:50.899Z"
   },
   {
    "duration": 9,
    "start_time": "2022-04-09T14:04:29.235Z"
   },
   {
    "duration": 74,
    "start_time": "2022-04-09T14:04:37.557Z"
   },
   {
    "duration": 3,
    "start_time": "2022-04-09T14:04:46.780Z"
   },
   {
    "duration": 3,
    "start_time": "2022-04-09T14:07:11.428Z"
   },
   {
    "duration": 2347,
    "start_time": "2022-04-09T14:10:05.634Z"
   },
   {
    "duration": 7,
    "start_time": "2022-04-09T14:10:50.009Z"
   },
   {
    "duration": 11,
    "start_time": "2022-04-09T14:11:08.117Z"
   },
   {
    "duration": 4,
    "start_time": "2022-04-09T14:11:20.783Z"
   },
   {
    "duration": 13,
    "start_time": "2022-04-09T14:11:21.893Z"
   },
   {
    "duration": 10,
    "start_time": "2022-04-09T14:11:39.374Z"
   },
   {
    "duration": 422,
    "start_time": "2022-04-09T14:11:49.493Z"
   },
   {
    "duration": 11,
    "start_time": "2022-04-09T14:11:49.918Z"
   },
   {
    "duration": 3,
    "start_time": "2022-04-09T14:11:49.931Z"
   },
   {
    "duration": 21,
    "start_time": "2022-04-09T14:11:49.935Z"
   },
   {
    "duration": 9,
    "start_time": "2022-04-09T14:11:49.958Z"
   },
   {
    "duration": 15,
    "start_time": "2022-04-09T14:11:49.969Z"
   },
   {
    "duration": 12,
    "start_time": "2022-04-09T14:11:49.986Z"
   },
   {
    "duration": 20,
    "start_time": "2022-04-09T14:11:50.000Z"
   },
   {
    "duration": 22,
    "start_time": "2022-04-09T14:11:50.038Z"
   },
   {
    "duration": 9,
    "start_time": "2022-04-09T14:12:19.030Z"
   },
   {
    "duration": 9,
    "start_time": "2022-04-09T14:12:19.722Z"
   },
   {
    "duration": 11,
    "start_time": "2022-04-09T14:12:20.736Z"
   },
   {
    "duration": 3,
    "start_time": "2022-04-09T14:12:25.115Z"
   },
   {
    "duration": 12,
    "start_time": "2022-04-09T14:12:26.036Z"
   },
   {
    "duration": 11,
    "start_time": "2022-04-09T14:13:12.157Z"
   },
   {
    "duration": 2,
    "start_time": "2022-04-09T14:14:06.018Z"
   },
   {
    "duration": 12,
    "start_time": "2022-04-09T14:14:06.223Z"
   },
   {
    "duration": 3,
    "start_time": "2022-04-09T14:14:06.473Z"
   },
   {
    "duration": 8,
    "start_time": "2022-04-09T14:14:06.755Z"
   },
   {
    "duration": 9,
    "start_time": "2022-04-09T14:14:07.052Z"
   },
   {
    "duration": 383,
    "start_time": "2022-04-09T14:14:12.089Z"
   },
   {
    "duration": 11,
    "start_time": "2022-04-09T14:14:12.474Z"
   },
   {
    "duration": 3,
    "start_time": "2022-04-09T14:14:12.487Z"
   },
   {
    "duration": 20,
    "start_time": "2022-04-09T14:14:12.492Z"
   },
   {
    "duration": 26,
    "start_time": "2022-04-09T14:14:12.514Z"
   },
   {
    "duration": 26,
    "start_time": "2022-04-09T14:14:12.542Z"
   },
   {
    "duration": 10,
    "start_time": "2022-04-09T14:14:12.570Z"
   },
   {
    "duration": 16,
    "start_time": "2022-04-09T14:14:12.582Z"
   },
   {
    "duration": 27,
    "start_time": "2022-04-09T14:14:12.600Z"
   },
   {
    "duration": 10,
    "start_time": "2022-04-09T14:14:12.629Z"
   },
   {
    "duration": 14,
    "start_time": "2022-04-09T14:15:40.151Z"
   },
   {
    "duration": 13,
    "start_time": "2022-04-09T14:17:44.149Z"
   },
   {
    "duration": 4,
    "start_time": "2022-04-09T14:18:46.961Z"
   },
   {
    "duration": 14,
    "start_time": "2022-04-09T14:18:52.059Z"
   },
   {
    "duration": 4,
    "start_time": "2022-04-09T14:19:38.953Z"
   },
   {
    "duration": 3,
    "start_time": "2022-04-09T14:19:50.877Z"
   },
   {
    "duration": 4,
    "start_time": "2022-04-09T14:20:18.407Z"
   },
   {
    "duration": 11,
    "start_time": "2022-04-09T14:26:21.378Z"
   },
   {
    "duration": 6,
    "start_time": "2022-04-09T14:26:56.154Z"
   },
   {
    "duration": 13,
    "start_time": "2022-04-09T14:27:02.758Z"
   },
   {
    "duration": 22,
    "start_time": "2022-04-09T14:27:25.359Z"
   },
   {
    "duration": 7,
    "start_time": "2022-04-09T14:27:53.759Z"
   },
   {
    "duration": 10,
    "start_time": "2022-04-09T14:28:03.672Z"
   },
   {
    "duration": 5,
    "start_time": "2022-04-09T14:28:48.371Z"
   },
   {
    "duration": 11,
    "start_time": "2022-04-09T14:28:58.973Z"
   },
   {
    "duration": 4,
    "start_time": "2022-04-09T14:29:44.098Z"
   },
   {
    "duration": 13,
    "start_time": "2022-04-09T14:29:45.102Z"
   },
   {
    "duration": 13,
    "start_time": "2022-04-09T14:30:22.339Z"
   },
   {
    "duration": 4,
    "start_time": "2022-04-09T14:31:15.254Z"
   },
   {
    "duration": 12,
    "start_time": "2022-04-09T14:31:16.180Z"
   },
   {
    "duration": 433,
    "start_time": "2022-04-09T14:31:27.528Z"
   },
   {
    "duration": 17,
    "start_time": "2022-04-09T14:31:27.963Z"
   },
   {
    "duration": 2,
    "start_time": "2022-04-09T14:31:27.982Z"
   },
   {
    "duration": 20,
    "start_time": "2022-04-09T14:31:27.987Z"
   },
   {
    "duration": 9,
    "start_time": "2022-04-09T14:31:28.009Z"
   },
   {
    "duration": 21,
    "start_time": "2022-04-09T14:31:28.020Z"
   },
   {
    "duration": 9,
    "start_time": "2022-04-09T14:31:28.043Z"
   },
   {
    "duration": 17,
    "start_time": "2022-04-09T14:31:28.054Z"
   },
   {
    "duration": 28,
    "start_time": "2022-04-09T14:31:28.073Z"
   },
   {
    "duration": 9,
    "start_time": "2022-04-09T14:31:28.104Z"
   },
   {
    "duration": 9,
    "start_time": "2022-04-09T14:31:28.115Z"
   },
   {
    "duration": 16,
    "start_time": "2022-04-09T14:31:28.126Z"
   },
   {
    "duration": 18,
    "start_time": "2022-04-09T14:31:28.144Z"
   },
   {
    "duration": 11,
    "start_time": "2022-04-09T14:31:28.164Z"
   },
   {
    "duration": 13,
    "start_time": "2022-04-09T14:31:28.176Z"
   },
   {
    "duration": 22,
    "start_time": "2022-04-09T14:31:28.191Z"
   },
   {
    "duration": 27,
    "start_time": "2022-04-09T14:31:28.215Z"
   },
   {
    "duration": 10,
    "start_time": "2022-04-09T14:31:28.244Z"
   },
   {
    "duration": 10,
    "start_time": "2022-04-09T14:31:28.256Z"
   },
   {
    "duration": 15,
    "start_time": "2022-04-09T14:31:28.268Z"
   },
   {
    "duration": 12,
    "start_time": "2022-04-09T14:31:28.285Z"
   },
   {
    "duration": 19,
    "start_time": "2022-04-09T14:31:28.298Z"
   },
   {
    "duration": 20,
    "start_time": "2022-04-09T14:31:28.319Z"
   },
   {
    "duration": 76,
    "start_time": "2022-04-09T14:37:18.812Z"
   },
   {
    "duration": 23,
    "start_time": "2022-04-09T14:37:36.717Z"
   },
   {
    "duration": 20,
    "start_time": "2022-04-09T14:39:58.000Z"
   },
   {
    "duration": 6,
    "start_time": "2022-04-10T07:22:23.969Z"
   },
   {
    "duration": 371,
    "start_time": "2022-04-10T07:22:29.694Z"
   },
   {
    "duration": 22,
    "start_time": "2022-04-10T07:22:30.067Z"
   },
   {
    "duration": 3,
    "start_time": "2022-04-10T07:22:30.091Z"
   },
   {
    "duration": 21,
    "start_time": "2022-04-10T07:22:30.095Z"
   },
   {
    "duration": 10,
    "start_time": "2022-04-10T07:22:30.118Z"
   },
   {
    "duration": 10,
    "start_time": "2022-04-10T07:22:30.130Z"
   },
   {
    "duration": 7,
    "start_time": "2022-04-10T07:22:30.142Z"
   },
   {
    "duration": 9,
    "start_time": "2022-04-10T07:22:30.157Z"
   },
   {
    "duration": 35,
    "start_time": "2022-04-10T07:22:30.168Z"
   },
   {
    "duration": 30,
    "start_time": "2022-04-10T07:22:30.204Z"
   },
   {
    "duration": 12,
    "start_time": "2022-04-10T07:22:30.236Z"
   },
   {
    "duration": 10,
    "start_time": "2022-04-10T07:22:30.250Z"
   },
   {
    "duration": 18,
    "start_time": "2022-04-10T07:22:30.261Z"
   },
   {
    "duration": 15,
    "start_time": "2022-04-10T07:22:30.281Z"
   },
   {
    "duration": 8,
    "start_time": "2022-04-10T07:22:30.298Z"
   },
   {
    "duration": 13,
    "start_time": "2022-04-10T07:22:30.307Z"
   },
   {
    "duration": 21,
    "start_time": "2022-04-10T07:22:30.321Z"
   },
   {
    "duration": 16,
    "start_time": "2022-04-10T07:22:30.344Z"
   },
   {
    "duration": 6,
    "start_time": "2022-04-10T07:22:30.362Z"
   },
   {
    "duration": 13,
    "start_time": "2022-04-10T07:22:30.370Z"
   },
   {
    "duration": 25,
    "start_time": "2022-04-10T07:22:30.385Z"
   },
   {
    "duration": 19,
    "start_time": "2022-04-10T07:22:30.412Z"
   },
   {
    "duration": 15,
    "start_time": "2022-04-10T07:22:30.433Z"
   },
   {
    "duration": 26,
    "start_time": "2022-04-10T07:22:30.451Z"
   },
   {
    "duration": 20,
    "start_time": "2022-04-10T07:22:30.480Z"
   },
   {
    "duration": 5,
    "start_time": "2022-04-10T07:22:30.502Z"
   },
   {
    "duration": 11,
    "start_time": "2022-04-10T07:22:35.257Z"
   },
   {
    "duration": 12,
    "start_time": "2022-04-10T07:24:33.812Z"
   },
   {
    "duration": 136,
    "start_time": "2022-04-10T07:38:50.095Z"
   },
   {
    "duration": 612,
    "start_time": "2022-04-10T07:39:09.180Z"
   },
   {
    "duration": 424,
    "start_time": "2022-04-10T07:39:34.898Z"
   },
   {
    "duration": 12,
    "start_time": "2022-04-10T07:39:35.324Z"
   },
   {
    "duration": 3,
    "start_time": "2022-04-10T07:39:35.826Z"
   },
   {
    "duration": 9,
    "start_time": "2022-04-10T07:39:36.245Z"
   },
   {
    "duration": 8,
    "start_time": "2022-04-10T07:39:36.554Z"
   },
   {
    "duration": 11,
    "start_time": "2022-04-10T07:39:37.003Z"
   },
   {
    "duration": 4,
    "start_time": "2022-04-10T07:39:37.658Z"
   },
   {
    "duration": 11,
    "start_time": "2022-04-10T07:39:38.337Z"
   },
   {
    "duration": 20,
    "start_time": "2022-04-10T07:39:38.783Z"
   },
   {
    "duration": 9,
    "start_time": "2022-04-10T07:39:39.669Z"
   },
   {
    "duration": 3,
    "start_time": "2022-04-10T07:39:40.184Z"
   },
   {
    "duration": 8,
    "start_time": "2022-04-10T07:39:40.870Z"
   },
   {
    "duration": 11,
    "start_time": "2022-04-10T07:39:41.618Z"
   },
   {
    "duration": 607,
    "start_time": "2022-04-10T07:39:45.154Z"
   },
   {
    "duration": 617,
    "start_time": "2022-04-10T07:40:12.273Z"
   },
   {
    "duration": 26,
    "start_time": "2022-04-10T07:52:30.199Z"
   },
   {
    "duration": 13,
    "start_time": "2022-04-10T07:53:02.007Z"
   },
   {
    "duration": 53,
    "start_time": "2022-04-10T11:07:14.994Z"
   },
   {
    "duration": 874,
    "start_time": "2022-04-10T11:07:20.741Z"
   },
   {
    "duration": 13,
    "start_time": "2022-04-10T11:07:21.618Z"
   },
   {
    "duration": 5,
    "start_time": "2022-04-10T11:07:21.633Z"
   },
   {
    "duration": 16,
    "start_time": "2022-04-10T11:07:21.640Z"
   },
   {
    "duration": 9,
    "start_time": "2022-04-10T11:07:21.658Z"
   },
   {
    "duration": 17,
    "start_time": "2022-04-10T11:07:21.668Z"
   },
   {
    "duration": 12,
    "start_time": "2022-04-10T11:07:21.687Z"
   },
   {
    "duration": 20,
    "start_time": "2022-04-10T11:07:21.701Z"
   },
   {
    "duration": 20,
    "start_time": "2022-04-10T11:07:21.740Z"
   },
   {
    "duration": 9,
    "start_time": "2022-04-10T11:07:21.762Z"
   },
   {
    "duration": 8,
    "start_time": "2022-04-10T11:07:21.773Z"
   },
   {
    "duration": 16,
    "start_time": "2022-04-10T11:07:21.783Z"
   },
   {
    "duration": 19,
    "start_time": "2022-04-10T11:07:21.800Z"
   },
   {
    "duration": 15,
    "start_time": "2022-04-10T11:07:21.822Z"
   },
   {
    "duration": 13,
    "start_time": "2022-04-10T11:07:21.839Z"
   },
   {
    "duration": 25,
    "start_time": "2022-04-10T11:07:21.854Z"
   },
   {
    "duration": 23,
    "start_time": "2022-04-10T11:07:21.881Z"
   },
   {
    "duration": 11,
    "start_time": "2022-04-10T11:07:21.906Z"
   },
   {
    "duration": 9,
    "start_time": "2022-04-10T11:07:21.919Z"
   },
   {
    "duration": 13,
    "start_time": "2022-04-10T11:07:21.930Z"
   },
   {
    "duration": 11,
    "start_time": "2022-04-10T11:07:21.945Z"
   },
   {
    "duration": 18,
    "start_time": "2022-04-10T11:07:21.958Z"
   },
   {
    "duration": 18,
    "start_time": "2022-04-10T11:07:21.978Z"
   },
   {
    "duration": 43,
    "start_time": "2022-04-10T11:07:21.997Z"
   },
   {
    "duration": 25,
    "start_time": "2022-04-10T11:07:22.042Z"
   },
   {
    "duration": 12,
    "start_time": "2022-04-10T11:07:22.069Z"
   },
   {
    "duration": 23,
    "start_time": "2022-04-10T11:07:22.083Z"
   },
   {
    "duration": 38,
    "start_time": "2022-04-10T11:07:22.107Z"
   },
   {
    "duration": 15,
    "start_time": "2022-04-10T11:07:22.146Z"
   },
   {
    "duration": 125,
    "start_time": "2022-04-10T11:07:22.163Z"
   },
   {
    "duration": 38,
    "start_time": "2022-04-10T11:09:14.815Z"
   },
   {
    "duration": 809,
    "start_time": "2022-04-10T11:09:46.644Z"
   },
   {
    "duration": 12,
    "start_time": "2022-04-10T11:09:47.455Z"
   },
   {
    "duration": 6,
    "start_time": "2022-04-10T11:09:47.469Z"
   },
   {
    "duration": 19,
    "start_time": "2022-04-10T11:09:47.477Z"
   },
   {
    "duration": 11,
    "start_time": "2022-04-10T11:09:47.498Z"
   },
   {
    "duration": 28,
    "start_time": "2022-04-10T11:09:47.511Z"
   },
   {
    "duration": 12,
    "start_time": "2022-04-10T11:09:47.542Z"
   },
   {
    "duration": 22,
    "start_time": "2022-04-10T11:09:47.557Z"
   },
   {
    "duration": 34,
    "start_time": "2022-04-10T11:09:47.581Z"
   },
   {
    "duration": 10,
    "start_time": "2022-04-10T11:09:47.618Z"
   },
   {
    "duration": 8,
    "start_time": "2022-04-10T11:09:47.631Z"
   },
   {
    "duration": 24,
    "start_time": "2022-04-10T11:09:47.641Z"
   },
   {
    "duration": 23,
    "start_time": "2022-04-10T11:09:47.667Z"
   },
   {
    "duration": 22,
    "start_time": "2022-04-10T11:09:47.693Z"
   },
   {
    "duration": 13,
    "start_time": "2022-04-10T11:09:47.717Z"
   },
   {
    "duration": 21,
    "start_time": "2022-04-10T11:09:47.731Z"
   },
   {
    "duration": 27,
    "start_time": "2022-04-10T11:09:47.753Z"
   },
   {
    "duration": 11,
    "start_time": "2022-04-10T11:09:47.782Z"
   },
   {
    "duration": 9,
    "start_time": "2022-04-10T11:09:47.794Z"
   },
   {
    "duration": 14,
    "start_time": "2022-04-10T11:09:47.805Z"
   },
   {
    "duration": 20,
    "start_time": "2022-04-10T11:09:47.821Z"
   },
   {
    "duration": 33,
    "start_time": "2022-04-10T11:09:47.843Z"
   },
   {
    "duration": 34,
    "start_time": "2022-04-10T11:09:47.878Z"
   },
   {
    "duration": 23,
    "start_time": "2022-04-10T11:09:47.914Z"
   },
   {
    "duration": 18,
    "start_time": "2022-04-10T11:09:47.939Z"
   },
   {
    "duration": 17,
    "start_time": "2022-04-10T11:09:47.958Z"
   },
   {
    "duration": 20,
    "start_time": "2022-04-10T11:09:47.977Z"
   },
   {
    "duration": 14,
    "start_time": "2022-04-10T11:09:48.001Z"
   },
   {
    "duration": 146,
    "start_time": "2022-04-10T11:09:48.016Z"
   },
   {
    "duration": 955,
    "start_time": "2022-04-10T11:10:37.656Z"
   },
   {
    "duration": 13,
    "start_time": "2022-04-10T11:10:38.614Z"
   },
   {
    "duration": 7,
    "start_time": "2022-04-10T11:10:38.628Z"
   },
   {
    "duration": 19,
    "start_time": "2022-04-10T11:10:38.638Z"
   },
   {
    "duration": 11,
    "start_time": "2022-04-10T11:10:38.659Z"
   },
   {
    "duration": 22,
    "start_time": "2022-04-10T11:10:38.672Z"
   },
   {
    "duration": 11,
    "start_time": "2022-04-10T11:10:38.696Z"
   },
   {
    "duration": 29,
    "start_time": "2022-04-10T11:10:38.710Z"
   },
   {
    "duration": 27,
    "start_time": "2022-04-10T11:10:38.741Z"
   },
   {
    "duration": 11,
    "start_time": "2022-04-10T11:10:38.771Z"
   },
   {
    "duration": 9,
    "start_time": "2022-04-10T11:10:38.784Z"
   },
   {
    "duration": 18,
    "start_time": "2022-04-10T11:10:38.795Z"
   },
   {
    "duration": 23,
    "start_time": "2022-04-10T11:10:38.814Z"
   },
   {
    "duration": 16,
    "start_time": "2022-04-10T11:10:38.838Z"
   },
   {
    "duration": 20,
    "start_time": "2022-04-10T11:10:38.856Z"
   },
   {
    "duration": 32,
    "start_time": "2022-04-10T11:10:38.878Z"
   },
   {
    "duration": 15,
    "start_time": "2022-04-10T11:10:38.912Z"
   },
   {
    "duration": 15,
    "start_time": "2022-04-10T11:10:38.930Z"
   },
   {
    "duration": 12,
    "start_time": "2022-04-10T11:10:38.947Z"
   },
   {
    "duration": 24,
    "start_time": "2022-04-10T11:10:38.961Z"
   },
   {
    "duration": 20,
    "start_time": "2022-04-10T11:10:38.987Z"
   },
   {
    "duration": 32,
    "start_time": "2022-04-10T11:10:39.009Z"
   },
   {
    "duration": 20,
    "start_time": "2022-04-10T11:10:39.043Z"
   },
   {
    "duration": 13,
    "start_time": "2022-04-10T11:10:39.065Z"
   },
   {
    "duration": 21,
    "start_time": "2022-04-10T11:10:39.079Z"
   },
   {
    "duration": 20,
    "start_time": "2022-04-10T11:10:39.101Z"
   },
   {
    "duration": 12,
    "start_time": "2022-04-10T11:10:39.138Z"
   },
   {
    "duration": 332,
    "start_time": "2022-04-10T11:10:39.154Z"
   },
   {
    "duration": 266,
    "start_time": "2022-04-10T11:12:03.256Z"
   },
   {
    "duration": 221,
    "start_time": "2022-04-10T11:12:41.945Z"
   },
   {
    "duration": 323,
    "start_time": "2022-04-10T11:13:16.518Z"
   },
   {
    "duration": 284,
    "start_time": "2022-04-10T11:13:40.847Z"
   },
   {
    "duration": 226,
    "start_time": "2022-04-10T11:14:19.575Z"
   },
   {
    "duration": 169,
    "start_time": "2022-04-10T11:26:32.201Z"
   },
   {
    "duration": 268,
    "start_time": "2022-04-10T11:27:12.912Z"
   },
   {
    "duration": 208,
    "start_time": "2022-04-10T11:27:40.652Z"
   },
   {
    "duration": 206,
    "start_time": "2022-04-10T11:29:57.999Z"
   },
   {
    "duration": 206,
    "start_time": "2022-04-10T11:36:39.018Z"
   },
   {
    "duration": 231,
    "start_time": "2022-04-10T11:38:03.152Z"
   },
   {
    "duration": 237,
    "start_time": "2022-04-10T11:38:25.997Z"
   },
   {
    "duration": 241,
    "start_time": "2022-04-10T11:38:32.834Z"
   },
   {
    "duration": 304,
    "start_time": "2022-04-10T11:39:44.456Z"
   },
   {
    "duration": 321,
    "start_time": "2022-04-10T11:39:54.402Z"
   },
   {
    "duration": 371,
    "start_time": "2022-04-10T11:43:46.499Z"
   },
   {
    "duration": 303,
    "start_time": "2022-04-10T11:46:42.945Z"
   },
   {
    "duration": 170,
    "start_time": "2022-04-10T11:48:11.642Z"
   },
   {
    "duration": 6,
    "start_time": "2022-04-10T11:52:16.674Z"
   },
   {
    "duration": 5,
    "start_time": "2022-04-10T11:52:26.509Z"
   },
   {
    "duration": 284,
    "start_time": "2022-04-10T11:52:39.907Z"
   },
   {
    "duration": 174,
    "start_time": "2022-04-10T12:38:51.911Z"
   },
   {
    "duration": 199,
    "start_time": "2022-04-10T12:39:52.377Z"
   },
   {
    "duration": 175,
    "start_time": "2022-04-10T12:40:14.352Z"
   },
   {
    "duration": 201,
    "start_time": "2022-04-10T12:41:13.052Z"
   },
   {
    "duration": 334,
    "start_time": "2022-04-10T12:42:03.668Z"
   },
   {
    "duration": 49,
    "start_time": "2022-04-11T11:40:04.234Z"
   },
   {
    "duration": 795,
    "start_time": "2022-04-11T11:40:30.421Z"
   },
   {
    "duration": 16,
    "start_time": "2022-04-11T11:40:31.218Z"
   },
   {
    "duration": 3,
    "start_time": "2022-04-11T11:40:31.236Z"
   },
   {
    "duration": 13,
    "start_time": "2022-04-11T11:40:31.242Z"
   },
   {
    "duration": 8,
    "start_time": "2022-04-11T11:40:31.257Z"
   },
   {
    "duration": 15,
    "start_time": "2022-04-11T11:40:31.266Z"
   },
   {
    "duration": 17,
    "start_time": "2022-04-11T11:40:31.282Z"
   },
   {
    "duration": 15,
    "start_time": "2022-04-11T11:40:31.300Z"
   },
   {
    "duration": 20,
    "start_time": "2022-04-11T11:40:31.317Z"
   },
   {
    "duration": 9,
    "start_time": "2022-04-11T11:40:31.340Z"
   },
   {
    "duration": 8,
    "start_time": "2022-04-11T11:40:31.351Z"
   },
   {
    "duration": 11,
    "start_time": "2022-04-11T11:40:31.361Z"
   },
   {
    "duration": 18,
    "start_time": "2022-04-11T11:40:31.374Z"
   },
   {
    "duration": 8,
    "start_time": "2022-04-11T11:40:31.394Z"
   },
   {
    "duration": 10,
    "start_time": "2022-04-11T11:40:31.408Z"
   },
   {
    "duration": 19,
    "start_time": "2022-04-11T11:40:31.420Z"
   },
   {
    "duration": 9,
    "start_time": "2022-04-11T11:40:31.441Z"
   },
   {
    "duration": 7,
    "start_time": "2022-04-11T11:40:31.452Z"
   },
   {
    "duration": 7,
    "start_time": "2022-04-11T11:40:31.460Z"
   },
   {
    "duration": 17,
    "start_time": "2022-04-11T11:40:31.469Z"
   },
   {
    "duration": 27,
    "start_time": "2022-04-11T11:40:31.487Z"
   },
   {
    "duration": 21,
    "start_time": "2022-04-11T11:40:31.516Z"
   },
   {
    "duration": 17,
    "start_time": "2022-04-11T11:40:31.539Z"
   },
   {
    "duration": 11,
    "start_time": "2022-04-11T11:40:31.558Z"
   },
   {
    "duration": 40,
    "start_time": "2022-04-11T11:40:31.570Z"
   },
   {
    "duration": 17,
    "start_time": "2022-04-11T11:40:31.612Z"
   },
   {
    "duration": 12,
    "start_time": "2022-04-11T11:40:31.631Z"
   },
   {
    "duration": 324,
    "start_time": "2022-04-11T11:40:31.646Z"
   },
   {
    "duration": 311,
    "start_time": "2022-04-11T11:40:31.972Z"
   },
   {
    "duration": 215,
    "start_time": "2022-04-11T11:40:32.284Z"
   },
   {
    "duration": 311,
    "start_time": "2022-04-11T11:40:32.502Z"
   },
   {
    "duration": 257,
    "start_time": "2022-04-11T11:40:32.815Z"
   },
   {
    "duration": 183,
    "start_time": "2022-04-11T11:40:33.074Z"
   },
   {
    "duration": 13,
    "start_time": "2022-04-11T11:47:08.043Z"
   },
   {
    "duration": 72,
    "start_time": "2022-04-11T11:48:47.575Z"
   },
   {
    "duration": 7,
    "start_time": "2022-04-11T11:49:00.173Z"
   },
   {
    "duration": 8,
    "start_time": "2022-04-11T11:49:14.488Z"
   },
   {
    "duration": 5,
    "start_time": "2022-04-11T11:49:33.787Z"
   },
   {
    "duration": 2151,
    "start_time": "2022-04-11T11:49:50.916Z"
   },
   {
    "duration": 848,
    "start_time": "2022-04-11T11:50:08.227Z"
   },
   {
    "duration": 4,
    "start_time": "2022-04-11T11:51:23.392Z"
   },
   {
    "duration": 175,
    "start_time": "2022-04-11T11:53:32.437Z"
   },
   {
    "duration": 5,
    "start_time": "2022-04-11T11:53:39.038Z"
   },
   {
    "duration": 812,
    "start_time": "2022-04-11T11:53:58.461Z"
   },
   {
    "duration": 596,
    "start_time": "2022-04-11T11:54:49.657Z"
   },
   {
    "duration": 11,
    "start_time": "2022-04-11T11:54:50.254Z"
   },
   {
    "duration": 4,
    "start_time": "2022-04-11T11:54:50.267Z"
   },
   {
    "duration": 13,
    "start_time": "2022-04-11T11:54:50.273Z"
   },
   {
    "duration": 20,
    "start_time": "2022-04-11T11:54:50.289Z"
   },
   {
    "duration": 13,
    "start_time": "2022-04-11T11:54:50.311Z"
   },
   {
    "duration": 9,
    "start_time": "2022-04-11T11:54:50.326Z"
   },
   {
    "duration": 14,
    "start_time": "2022-04-11T11:54:50.337Z"
   },
   {
    "duration": 22,
    "start_time": "2022-04-11T11:54:50.353Z"
   },
   {
    "duration": 9,
    "start_time": "2022-04-11T11:54:50.377Z"
   },
   {
    "duration": 23,
    "start_time": "2022-04-11T11:54:50.388Z"
   },
   {
    "duration": 14,
    "start_time": "2022-04-11T11:54:50.413Z"
   },
   {
    "duration": 16,
    "start_time": "2022-04-11T11:54:50.430Z"
   },
   {
    "duration": 7,
    "start_time": "2022-04-11T11:54:50.451Z"
   },
   {
    "duration": 14,
    "start_time": "2022-04-11T11:54:50.460Z"
   },
   {
    "duration": 19,
    "start_time": "2022-04-11T11:54:50.509Z"
   },
   {
    "duration": 10,
    "start_time": "2022-04-11T11:54:50.529Z"
   },
   {
    "duration": 8,
    "start_time": "2022-04-11T11:54:50.541Z"
   },
   {
    "duration": 7,
    "start_time": "2022-04-11T11:54:50.550Z"
   },
   {
    "duration": 16,
    "start_time": "2022-04-11T11:54:50.559Z"
   },
   {
    "duration": 38,
    "start_time": "2022-04-11T11:54:50.577Z"
   },
   {
    "duration": 23,
    "start_time": "2022-04-11T11:54:50.617Z"
   },
   {
    "duration": 21,
    "start_time": "2022-04-11T11:54:50.642Z"
   },
   {
    "duration": 45,
    "start_time": "2022-04-11T11:54:50.664Z"
   },
   {
    "duration": 13,
    "start_time": "2022-04-11T11:54:50.711Z"
   },
   {
    "duration": 13,
    "start_time": "2022-04-11T11:54:50.726Z"
   },
   {
    "duration": 10,
    "start_time": "2022-04-11T11:54:50.740Z"
   },
   {
    "duration": 367,
    "start_time": "2022-04-11T11:54:50.752Z"
   },
   {
    "duration": 322,
    "start_time": "2022-04-11T11:54:51.121Z"
   },
   {
    "duration": 242,
    "start_time": "2022-04-11T11:54:51.445Z"
   },
   {
    "duration": 308,
    "start_time": "2022-04-11T11:54:51.689Z"
   },
   {
    "duration": 265,
    "start_time": "2022-04-11T11:54:52.008Z"
   },
   {
    "duration": 184,
    "start_time": "2022-04-11T11:54:52.275Z"
   },
   {
    "duration": 897,
    "start_time": "2022-04-11T11:54:52.461Z"
   },
   {
    "duration": 0,
    "start_time": "2022-04-11T11:54:53.360Z"
   },
   {
    "duration": 5,
    "start_time": "2022-04-11T11:55:02.098Z"
   },
   {
    "duration": 169,
    "start_time": "2022-04-11T11:55:47.382Z"
   },
   {
    "duration": 5,
    "start_time": "2022-04-11T11:55:50.927Z"
   },
   {
    "duration": 9,
    "start_time": "2022-04-11T11:56:11.751Z"
   },
   {
    "duration": 161,
    "start_time": "2022-04-11T11:56:26.155Z"
   },
   {
    "duration": 5,
    "start_time": "2022-04-11T11:56:27.272Z"
   },
   {
    "duration": 787,
    "start_time": "2022-04-11T11:56:31.810Z"
   },
   {
    "duration": 46,
    "start_time": "2022-04-13T09:44:23.845Z"
   },
   {
    "duration": 836,
    "start_time": "2022-04-13T09:44:33.332Z"
   },
   {
    "duration": 46,
    "start_time": "2022-04-13T09:44:34.170Z"
   },
   {
    "duration": 3,
    "start_time": "2022-04-13T09:44:34.217Z"
   },
   {
    "duration": 16,
    "start_time": "2022-04-13T09:44:34.222Z"
   },
   {
    "duration": 7,
    "start_time": "2022-04-13T09:44:34.240Z"
   },
   {
    "duration": 17,
    "start_time": "2022-04-13T09:44:34.249Z"
   },
   {
    "duration": 12,
    "start_time": "2022-04-13T09:44:34.268Z"
   },
   {
    "duration": 14,
    "start_time": "2022-04-13T09:44:34.282Z"
   },
   {
    "duration": 76,
    "start_time": "2022-04-13T09:44:34.297Z"
   },
   {
    "duration": 8,
    "start_time": "2022-04-13T09:44:34.376Z"
   },
   {
    "duration": 7,
    "start_time": "2022-04-13T09:44:34.386Z"
   },
   {
    "duration": 13,
    "start_time": "2022-04-13T09:44:34.394Z"
   },
   {
    "duration": 12,
    "start_time": "2022-04-13T09:44:34.409Z"
   },
   {
    "duration": 5,
    "start_time": "2022-04-13T09:44:34.422Z"
   },
   {
    "duration": 13,
    "start_time": "2022-04-13T09:44:34.429Z"
   },
   {
    "duration": 19,
    "start_time": "2022-04-13T09:44:34.444Z"
   },
   {
    "duration": 43,
    "start_time": "2022-04-13T09:44:34.464Z"
   },
   {
    "duration": 7,
    "start_time": "2022-04-13T09:44:34.508Z"
   },
   {
    "duration": 7,
    "start_time": "2022-04-13T09:44:34.517Z"
   },
   {
    "duration": 17,
    "start_time": "2022-04-13T09:44:34.525Z"
   },
   {
    "duration": 13,
    "start_time": "2022-04-13T09:44:34.543Z"
   },
   {
    "duration": 27,
    "start_time": "2022-04-13T09:44:34.557Z"
   },
   {
    "duration": 28,
    "start_time": "2022-04-13T09:44:34.585Z"
   },
   {
    "duration": 11,
    "start_time": "2022-04-13T09:44:34.615Z"
   },
   {
    "duration": 11,
    "start_time": "2022-04-13T09:44:34.628Z"
   },
   {
    "duration": 13,
    "start_time": "2022-04-13T09:44:34.640Z"
   },
   {
    "duration": 13,
    "start_time": "2022-04-13T09:44:34.655Z"
   },
   {
    "duration": 322,
    "start_time": "2022-04-13T09:44:34.671Z"
   },
   {
    "duration": 298,
    "start_time": "2022-04-13T09:44:34.995Z"
   },
   {
    "duration": 212,
    "start_time": "2022-04-13T09:44:35.295Z"
   },
   {
    "duration": 330,
    "start_time": "2022-04-13T09:44:35.509Z"
   },
   {
    "duration": 236,
    "start_time": "2022-04-13T09:44:35.841Z"
   },
   {
    "duration": 160,
    "start_time": "2022-04-13T09:44:36.078Z"
   },
   {
    "duration": 6,
    "start_time": "2022-04-13T09:44:36.240Z"
   },
   {
    "duration": 88,
    "start_time": "2022-04-13T09:44:36.247Z"
   },
   {
    "duration": 0,
    "start_time": "2022-04-13T09:44:36.337Z"
   },
   {
    "duration": 0,
    "start_time": "2022-04-13T09:44:36.338Z"
   },
   {
    "duration": 7,
    "start_time": "2022-04-13T09:44:44.589Z"
   },
   {
    "duration": 151,
    "start_time": "2022-04-13T09:46:35.388Z"
   },
   {
    "duration": 5,
    "start_time": "2022-04-13T09:46:36.525Z"
   },
   {
    "duration": 7,
    "start_time": "2022-04-13T09:46:49.768Z"
   },
   {
    "duration": 5,
    "start_time": "2022-04-13T09:46:50.300Z"
   },
   {
    "duration": 8,
    "start_time": "2022-04-13T09:47:04.045Z"
   },
   {
    "duration": 5,
    "start_time": "2022-04-13T09:47:04.498Z"
   },
   {
    "duration": 13,
    "start_time": "2022-04-13T09:47:22.157Z"
   },
   {
    "duration": 5,
    "start_time": "2022-04-13T09:51:52.206Z"
   },
   {
    "duration": 172,
    "start_time": "2022-04-13T09:55:15.391Z"
   },
   {
    "duration": 144,
    "start_time": "2022-04-13T09:55:44.630Z"
   },
   {
    "duration": 169,
    "start_time": "2022-04-13T09:55:52.045Z"
   },
   {
    "duration": 202,
    "start_time": "2022-04-13T10:01:21.147Z"
   },
   {
    "duration": 170,
    "start_time": "2022-04-13T10:48:21.728Z"
   },
   {
    "duration": 183,
    "start_time": "2022-04-13T10:48:33.198Z"
   },
   {
    "duration": 184,
    "start_time": "2022-04-13T10:48:43.995Z"
   },
   {
    "duration": 5,
    "start_time": "2022-04-13T10:55:16.200Z"
   },
   {
    "duration": 17,
    "start_time": "2022-04-13T11:25:49.738Z"
   },
   {
    "duration": 9,
    "start_time": "2022-04-13T11:26:14.272Z"
   },
   {
    "duration": 1257,
    "start_time": "2022-04-13T11:36:23.997Z"
   },
   {
    "duration": 200,
    "start_time": "2022-04-13T11:36:42.017Z"
   },
   {
    "duration": 189,
    "start_time": "2022-04-13T11:37:16.503Z"
   },
   {
    "duration": 134,
    "start_time": "2022-04-13T11:37:24.629Z"
   },
   {
    "duration": 139,
    "start_time": "2022-04-13T11:38:20.668Z"
   },
   {
    "duration": 123,
    "start_time": "2022-04-13T11:39:00.522Z"
   },
   {
    "duration": 1357,
    "start_time": "2022-04-13T11:39:08.416Z"
   },
   {
    "duration": 27,
    "start_time": "2022-04-13T11:39:09.775Z"
   },
   {
    "duration": 7,
    "start_time": "2022-04-13T11:39:09.803Z"
   },
   {
    "duration": 22,
    "start_time": "2022-04-13T11:39:09.812Z"
   },
   {
    "duration": 9,
    "start_time": "2022-04-13T11:39:09.836Z"
   },
   {
    "duration": 21,
    "start_time": "2022-04-13T11:39:09.846Z"
   },
   {
    "duration": 7,
    "start_time": "2022-04-13T11:39:09.868Z"
   },
   {
    "duration": 20,
    "start_time": "2022-04-13T11:39:09.876Z"
   },
   {
    "duration": 51,
    "start_time": "2022-04-13T11:39:09.898Z"
   },
   {
    "duration": 8,
    "start_time": "2022-04-13T11:39:09.951Z"
   },
   {
    "duration": 9,
    "start_time": "2022-04-13T11:39:09.961Z"
   },
   {
    "duration": 12,
    "start_time": "2022-04-13T11:39:09.971Z"
   },
   {
    "duration": 12,
    "start_time": "2022-04-13T11:39:09.985Z"
   },
   {
    "duration": 17,
    "start_time": "2022-04-13T11:39:10.000Z"
   },
   {
    "duration": 12,
    "start_time": "2022-04-13T11:39:10.019Z"
   },
   {
    "duration": 19,
    "start_time": "2022-04-13T11:39:10.032Z"
   },
   {
    "duration": 14,
    "start_time": "2022-04-13T11:39:10.053Z"
   },
   {
    "duration": 7,
    "start_time": "2022-04-13T11:39:10.068Z"
   },
   {
    "duration": 7,
    "start_time": "2022-04-13T11:39:10.076Z"
   },
   {
    "duration": 22,
    "start_time": "2022-04-13T11:39:10.084Z"
   },
   {
    "duration": 12,
    "start_time": "2022-04-13T11:39:10.108Z"
   },
   {
    "duration": 21,
    "start_time": "2022-04-13T11:39:10.121Z"
   },
   {
    "duration": 18,
    "start_time": "2022-04-13T11:39:10.144Z"
   },
   {
    "duration": 11,
    "start_time": "2022-04-13T11:39:10.164Z"
   },
   {
    "duration": 16,
    "start_time": "2022-04-13T11:39:10.203Z"
   },
   {
    "duration": 13,
    "start_time": "2022-04-13T11:39:10.221Z"
   },
   {
    "duration": 11,
    "start_time": "2022-04-13T11:39:10.236Z"
   },
   {
    "duration": 313,
    "start_time": "2022-04-13T11:39:10.248Z"
   },
   {
    "duration": 307,
    "start_time": "2022-04-13T11:39:10.562Z"
   },
   {
    "duration": 205,
    "start_time": "2022-04-13T11:39:10.871Z"
   },
   {
    "duration": 274,
    "start_time": "2022-04-13T11:39:11.078Z"
   },
   {
    "duration": 192,
    "start_time": "2022-04-13T11:39:11.354Z"
   },
   {
    "duration": 164,
    "start_time": "2022-04-13T11:39:11.548Z"
   },
   {
    "duration": 14,
    "start_time": "2022-04-13T11:39:11.714Z"
   },
   {
    "duration": 4,
    "start_time": "2022-04-13T11:39:11.729Z"
   },
   {
    "duration": 243,
    "start_time": "2022-04-13T11:39:11.734Z"
   },
   {
    "duration": 4,
    "start_time": "2022-04-13T11:39:11.978Z"
   },
   {
    "duration": 14,
    "start_time": "2022-04-13T11:39:11.984Z"
   },
   {
    "duration": 24,
    "start_time": "2022-04-13T11:39:12.000Z"
   },
   {
    "duration": 215,
    "start_time": "2022-04-13T11:39:12.026Z"
   },
   {
    "duration": 0,
    "start_time": "2022-04-13T11:39:12.242Z"
   },
   {
    "duration": 1151,
    "start_time": "2022-04-13T11:41:25.491Z"
   },
   {
    "duration": 15,
    "start_time": "2022-04-13T11:41:26.644Z"
   },
   {
    "duration": 2,
    "start_time": "2022-04-13T11:41:26.661Z"
   },
   {
    "duration": 12,
    "start_time": "2022-04-13T11:41:26.665Z"
   },
   {
    "duration": 7,
    "start_time": "2022-04-13T11:41:26.679Z"
   },
   {
    "duration": 25,
    "start_time": "2022-04-13T11:41:26.687Z"
   },
   {
    "duration": 10,
    "start_time": "2022-04-13T11:41:26.713Z"
   },
   {
    "duration": 12,
    "start_time": "2022-04-13T11:41:26.724Z"
   },
   {
    "duration": 37,
    "start_time": "2022-04-13T11:41:26.737Z"
   },
   {
    "duration": 8,
    "start_time": "2022-04-13T11:41:26.777Z"
   },
   {
    "duration": 5,
    "start_time": "2022-04-13T11:41:26.786Z"
   },
   {
    "duration": 17,
    "start_time": "2022-04-13T11:41:26.792Z"
   },
   {
    "duration": 19,
    "start_time": "2022-04-13T11:41:26.810Z"
   },
   {
    "duration": 6,
    "start_time": "2022-04-13T11:41:26.831Z"
   },
   {
    "duration": 13,
    "start_time": "2022-04-13T11:41:26.838Z"
   },
   {
    "duration": 20,
    "start_time": "2022-04-13T11:41:26.852Z"
   },
   {
    "duration": 14,
    "start_time": "2022-04-13T11:41:26.874Z"
   },
   {
    "duration": 6,
    "start_time": "2022-04-13T11:41:26.889Z"
   },
   {
    "duration": 10,
    "start_time": "2022-04-13T11:41:26.897Z"
   },
   {
    "duration": 17,
    "start_time": "2022-04-13T11:41:26.912Z"
   },
   {
    "duration": 12,
    "start_time": "2022-04-13T11:41:26.930Z"
   },
   {
    "duration": 23,
    "start_time": "2022-04-13T11:41:26.944Z"
   },
   {
    "duration": 17,
    "start_time": "2022-04-13T11:41:26.968Z"
   },
   {
    "duration": 28,
    "start_time": "2022-04-13T11:41:26.987Z"
   },
   {
    "duration": 18,
    "start_time": "2022-04-13T11:41:27.017Z"
   },
   {
    "duration": 17,
    "start_time": "2022-04-13T11:41:27.036Z"
   },
   {
    "duration": 14,
    "start_time": "2022-04-13T11:41:27.054Z"
   },
   {
    "duration": 300,
    "start_time": "2022-04-13T11:41:27.070Z"
   },
   {
    "duration": 290,
    "start_time": "2022-04-13T11:41:27.372Z"
   },
   {
    "duration": 216,
    "start_time": "2022-04-13T11:41:27.663Z"
   },
   {
    "duration": 268,
    "start_time": "2022-04-13T11:41:27.881Z"
   },
   {
    "duration": 201,
    "start_time": "2022-04-13T11:41:28.151Z"
   },
   {
    "duration": 173,
    "start_time": "2022-04-13T11:41:28.354Z"
   },
   {
    "duration": 13,
    "start_time": "2022-04-13T11:41:28.529Z"
   },
   {
    "duration": 3,
    "start_time": "2022-04-13T11:41:28.544Z"
   },
   {
    "duration": 248,
    "start_time": "2022-04-13T11:41:28.549Z"
   },
   {
    "duration": 8,
    "start_time": "2022-04-13T11:41:28.799Z"
   },
   {
    "duration": 16,
    "start_time": "2022-04-13T11:41:28.815Z"
   },
   {
    "duration": 11,
    "start_time": "2022-04-13T11:41:28.832Z"
   },
   {
    "duration": 218,
    "start_time": "2022-04-13T11:41:28.845Z"
   },
   {
    "duration": 0,
    "start_time": "2022-04-13T11:41:29.065Z"
   },
   {
    "duration": 3,
    "start_time": "2022-04-13T11:49:55.859Z"
   },
   {
    "duration": 135,
    "start_time": "2022-04-13T11:50:00.833Z"
   },
   {
    "duration": 176,
    "start_time": "2022-04-13T11:56:31.586Z"
   },
   {
    "duration": 1700,
    "start_time": "2022-04-13T16:21:06.135Z"
   },
   {
    "duration": 37,
    "start_time": "2022-04-13T16:21:07.839Z"
   },
   {
    "duration": 4,
    "start_time": "2022-04-13T16:21:07.879Z"
   },
   {
    "duration": 17,
    "start_time": "2022-04-13T16:21:07.887Z"
   },
   {
    "duration": 11,
    "start_time": "2022-04-13T16:21:07.907Z"
   },
   {
    "duration": 32,
    "start_time": "2022-04-13T16:21:07.920Z"
   },
   {
    "duration": 5,
    "start_time": "2022-04-13T16:21:07.954Z"
   },
   {
    "duration": 20,
    "start_time": "2022-04-13T16:21:07.961Z"
   },
   {
    "duration": 48,
    "start_time": "2022-04-13T16:21:07.983Z"
   },
   {
    "duration": 13,
    "start_time": "2022-04-13T16:21:08.035Z"
   },
   {
    "duration": 6,
    "start_time": "2022-04-13T16:21:08.052Z"
   },
   {
    "duration": 16,
    "start_time": "2022-04-13T16:21:08.060Z"
   },
   {
    "duration": 18,
    "start_time": "2022-04-13T16:21:08.078Z"
   },
   {
    "duration": 7,
    "start_time": "2022-04-13T16:21:08.098Z"
   },
   {
    "duration": 51,
    "start_time": "2022-04-13T16:21:08.107Z"
   },
   {
    "duration": 27,
    "start_time": "2022-04-13T16:21:08.160Z"
   },
   {
    "duration": 25,
    "start_time": "2022-04-13T16:21:08.189Z"
   },
   {
    "duration": 11,
    "start_time": "2022-04-13T16:21:08.216Z"
   },
   {
    "duration": 6,
    "start_time": "2022-04-13T16:21:08.229Z"
   },
   {
    "duration": 16,
    "start_time": "2022-04-13T16:21:08.252Z"
   },
   {
    "duration": 20,
    "start_time": "2022-04-13T16:21:08.270Z"
   },
   {
    "duration": 64,
    "start_time": "2022-04-13T16:21:08.292Z"
   },
   {
    "duration": 31,
    "start_time": "2022-04-13T16:21:08.359Z"
   },
   {
    "duration": 21,
    "start_time": "2022-04-13T16:21:08.392Z"
   },
   {
    "duration": 52,
    "start_time": "2022-04-13T16:21:08.415Z"
   },
   {
    "duration": 19,
    "start_time": "2022-04-13T16:21:08.469Z"
   },
   {
    "duration": 15,
    "start_time": "2022-04-13T16:21:08.491Z"
   },
   {
    "duration": 576,
    "start_time": "2022-04-13T16:21:08.511Z"
   },
   {
    "duration": 542,
    "start_time": "2022-04-13T16:21:09.089Z"
   },
   {
    "duration": 390,
    "start_time": "2022-04-13T16:21:09.633Z"
   },
   {
    "duration": 462,
    "start_time": "2022-04-13T16:21:10.026Z"
   },
   {
    "duration": 353,
    "start_time": "2022-04-13T16:21:10.490Z"
   },
   {
    "duration": 292,
    "start_time": "2022-04-13T16:21:10.851Z"
   },
   {
    "duration": 23,
    "start_time": "2022-04-13T16:21:11.145Z"
   },
   {
    "duration": 5,
    "start_time": "2022-04-13T16:21:11.170Z"
   },
   {
    "duration": 411,
    "start_time": "2022-04-13T16:21:11.177Z"
   },
   {
    "duration": 6,
    "start_time": "2022-04-13T16:21:11.591Z"
   },
   {
    "duration": 472,
    "start_time": "2022-04-13T16:21:11.599Z"
   },
   {
    "duration": 143,
    "start_time": "2022-04-13T16:23:04.281Z"
   },
   {
    "duration": 96,
    "start_time": "2022-04-13T16:23:46.466Z"
   },
   {
    "duration": 0,
    "start_time": "2022-04-13T16:23:46.565Z"
   },
   {
    "duration": 0,
    "start_time": "2022-04-13T16:23:46.566Z"
   },
   {
    "duration": 0,
    "start_time": "2022-04-13T16:23:46.568Z"
   },
   {
    "duration": 0,
    "start_time": "2022-04-13T16:23:46.569Z"
   },
   {
    "duration": 0,
    "start_time": "2022-04-13T16:23:46.571Z"
   },
   {
    "duration": 0,
    "start_time": "2022-04-13T16:23:46.573Z"
   },
   {
    "duration": 0,
    "start_time": "2022-04-13T16:23:46.574Z"
   },
   {
    "duration": 0,
    "start_time": "2022-04-13T16:23:46.576Z"
   },
   {
    "duration": 0,
    "start_time": "2022-04-13T16:23:46.577Z"
   },
   {
    "duration": 0,
    "start_time": "2022-04-13T16:23:46.578Z"
   },
   {
    "duration": 0,
    "start_time": "2022-04-13T16:23:46.580Z"
   },
   {
    "duration": 0,
    "start_time": "2022-04-13T16:23:46.581Z"
   },
   {
    "duration": 0,
    "start_time": "2022-04-13T16:23:46.583Z"
   },
   {
    "duration": 0,
    "start_time": "2022-04-13T16:23:46.584Z"
   },
   {
    "duration": 0,
    "start_time": "2022-04-13T16:23:46.585Z"
   },
   {
    "duration": 0,
    "start_time": "2022-04-13T16:23:46.587Z"
   },
   {
    "duration": 0,
    "start_time": "2022-04-13T16:23:46.588Z"
   },
   {
    "duration": 0,
    "start_time": "2022-04-13T16:23:46.589Z"
   },
   {
    "duration": 0,
    "start_time": "2022-04-13T16:23:46.591Z"
   },
   {
    "duration": 0,
    "start_time": "2022-04-13T16:23:46.592Z"
   },
   {
    "duration": 0,
    "start_time": "2022-04-13T16:23:46.594Z"
   },
   {
    "duration": 0,
    "start_time": "2022-04-13T16:23:46.596Z"
   },
   {
    "duration": 0,
    "start_time": "2022-04-13T16:23:46.597Z"
   },
   {
    "duration": 0,
    "start_time": "2022-04-13T16:23:46.599Z"
   },
   {
    "duration": 0,
    "start_time": "2022-04-13T16:23:46.653Z"
   },
   {
    "duration": 0,
    "start_time": "2022-04-13T16:23:46.654Z"
   },
   {
    "duration": 0,
    "start_time": "2022-04-13T16:23:46.656Z"
   },
   {
    "duration": 0,
    "start_time": "2022-04-13T16:23:46.657Z"
   },
   {
    "duration": 0,
    "start_time": "2022-04-13T16:23:46.659Z"
   },
   {
    "duration": 130,
    "start_time": "2022-04-13T16:23:46.664Z"
   },
   {
    "duration": 0,
    "start_time": "2022-04-13T16:23:46.796Z"
   },
   {
    "duration": 0,
    "start_time": "2022-04-13T16:23:46.798Z"
   },
   {
    "duration": 0,
    "start_time": "2022-04-13T16:23:46.852Z"
   },
   {
    "duration": 0,
    "start_time": "2022-04-13T16:23:46.854Z"
   },
   {
    "duration": 0,
    "start_time": "2022-04-13T16:23:46.855Z"
   },
   {
    "duration": 0,
    "start_time": "2022-04-13T16:23:46.857Z"
   },
   {
    "duration": 0,
    "start_time": "2022-04-13T16:23:46.858Z"
   },
   {
    "duration": 0,
    "start_time": "2022-04-13T16:23:46.859Z"
   },
   {
    "duration": 135,
    "start_time": "2022-04-13T16:25:22.393Z"
   },
   {
    "duration": 0,
    "start_time": "2022-04-13T16:25:22.533Z"
   },
   {
    "duration": 0,
    "start_time": "2022-04-13T16:25:22.535Z"
   },
   {
    "duration": 0,
    "start_time": "2022-04-13T16:25:22.537Z"
   },
   {
    "duration": 0,
    "start_time": "2022-04-13T16:25:22.539Z"
   },
   {
    "duration": 0,
    "start_time": "2022-04-13T16:25:22.541Z"
   },
   {
    "duration": 0,
    "start_time": "2022-04-13T16:25:22.543Z"
   },
   {
    "duration": 0,
    "start_time": "2022-04-13T16:25:22.544Z"
   },
   {
    "duration": 0,
    "start_time": "2022-04-13T16:25:22.546Z"
   },
   {
    "duration": 0,
    "start_time": "2022-04-13T16:25:22.547Z"
   },
   {
    "duration": 0,
    "start_time": "2022-04-13T16:25:22.548Z"
   },
   {
    "duration": 0,
    "start_time": "2022-04-13T16:25:22.549Z"
   },
   {
    "duration": 0,
    "start_time": "2022-04-13T16:25:22.550Z"
   },
   {
    "duration": 0,
    "start_time": "2022-04-13T16:25:22.552Z"
   },
   {
    "duration": 0,
    "start_time": "2022-04-13T16:25:22.553Z"
   },
   {
    "duration": 0,
    "start_time": "2022-04-13T16:25:22.554Z"
   },
   {
    "duration": 0,
    "start_time": "2022-04-13T16:25:22.555Z"
   },
   {
    "duration": 0,
    "start_time": "2022-04-13T16:25:22.556Z"
   },
   {
    "duration": 0,
    "start_time": "2022-04-13T16:25:22.558Z"
   },
   {
    "duration": 0,
    "start_time": "2022-04-13T16:25:22.559Z"
   },
   {
    "duration": 0,
    "start_time": "2022-04-13T16:25:22.560Z"
   },
   {
    "duration": 0,
    "start_time": "2022-04-13T16:25:22.562Z"
   },
   {
    "duration": 0,
    "start_time": "2022-04-13T16:25:22.563Z"
   },
   {
    "duration": 0,
    "start_time": "2022-04-13T16:25:22.564Z"
   },
   {
    "duration": 0,
    "start_time": "2022-04-13T16:25:22.566Z"
   },
   {
    "duration": 0,
    "start_time": "2022-04-13T16:25:22.568Z"
   },
   {
    "duration": 0,
    "start_time": "2022-04-13T16:25:22.570Z"
   },
   {
    "duration": 0,
    "start_time": "2022-04-13T16:25:22.572Z"
   },
   {
    "duration": 0,
    "start_time": "2022-04-13T16:25:22.573Z"
   },
   {
    "duration": 1,
    "start_time": "2022-04-13T16:25:22.574Z"
   },
   {
    "duration": 0,
    "start_time": "2022-04-13T16:25:22.576Z"
   },
   {
    "duration": 0,
    "start_time": "2022-04-13T16:25:22.577Z"
   },
   {
    "duration": 0,
    "start_time": "2022-04-13T16:25:22.579Z"
   },
   {
    "duration": 0,
    "start_time": "2022-04-13T16:25:22.581Z"
   },
   {
    "duration": 0,
    "start_time": "2022-04-13T16:25:22.582Z"
   },
   {
    "duration": 0,
    "start_time": "2022-04-13T16:25:22.584Z"
   },
   {
    "duration": 0,
    "start_time": "2022-04-13T16:25:22.586Z"
   },
   {
    "duration": 0,
    "start_time": "2022-04-13T16:25:22.587Z"
   },
   {
    "duration": 0,
    "start_time": "2022-04-13T16:25:22.589Z"
   },
   {
    "duration": 1429,
    "start_time": "2022-04-13T16:28:30.565Z"
   },
   {
    "duration": 13,
    "start_time": "2022-04-13T16:28:31.997Z"
   },
   {
    "duration": 5,
    "start_time": "2022-04-13T16:28:32.012Z"
   },
   {
    "duration": 35,
    "start_time": "2022-04-13T16:28:32.021Z"
   },
   {
    "duration": 16,
    "start_time": "2022-04-13T16:28:32.059Z"
   },
   {
    "duration": 21,
    "start_time": "2022-04-13T16:28:32.076Z"
   },
   {
    "duration": 15,
    "start_time": "2022-04-13T16:28:32.100Z"
   },
   {
    "duration": 45,
    "start_time": "2022-04-13T16:28:32.117Z"
   },
   {
    "duration": 28,
    "start_time": "2022-04-13T16:28:32.164Z"
   },
   {
    "duration": 19,
    "start_time": "2022-04-13T16:28:32.198Z"
   },
   {
    "duration": 9,
    "start_time": "2022-04-13T16:28:32.220Z"
   },
   {
    "duration": 29,
    "start_time": "2022-04-13T16:28:32.232Z"
   },
   {
    "duration": 17,
    "start_time": "2022-04-13T16:28:32.264Z"
   },
   {
    "duration": 12,
    "start_time": "2022-04-13T16:28:32.284Z"
   },
   {
    "duration": 23,
    "start_time": "2022-04-13T16:28:32.298Z"
   },
   {
    "duration": 51,
    "start_time": "2022-04-13T16:28:32.323Z"
   },
   {
    "duration": 11,
    "start_time": "2022-04-13T16:28:32.376Z"
   },
   {
    "duration": 12,
    "start_time": "2022-04-13T16:28:32.389Z"
   },
   {
    "duration": 7,
    "start_time": "2022-04-13T16:28:32.403Z"
   },
   {
    "duration": 50,
    "start_time": "2022-04-13T16:28:32.412Z"
   },
   {
    "duration": 17,
    "start_time": "2022-04-13T16:28:32.465Z"
   },
   {
    "duration": 38,
    "start_time": "2022-04-13T16:28:32.484Z"
   },
   {
    "duration": 54,
    "start_time": "2022-04-13T16:28:32.524Z"
   },
   {
    "duration": 17,
    "start_time": "2022-04-13T16:28:32.581Z"
   },
   {
    "duration": 50,
    "start_time": "2022-04-13T16:28:32.601Z"
   },
   {
    "duration": 18,
    "start_time": "2022-04-13T16:28:32.653Z"
   },
   {
    "duration": 18,
    "start_time": "2022-04-13T16:28:32.674Z"
   },
   {
    "duration": 554,
    "start_time": "2022-04-13T16:28:32.699Z"
   },
   {
    "duration": 541,
    "start_time": "2022-04-13T16:28:33.255Z"
   },
   {
    "duration": 390,
    "start_time": "2022-04-13T16:28:33.798Z"
   },
   {
    "duration": 429,
    "start_time": "2022-04-13T16:28:34.190Z"
   },
   {
    "duration": 347,
    "start_time": "2022-04-13T16:28:34.622Z"
   },
   {
    "duration": 422,
    "start_time": "2022-04-13T16:28:34.972Z"
   },
   {
    "duration": 21,
    "start_time": "2022-04-13T16:28:35.396Z"
   },
   {
    "duration": 7,
    "start_time": "2022-04-13T16:28:35.419Z"
   },
   {
    "duration": 425,
    "start_time": "2022-04-13T16:28:35.428Z"
   },
   {
    "duration": 6,
    "start_time": "2022-04-13T16:28:35.855Z"
   },
   {
    "duration": 316,
    "start_time": "2022-04-13T16:28:35.864Z"
   },
   {
    "duration": 14,
    "start_time": "2022-04-13T16:28:36.183Z"
   },
   {
    "duration": 1422,
    "start_time": "2022-04-13T16:30:57.456Z"
   },
   {
    "duration": 13,
    "start_time": "2022-04-13T16:30:58.881Z"
   },
   {
    "duration": 4,
    "start_time": "2022-04-13T16:30:58.896Z"
   },
   {
    "duration": 21,
    "start_time": "2022-04-13T16:30:58.902Z"
   },
   {
    "duration": 33,
    "start_time": "2022-04-13T16:30:58.926Z"
   },
   {
    "duration": 25,
    "start_time": "2022-04-13T16:30:58.963Z"
   },
   {
    "duration": 8,
    "start_time": "2022-04-13T16:30:58.991Z"
   },
   {
    "duration": 52,
    "start_time": "2022-04-13T16:30:59.002Z"
   },
   {
    "duration": 26,
    "start_time": "2022-04-13T16:30:59.057Z"
   },
   {
    "duration": 19,
    "start_time": "2022-04-13T16:30:59.086Z"
   },
   {
    "duration": 10,
    "start_time": "2022-04-13T16:30:59.107Z"
   },
   {
    "duration": 14,
    "start_time": "2022-04-13T16:30:59.119Z"
   },
   {
    "duration": 15,
    "start_time": "2022-04-13T16:30:59.152Z"
   },
   {
    "duration": 9,
    "start_time": "2022-04-13T16:30:59.174Z"
   },
   {
    "duration": 23,
    "start_time": "2022-04-13T16:30:59.185Z"
   },
   {
    "duration": 59,
    "start_time": "2022-04-13T16:30:59.211Z"
   },
   {
    "duration": 10,
    "start_time": "2022-04-13T16:30:59.273Z"
   },
   {
    "duration": 9,
    "start_time": "2022-04-13T16:30:59.286Z"
   },
   {
    "duration": 6,
    "start_time": "2022-04-13T16:30:59.298Z"
   },
   {
    "duration": 47,
    "start_time": "2022-04-13T16:30:59.306Z"
   },
   {
    "duration": 17,
    "start_time": "2022-04-13T16:30:59.356Z"
   },
   {
    "duration": 31,
    "start_time": "2022-04-13T16:30:59.375Z"
   },
   {
    "duration": 76,
    "start_time": "2022-04-13T16:30:59.408Z"
   },
   {
    "duration": 22,
    "start_time": "2022-04-13T16:30:59.487Z"
   },
   {
    "duration": 51,
    "start_time": "2022-04-13T16:30:59.512Z"
   },
   {
    "duration": 22,
    "start_time": "2022-04-13T16:30:59.565Z"
   },
   {
    "duration": 17,
    "start_time": "2022-04-13T16:30:59.589Z"
   },
   {
    "duration": 532,
    "start_time": "2022-04-13T16:30:59.608Z"
   },
   {
    "duration": 529,
    "start_time": "2022-04-13T16:31:00.142Z"
   },
   {
    "duration": 378,
    "start_time": "2022-04-13T16:31:00.673Z"
   },
   {
    "duration": 361,
    "start_time": "2022-04-13T16:31:01.054Z"
   },
   {
    "duration": 359,
    "start_time": "2022-04-13T16:31:01.417Z"
   },
   {
    "duration": 421,
    "start_time": "2022-04-13T16:31:01.779Z"
   },
   {
    "duration": 25,
    "start_time": "2022-04-13T16:31:02.203Z"
   },
   {
    "duration": 10,
    "start_time": "2022-04-13T16:31:02.251Z"
   },
   {
    "duration": 400,
    "start_time": "2022-04-13T16:31:02.264Z"
   },
   {
    "duration": 7,
    "start_time": "2022-04-13T16:31:02.667Z"
   },
   {
    "duration": 319,
    "start_time": "2022-04-13T16:31:02.678Z"
   },
   {
    "duration": 16,
    "start_time": "2022-04-13T16:31:02.999Z"
   },
   {
    "duration": 16,
    "start_time": "2022-04-13T16:41:17.051Z"
   },
   {
    "duration": 1662,
    "start_time": "2022-04-13T16:58:28.864Z"
   },
   {
    "duration": 1593,
    "start_time": "2022-04-13T16:58:57.796Z"
   },
   {
    "duration": 14,
    "start_time": "2022-04-13T16:59:54.181Z"
   },
   {
    "duration": 12,
    "start_time": "2022-04-13T17:00:25.456Z"
   },
   {
    "duration": 18,
    "start_time": "2022-04-13T17:00:41.286Z"
   },
   {
    "duration": 133,
    "start_time": "2022-04-13T17:01:08.798Z"
   },
   {
    "duration": 18,
    "start_time": "2022-04-13T17:01:18.554Z"
   },
   {
    "duration": 18,
    "start_time": "2022-04-13T17:11:35.393Z"
   },
   {
    "duration": 22,
    "start_time": "2022-04-13T17:12:01.857Z"
   },
   {
    "duration": 19,
    "start_time": "2022-04-13T17:12:25.104Z"
   },
   {
    "duration": 42,
    "start_time": "2022-04-13T17:13:10.606Z"
   },
   {
    "duration": 1537,
    "start_time": "2022-04-13T17:47:00.875Z"
   },
   {
    "duration": 12,
    "start_time": "2022-04-13T17:47:02.415Z"
   },
   {
    "duration": 4,
    "start_time": "2022-04-13T17:47:02.430Z"
   },
   {
    "duration": 32,
    "start_time": "2022-04-13T17:47:02.437Z"
   },
   {
    "duration": 11,
    "start_time": "2022-04-13T17:47:02.471Z"
   },
   {
    "duration": 19,
    "start_time": "2022-04-13T17:47:02.484Z"
   },
   {
    "duration": 6,
    "start_time": "2022-04-13T17:47:02.505Z"
   },
   {
    "duration": 40,
    "start_time": "2022-04-13T17:47:02.513Z"
   },
   {
    "duration": 30,
    "start_time": "2022-04-13T17:47:02.555Z"
   },
   {
    "duration": 16,
    "start_time": "2022-04-13T17:47:02.588Z"
   },
   {
    "duration": 5,
    "start_time": "2022-04-13T17:47:02.606Z"
   },
   {
    "duration": 15,
    "start_time": "2022-04-13T17:47:02.613Z"
   },
   {
    "duration": 33,
    "start_time": "2022-04-13T17:47:02.630Z"
   },
   {
    "duration": 7,
    "start_time": "2022-04-13T17:47:02.666Z"
   },
   {
    "duration": 21,
    "start_time": "2022-04-13T17:47:02.675Z"
   },
   {
    "duration": 55,
    "start_time": "2022-04-13T17:47:02.698Z"
   },
   {
    "duration": 11,
    "start_time": "2022-04-13T17:47:02.755Z"
   },
   {
    "duration": 10,
    "start_time": "2022-04-13T17:47:02.768Z"
   },
   {
    "duration": 6,
    "start_time": "2022-04-13T17:47:02.780Z"
   },
   {
    "duration": 17,
    "start_time": "2022-04-13T17:47:02.788Z"
   },
   {
    "duration": 49,
    "start_time": "2022-04-13T17:47:02.807Z"
   },
   {
    "duration": 33,
    "start_time": "2022-04-13T17:47:02.858Z"
   },
   {
    "duration": 59,
    "start_time": "2022-04-13T17:47:02.894Z"
   },
   {
    "duration": 21,
    "start_time": "2022-04-13T17:47:02.955Z"
   },
   {
    "duration": 19,
    "start_time": "2022-04-13T17:47:02.979Z"
   },
   {
    "duration": 56,
    "start_time": "2022-04-13T17:47:03.000Z"
   },
   {
    "duration": 16,
    "start_time": "2022-04-13T17:47:03.058Z"
   },
   {
    "duration": 523,
    "start_time": "2022-04-13T17:47:03.079Z"
   },
   {
    "duration": 516,
    "start_time": "2022-04-13T17:47:03.604Z"
   },
   {
    "duration": 368,
    "start_time": "2022-04-13T17:47:04.122Z"
   },
   {
    "duration": 399,
    "start_time": "2022-04-13T17:47:04.492Z"
   },
   {
    "duration": 348,
    "start_time": "2022-04-13T17:47:04.894Z"
   },
   {
    "duration": 295,
    "start_time": "2022-04-13T17:47:05.244Z"
   },
   {
    "duration": 24,
    "start_time": "2022-04-13T17:47:05.541Z"
   },
   {
    "duration": 5,
    "start_time": "2022-04-13T17:47:05.567Z"
   },
   {
    "duration": 427,
    "start_time": "2022-04-13T17:47:05.574Z"
   },
   {
    "duration": 6,
    "start_time": "2022-04-13T17:47:06.003Z"
   },
   {
    "duration": 286,
    "start_time": "2022-04-13T17:47:06.011Z"
   },
   {
    "duration": 16,
    "start_time": "2022-04-13T17:47:06.300Z"
   },
   {
    "duration": 37,
    "start_time": "2022-04-13T17:47:06.319Z"
   },
   {
    "duration": 42,
    "start_time": "2022-04-13T17:47:06.358Z"
   },
   {
    "duration": 40,
    "start_time": "2022-04-13T17:48:11.322Z"
   },
   {
    "duration": 153,
    "start_time": "2022-04-13T17:49:49.225Z"
   },
   {
    "duration": 40,
    "start_time": "2022-04-13T17:50:30.787Z"
   },
   {
    "duration": 84,
    "start_time": "2022-04-13T18:02:13.730Z"
   },
   {
    "duration": 20,
    "start_time": "2022-04-13T18:16:37.007Z"
   },
   {
    "duration": 23,
    "start_time": "2022-04-13T18:17:24.835Z"
   },
   {
    "duration": 61,
    "start_time": "2022-04-16T12:32:27.373Z"
   },
   {
    "duration": 1434,
    "start_time": "2022-04-16T12:32:33.790Z"
   },
   {
    "duration": 18,
    "start_time": "2022-04-16T12:32:35.226Z"
   },
   {
    "duration": 3,
    "start_time": "2022-04-16T12:32:35.246Z"
   },
   {
    "duration": 13,
    "start_time": "2022-04-16T12:32:35.251Z"
   },
   {
    "duration": 20,
    "start_time": "2022-04-16T12:32:35.266Z"
   },
   {
    "duration": 18,
    "start_time": "2022-04-16T12:32:35.296Z"
   },
   {
    "duration": 12,
    "start_time": "2022-04-16T12:32:35.316Z"
   },
   {
    "duration": 15,
    "start_time": "2022-04-16T12:32:35.329Z"
   },
   {
    "duration": 42,
    "start_time": "2022-04-16T12:32:35.346Z"
   },
   {
    "duration": 19,
    "start_time": "2022-04-16T12:32:35.391Z"
   },
   {
    "duration": 13,
    "start_time": "2022-04-16T12:32:35.412Z"
   },
   {
    "duration": 16,
    "start_time": "2022-04-16T12:32:35.427Z"
   },
   {
    "duration": 23,
    "start_time": "2022-04-16T12:32:35.445Z"
   },
   {
    "duration": 15,
    "start_time": "2022-04-16T12:32:35.469Z"
   },
   {
    "duration": 33,
    "start_time": "2022-04-16T12:32:35.485Z"
   },
   {
    "duration": 25,
    "start_time": "2022-04-16T12:32:35.521Z"
   },
   {
    "duration": 17,
    "start_time": "2022-04-16T12:32:35.548Z"
   },
   {
    "duration": 9,
    "start_time": "2022-04-16T12:32:35.567Z"
   },
   {
    "duration": 11,
    "start_time": "2022-04-16T12:32:35.577Z"
   },
   {
    "duration": 31,
    "start_time": "2022-04-16T12:32:35.590Z"
   },
   {
    "duration": 25,
    "start_time": "2022-04-16T12:32:35.623Z"
   },
   {
    "duration": 36,
    "start_time": "2022-04-16T12:32:35.650Z"
   },
   {
    "duration": 30,
    "start_time": "2022-04-16T12:32:35.688Z"
   },
   {
    "duration": 13,
    "start_time": "2022-04-16T12:32:35.720Z"
   },
   {
    "duration": 13,
    "start_time": "2022-04-16T12:32:35.734Z"
   },
   {
    "duration": 18,
    "start_time": "2022-04-16T12:32:35.749Z"
   },
   {
    "duration": 40,
    "start_time": "2022-04-16T12:32:35.769Z"
   },
   {
    "duration": 367,
    "start_time": "2022-04-16T12:32:35.814Z"
   },
   {
    "duration": 368,
    "start_time": "2022-04-16T12:32:36.183Z"
   },
   {
    "duration": 278,
    "start_time": "2022-04-16T12:32:36.553Z"
   },
   {
    "duration": 377,
    "start_time": "2022-04-16T12:32:36.833Z"
   },
   {
    "duration": 228,
    "start_time": "2022-04-16T12:32:37.212Z"
   },
   {
    "duration": 197,
    "start_time": "2022-04-16T12:32:37.442Z"
   },
   {
    "duration": 14,
    "start_time": "2022-04-16T12:32:37.641Z"
   },
   {
    "duration": 5,
    "start_time": "2022-04-16T12:32:37.656Z"
   },
   {
    "duration": 266,
    "start_time": "2022-04-16T12:32:37.663Z"
   },
   {
    "duration": 5,
    "start_time": "2022-04-16T12:32:37.932Z"
   },
   {
    "duration": 173,
    "start_time": "2022-04-16T12:32:37.939Z"
   },
   {
    "duration": 11,
    "start_time": "2022-04-16T12:32:38.114Z"
   },
   {
    "duration": 13,
    "start_time": "2022-04-16T12:32:38.127Z"
   },
   {
    "duration": 62,
    "start_time": "2022-04-16T12:32:38.142Z"
   },
   {
    "duration": 17,
    "start_time": "2022-04-16T12:32:38.206Z"
   },
   {
    "duration": 328,
    "start_time": "2022-04-16T12:41:28.186Z"
   },
   {
    "duration": 251,
    "start_time": "2022-04-16T12:42:02.876Z"
   },
   {
    "duration": 17,
    "start_time": "2022-04-16T13:28:51.104Z"
   },
   {
    "duration": 1297,
    "start_time": "2022-04-16T13:29:00.073Z"
   },
   {
    "duration": 12,
    "start_time": "2022-04-16T13:29:01.372Z"
   },
   {
    "duration": 31,
    "start_time": "2022-04-16T13:29:01.385Z"
   },
   {
    "duration": 34,
    "start_time": "2022-04-16T13:29:01.419Z"
   },
   {
    "duration": 21,
    "start_time": "2022-04-16T13:29:01.455Z"
   },
   {
    "duration": 51,
    "start_time": "2022-04-16T13:29:01.478Z"
   },
   {
    "duration": 13,
    "start_time": "2022-04-16T13:29:01.531Z"
   },
   {
    "duration": 36,
    "start_time": "2022-04-16T13:29:01.546Z"
   },
   {
    "duration": 51,
    "start_time": "2022-04-16T13:29:01.585Z"
   },
   {
    "duration": 10,
    "start_time": "2022-04-16T13:29:01.640Z"
   },
   {
    "duration": 14,
    "start_time": "2022-04-16T13:29:01.652Z"
   },
   {
    "duration": 31,
    "start_time": "2022-04-16T13:29:01.669Z"
   },
   {
    "duration": 25,
    "start_time": "2022-04-16T13:29:01.702Z"
   },
   {
    "duration": 9,
    "start_time": "2022-04-16T13:29:01.729Z"
   },
   {
    "duration": 23,
    "start_time": "2022-04-16T13:29:01.739Z"
   },
   {
    "duration": 32,
    "start_time": "2022-04-16T13:29:01.764Z"
   },
   {
    "duration": 45,
    "start_time": "2022-04-16T13:29:01.799Z"
   },
   {
    "duration": 12,
    "start_time": "2022-04-16T13:29:01.846Z"
   },
   {
    "duration": 13,
    "start_time": "2022-04-16T13:29:01.860Z"
   },
   {
    "duration": 24,
    "start_time": "2022-04-16T13:29:01.876Z"
   },
   {
    "duration": 34,
    "start_time": "2022-04-16T13:29:01.903Z"
   },
   {
    "duration": 37,
    "start_time": "2022-04-16T13:29:01.939Z"
   },
   {
    "duration": 32,
    "start_time": "2022-04-16T13:29:01.978Z"
   },
   {
    "duration": 24,
    "start_time": "2022-04-16T13:29:02.012Z"
   },
   {
    "duration": 29,
    "start_time": "2022-04-16T13:29:02.038Z"
   },
   {
    "duration": 37,
    "start_time": "2022-04-16T13:29:02.070Z"
   },
   {
    "duration": 21,
    "start_time": "2022-04-16T13:29:02.109Z"
   },
   {
    "duration": 462,
    "start_time": "2022-04-16T13:29:02.135Z"
   },
   {
    "duration": 381,
    "start_time": "2022-04-16T13:29:02.601Z"
   },
   {
    "duration": 272,
    "start_time": "2022-04-16T13:29:02.984Z"
   },
   {
    "duration": 323,
    "start_time": "2022-04-16T13:29:03.257Z"
   },
   {
    "duration": 265,
    "start_time": "2022-04-16T13:29:03.582Z"
   },
   {
    "duration": 198,
    "start_time": "2022-04-16T13:29:03.849Z"
   },
   {
    "duration": 14,
    "start_time": "2022-04-16T13:29:04.048Z"
   },
   {
    "duration": 4,
    "start_time": "2022-04-16T13:29:04.064Z"
   },
   {
    "duration": 383,
    "start_time": "2022-04-16T13:29:04.070Z"
   },
   {
    "duration": 5,
    "start_time": "2022-04-16T13:29:04.456Z"
   },
   {
    "duration": 175,
    "start_time": "2022-04-16T13:29:04.463Z"
   },
   {
    "duration": 13,
    "start_time": "2022-04-16T13:29:04.639Z"
   },
   {
    "duration": 18,
    "start_time": "2022-04-16T13:29:04.655Z"
   },
   {
    "duration": 46,
    "start_time": "2022-04-16T13:29:04.695Z"
   },
   {
    "duration": 17,
    "start_time": "2022-04-16T13:29:04.743Z"
   },
   {
    "duration": 1248,
    "start_time": "2022-04-16T13:39:08.510Z"
   },
   {
    "duration": 11,
    "start_time": "2022-04-16T13:39:09.760Z"
   },
   {
    "duration": 3,
    "start_time": "2022-04-16T13:39:09.773Z"
   },
   {
    "duration": 24,
    "start_time": "2022-04-16T13:39:09.778Z"
   },
   {
    "duration": 13,
    "start_time": "2022-04-16T13:39:09.804Z"
   },
   {
    "duration": 14,
    "start_time": "2022-04-16T13:39:09.819Z"
   },
   {
    "duration": 25,
    "start_time": "2022-04-16T13:39:09.835Z"
   },
   {
    "duration": 9,
    "start_time": "2022-04-16T13:39:09.862Z"
   },
   {
    "duration": 20,
    "start_time": "2022-04-16T13:39:09.873Z"
   },
   {
    "duration": 10,
    "start_time": "2022-04-16T13:39:09.897Z"
   },
   {
    "duration": 16,
    "start_time": "2022-04-16T13:39:09.913Z"
   },
   {
    "duration": 7,
    "start_time": "2022-04-16T13:39:09.930Z"
   },
   {
    "duration": 16,
    "start_time": "2022-04-16T13:39:09.939Z"
   },
   {
    "duration": 49,
    "start_time": "2022-04-16T13:39:09.957Z"
   },
   {
    "duration": 11,
    "start_time": "2022-04-16T13:39:10.008Z"
   },
   {
    "duration": 8,
    "start_time": "2022-04-16T13:39:10.021Z"
   },
   {
    "duration": 9,
    "start_time": "2022-04-16T13:39:10.031Z"
   },
   {
    "duration": 17,
    "start_time": "2022-04-16T13:39:10.042Z"
   },
   {
    "duration": 22,
    "start_time": "2022-04-16T13:39:10.060Z"
   },
   {
    "duration": 28,
    "start_time": "2022-04-16T13:39:10.097Z"
   },
   {
    "duration": 22,
    "start_time": "2022-04-16T13:39:10.126Z"
   },
   {
    "duration": 15,
    "start_time": "2022-04-16T13:39:10.150Z"
   },
   {
    "duration": 54,
    "start_time": "2022-04-16T13:39:10.167Z"
   },
   {
    "duration": 15,
    "start_time": "2022-04-16T13:39:10.223Z"
   },
   {
    "duration": 12,
    "start_time": "2022-04-16T13:39:10.241Z"
   },
   {
    "duration": 359,
    "start_time": "2022-04-16T13:39:10.255Z"
   },
   {
    "duration": 521,
    "start_time": "2022-04-16T13:39:10.617Z"
   },
   {
    "duration": 321,
    "start_time": "2022-04-16T13:39:11.143Z"
   },
   {
    "duration": 350,
    "start_time": "2022-04-16T13:39:11.466Z"
   },
   {
    "duration": 266,
    "start_time": "2022-04-16T13:39:11.818Z"
   },
   {
    "duration": 196,
    "start_time": "2022-04-16T13:39:12.085Z"
   },
   {
    "duration": 24,
    "start_time": "2022-04-16T13:39:12.283Z"
   },
   {
    "duration": 10,
    "start_time": "2022-04-16T13:39:12.310Z"
   },
   {
    "duration": 259,
    "start_time": "2022-04-16T13:39:12.322Z"
   },
   {
    "duration": 5,
    "start_time": "2022-04-16T13:39:12.584Z"
   },
   {
    "duration": 170,
    "start_time": "2022-04-16T13:39:12.592Z"
   },
   {
    "duration": 13,
    "start_time": "2022-04-16T13:39:12.764Z"
   },
   {
    "duration": 15,
    "start_time": "2022-04-16T13:39:12.796Z"
   },
   {
    "duration": 34,
    "start_time": "2022-04-16T13:39:12.813Z"
   },
   {
    "duration": 15,
    "start_time": "2022-04-16T13:39:12.849Z"
   },
   {
    "duration": 1273,
    "start_time": "2022-04-17T09:09:31.978Z"
   },
   {
    "duration": 11,
    "start_time": "2022-04-17T09:09:33.253Z"
   },
   {
    "duration": 3,
    "start_time": "2022-04-17T09:09:33.265Z"
   },
   {
    "duration": 13,
    "start_time": "2022-04-17T09:09:33.269Z"
   },
   {
    "duration": 9,
    "start_time": "2022-04-17T09:09:33.284Z"
   },
   {
    "duration": 22,
    "start_time": "2022-04-17T09:09:33.294Z"
   },
   {
    "duration": 22,
    "start_time": "2022-04-17T09:09:33.318Z"
   },
   {
    "duration": 8,
    "start_time": "2022-04-17T09:09:33.342Z"
   },
   {
    "duration": 7,
    "start_time": "2022-04-17T09:09:33.351Z"
   },
   {
    "duration": 10,
    "start_time": "2022-04-17T09:09:33.360Z"
   },
   {
    "duration": 13,
    "start_time": "2022-04-17T09:09:33.371Z"
   },
   {
    "duration": 6,
    "start_time": "2022-04-17T09:09:33.386Z"
   },
   {
    "duration": 20,
    "start_time": "2022-04-17T09:09:33.394Z"
   },
   {
    "duration": 17,
    "start_time": "2022-04-17T09:09:33.418Z"
   },
   {
    "duration": 8,
    "start_time": "2022-04-17T09:09:33.437Z"
   },
   {
    "duration": 7,
    "start_time": "2022-04-17T09:09:33.447Z"
   },
   {
    "duration": 4,
    "start_time": "2022-04-17T09:09:33.455Z"
   },
   {
    "duration": 11,
    "start_time": "2022-04-17T09:09:33.461Z"
   },
   {
    "duration": 35,
    "start_time": "2022-04-17T09:09:33.473Z"
   },
   {
    "duration": 25,
    "start_time": "2022-04-17T09:09:33.510Z"
   },
   {
    "duration": 17,
    "start_time": "2022-04-17T09:09:33.536Z"
   },
   {
    "duration": 10,
    "start_time": "2022-04-17T09:09:33.555Z"
   },
   {
    "duration": 11,
    "start_time": "2022-04-17T09:09:33.566Z"
   },
   {
    "duration": 11,
    "start_time": "2022-04-17T09:09:33.607Z"
   },
   {
    "duration": 11,
    "start_time": "2022-04-17T09:09:33.620Z"
   },
   {
    "duration": 310,
    "start_time": "2022-04-17T09:09:33.632Z"
   },
   {
    "duration": 314,
    "start_time": "2022-04-17T09:09:33.943Z"
   },
   {
    "duration": 223,
    "start_time": "2022-04-17T09:09:34.258Z"
   },
   {
    "duration": 344,
    "start_time": "2022-04-17T09:09:34.483Z"
   },
   {
    "duration": 225,
    "start_time": "2022-04-17T09:09:34.828Z"
   },
   {
    "duration": 174,
    "start_time": "2022-04-17T09:09:35.054Z"
   },
   {
    "duration": 12,
    "start_time": "2022-04-17T09:09:35.229Z"
   },
   {
    "duration": 3,
    "start_time": "2022-04-17T09:09:35.243Z"
   },
   {
    "duration": 256,
    "start_time": "2022-04-17T09:09:35.248Z"
   },
   {
    "duration": 4,
    "start_time": "2022-04-17T09:09:35.505Z"
   },
   {
    "duration": 139,
    "start_time": "2022-04-17T09:09:35.511Z"
   },
   {
    "duration": 9,
    "start_time": "2022-04-17T09:09:35.652Z"
   },
   {
    "duration": 11,
    "start_time": "2022-04-17T09:09:35.663Z"
   },
   {
    "duration": 43,
    "start_time": "2022-04-17T09:09:35.676Z"
   },
   {
    "duration": 14,
    "start_time": "2022-04-17T09:09:35.721Z"
   },
   {
    "duration": 197,
    "start_time": "2022-04-17T09:25:50.600Z"
   },
   {
    "duration": 90,
    "start_time": "2022-04-17T09:31:35.963Z"
   },
   {
    "duration": 9,
    "start_time": "2022-04-17T09:31:39.252Z"
   },
   {
    "duration": 924,
    "start_time": "2022-04-17T09:31:57.274Z"
   },
   {
    "duration": 9,
    "start_time": "2022-04-17T09:32:10.297Z"
   },
   {
    "duration": 8,
    "start_time": "2022-04-17T09:32:13.833Z"
   },
   {
    "duration": 1030,
    "start_time": "2022-04-17T09:34:00.217Z"
   },
   {
    "duration": 15,
    "start_time": "2022-04-17T09:34:01.249Z"
   },
   {
    "duration": 2,
    "start_time": "2022-04-17T09:34:01.266Z"
   },
   {
    "duration": 13,
    "start_time": "2022-04-17T09:34:01.270Z"
   },
   {
    "duration": 8,
    "start_time": "2022-04-17T09:34:01.285Z"
   },
   {
    "duration": 17,
    "start_time": "2022-04-17T09:34:01.294Z"
   },
   {
    "duration": 20,
    "start_time": "2022-04-17T09:34:01.313Z"
   },
   {
    "duration": 8,
    "start_time": "2022-04-17T09:34:01.335Z"
   },
   {
    "duration": 10,
    "start_time": "2022-04-17T09:34:01.344Z"
   },
   {
    "duration": 21,
    "start_time": "2022-04-17T09:34:01.355Z"
   },
   {
    "duration": 19,
    "start_time": "2022-04-17T09:34:01.378Z"
   },
   {
    "duration": 10,
    "start_time": "2022-04-17T09:34:01.398Z"
   },
   {
    "duration": 19,
    "start_time": "2022-04-17T09:34:01.410Z"
   },
   {
    "duration": 29,
    "start_time": "2022-04-17T09:34:01.432Z"
   },
   {
    "duration": 10,
    "start_time": "2022-04-17T09:34:01.463Z"
   },
   {
    "duration": 10,
    "start_time": "2022-04-17T09:34:01.475Z"
   },
   {
    "duration": 5,
    "start_time": "2022-04-17T09:34:01.486Z"
   },
   {
    "duration": 13,
    "start_time": "2022-04-17T09:34:01.493Z"
   },
   {
    "duration": 15,
    "start_time": "2022-04-17T09:34:01.507Z"
   },
   {
    "duration": 23,
    "start_time": "2022-04-17T09:34:01.524Z"
   },
   {
    "duration": 19,
    "start_time": "2022-04-17T09:34:01.549Z"
   },
   {
    "duration": 11,
    "start_time": "2022-04-17T09:34:01.570Z"
   },
   {
    "duration": 35,
    "start_time": "2022-04-17T09:34:01.582Z"
   },
   {
    "duration": 15,
    "start_time": "2022-04-17T09:34:01.619Z"
   },
   {
    "duration": 10,
    "start_time": "2022-04-17T09:34:01.636Z"
   },
   {
    "duration": 331,
    "start_time": "2022-04-17T09:34:01.647Z"
   },
   {
    "duration": 309,
    "start_time": "2022-04-17T09:34:01.980Z"
   },
   {
    "duration": 216,
    "start_time": "2022-04-17T09:34:02.291Z"
   },
   {
    "duration": 272,
    "start_time": "2022-04-17T09:34:02.509Z"
   },
   {
    "duration": 241,
    "start_time": "2022-04-17T09:34:02.782Z"
   },
   {
    "duration": 184,
    "start_time": "2022-04-17T09:34:03.025Z"
   },
   {
    "duration": 13,
    "start_time": "2022-04-17T09:34:03.211Z"
   },
   {
    "duration": 5,
    "start_time": "2022-04-17T09:34:03.225Z"
   },
   {
    "duration": 249,
    "start_time": "2022-04-17T09:34:03.231Z"
   },
   {
    "duration": 211,
    "start_time": "2022-04-17T09:34:03.482Z"
   },
   {
    "duration": 4,
    "start_time": "2022-04-17T09:34:03.695Z"
   },
   {
    "duration": 142,
    "start_time": "2022-04-17T09:34:03.706Z"
   },
   {
    "duration": 10,
    "start_time": "2022-04-17T09:34:03.850Z"
   },
   {
    "duration": 9,
    "start_time": "2022-04-17T09:34:03.862Z"
   },
   {
    "duration": 55,
    "start_time": "2022-04-17T09:34:03.873Z"
   },
   {
    "duration": 15,
    "start_time": "2022-04-17T09:34:03.932Z"
   },
   {
    "duration": 47,
    "start_time": "2022-04-17T10:51:11.010Z"
   },
   {
    "duration": 1295,
    "start_time": "2022-04-17T10:51:17.889Z"
   },
   {
    "duration": 16,
    "start_time": "2022-04-17T10:51:19.186Z"
   },
   {
    "duration": 2,
    "start_time": "2022-04-17T10:51:19.204Z"
   },
   {
    "duration": 12,
    "start_time": "2022-04-17T10:51:19.208Z"
   },
   {
    "duration": 8,
    "start_time": "2022-04-17T10:51:19.222Z"
   },
   {
    "duration": 11,
    "start_time": "2022-04-17T10:51:19.232Z"
   },
   {
    "duration": 38,
    "start_time": "2022-04-17T10:51:19.244Z"
   },
   {
    "duration": 8,
    "start_time": "2022-04-17T10:51:19.284Z"
   },
   {
    "duration": 6,
    "start_time": "2022-04-17T10:51:19.294Z"
   },
   {
    "duration": 13,
    "start_time": "2022-04-17T10:51:19.302Z"
   },
   {
    "duration": 11,
    "start_time": "2022-04-17T10:51:19.316Z"
   },
   {
    "duration": 8,
    "start_time": "2022-04-17T10:51:19.329Z"
   },
   {
    "duration": 10,
    "start_time": "2022-04-17T10:51:19.339Z"
   },
   {
    "duration": 22,
    "start_time": "2022-04-17T10:51:19.351Z"
   },
   {
    "duration": 14,
    "start_time": "2022-04-17T10:51:19.375Z"
   },
   {
    "duration": 11,
    "start_time": "2022-04-17T10:51:19.391Z"
   },
   {
    "duration": 8,
    "start_time": "2022-04-17T10:51:19.403Z"
   },
   {
    "duration": 17,
    "start_time": "2022-04-17T10:51:19.412Z"
   },
   {
    "duration": 12,
    "start_time": "2022-04-17T10:51:19.431Z"
   },
   {
    "duration": 22,
    "start_time": "2022-04-17T10:51:19.445Z"
   },
   {
    "duration": 38,
    "start_time": "2022-04-17T10:51:19.469Z"
   },
   {
    "duration": 10,
    "start_time": "2022-04-17T10:51:19.509Z"
   },
   {
    "duration": 17,
    "start_time": "2022-04-17T10:51:19.521Z"
   },
   {
    "duration": 13,
    "start_time": "2022-04-17T10:51:19.540Z"
   },
   {
    "duration": 12,
    "start_time": "2022-04-17T10:51:19.555Z"
   },
   {
    "duration": 305,
    "start_time": "2022-04-17T10:51:19.569Z"
   },
   {
    "duration": 305,
    "start_time": "2022-04-17T10:51:19.875Z"
   },
   {
    "duration": 218,
    "start_time": "2022-04-17T10:51:20.183Z"
   },
   {
    "duration": 345,
    "start_time": "2022-04-17T10:51:20.403Z"
   },
   {
    "duration": 213,
    "start_time": "2022-04-17T10:51:20.750Z"
   },
   {
    "duration": 163,
    "start_time": "2022-04-17T10:51:20.964Z"
   },
   {
    "duration": 11,
    "start_time": "2022-04-17T10:51:21.129Z"
   },
   {
    "duration": 4,
    "start_time": "2022-04-17T10:51:21.141Z"
   },
   {
    "duration": 234,
    "start_time": "2022-04-17T10:51:21.147Z"
   },
   {
    "duration": 175,
    "start_time": "2022-04-17T10:51:21.382Z"
   },
   {
    "duration": 5,
    "start_time": "2022-04-17T10:51:21.559Z"
   },
   {
    "duration": 148,
    "start_time": "2022-04-17T10:51:21.566Z"
   },
   {
    "duration": 10,
    "start_time": "2022-04-17T10:51:21.716Z"
   },
   {
    "duration": 9,
    "start_time": "2022-04-17T10:51:21.728Z"
   },
   {
    "duration": 30,
    "start_time": "2022-04-17T10:51:21.739Z"
   },
   {
    "duration": 39,
    "start_time": "2022-04-17T10:51:21.770Z"
   },
   {
    "duration": 206,
    "start_time": "2022-04-17T10:52:02.997Z"
   },
   {
    "duration": 373,
    "start_time": "2022-04-17T10:52:27.365Z"
   },
   {
    "duration": 1451,
    "start_time": "2022-04-17T12:14:06.442Z"
   },
   {
    "duration": 18,
    "start_time": "2022-04-17T12:14:07.895Z"
   },
   {
    "duration": 3,
    "start_time": "2022-04-17T12:14:07.914Z"
   },
   {
    "duration": 15,
    "start_time": "2022-04-17T12:14:07.919Z"
   },
   {
    "duration": 8,
    "start_time": "2022-04-17T12:14:07.935Z"
   },
   {
    "duration": 14,
    "start_time": "2022-04-17T12:14:07.945Z"
   },
   {
    "duration": 49,
    "start_time": "2022-04-17T12:14:07.961Z"
   },
   {
    "duration": 9,
    "start_time": "2022-04-17T12:14:08.012Z"
   },
   {
    "duration": 5,
    "start_time": "2022-04-17T12:14:08.022Z"
   },
   {
    "duration": 11,
    "start_time": "2022-04-17T12:14:08.029Z"
   },
   {
    "duration": 11,
    "start_time": "2022-04-17T12:14:08.041Z"
   },
   {
    "duration": 6,
    "start_time": "2022-04-17T12:14:08.053Z"
   },
   {
    "duration": 11,
    "start_time": "2022-04-17T12:14:08.061Z"
   },
   {
    "duration": 38,
    "start_time": "2022-04-17T12:14:08.074Z"
   },
   {
    "duration": 14,
    "start_time": "2022-04-17T12:14:08.114Z"
   },
   {
    "duration": 7,
    "start_time": "2022-04-17T12:14:08.130Z"
   },
   {
    "duration": 8,
    "start_time": "2022-04-17T12:14:08.138Z"
   },
   {
    "duration": 12,
    "start_time": "2022-04-17T12:14:08.148Z"
   },
   {
    "duration": 13,
    "start_time": "2022-04-17T12:14:08.162Z"
   },
   {
    "duration": 37,
    "start_time": "2022-04-17T12:14:08.176Z"
   },
   {
    "duration": 22,
    "start_time": "2022-04-17T12:14:08.214Z"
   },
   {
    "duration": 13,
    "start_time": "2022-04-17T12:14:08.237Z"
   },
   {
    "duration": 15,
    "start_time": "2022-04-17T12:14:08.252Z"
   },
   {
    "duration": 39,
    "start_time": "2022-04-17T12:14:08.269Z"
   },
   {
    "duration": 15,
    "start_time": "2022-04-17T12:14:08.310Z"
   },
   {
    "duration": 420,
    "start_time": "2022-04-17T12:14:08.327Z"
   },
   {
    "duration": 451,
    "start_time": "2022-04-17T12:14:08.749Z"
   },
   {
    "duration": 304,
    "start_time": "2022-04-17T12:14:09.204Z"
   },
   {
    "duration": 294,
    "start_time": "2022-04-17T12:14:09.509Z"
   },
   {
    "duration": 219,
    "start_time": "2022-04-17T12:14:09.804Z"
   },
   {
    "duration": 197,
    "start_time": "2022-04-17T12:14:10.025Z"
   },
   {
    "duration": 12,
    "start_time": "2022-04-17T12:14:10.224Z"
   },
   {
    "duration": 5,
    "start_time": "2022-04-17T12:14:10.237Z"
   },
   {
    "duration": 246,
    "start_time": "2022-04-17T12:14:10.243Z"
   },
   {
    "duration": 179,
    "start_time": "2022-04-17T12:14:10.490Z"
   },
   {
    "duration": 4,
    "start_time": "2022-04-17T12:14:10.670Z"
   },
   {
    "duration": 144,
    "start_time": "2022-04-17T12:14:10.676Z"
   },
   {
    "duration": 9,
    "start_time": "2022-04-17T12:14:10.822Z"
   },
   {
    "duration": 9,
    "start_time": "2022-04-17T12:14:10.832Z"
   },
   {
    "duration": 70,
    "start_time": "2022-04-17T12:14:10.843Z"
   },
   {
    "duration": 15,
    "start_time": "2022-04-17T12:14:10.915Z"
   },
   {
    "duration": 338,
    "start_time": "2022-04-17T12:41:07.205Z"
   },
   {
    "duration": 261,
    "start_time": "2022-04-17T12:43:38.119Z"
   },
   {
    "duration": 71,
    "start_time": "2022-04-17T13:38:54.909Z"
   },
   {
    "duration": 1791,
    "start_time": "2022-04-17T13:39:06.431Z"
   },
   {
    "duration": 18,
    "start_time": "2022-04-17T13:39:08.226Z"
   },
   {
    "duration": 3,
    "start_time": "2022-04-17T13:39:08.249Z"
   },
   {
    "duration": 8,
    "start_time": "2022-04-17T13:39:08.255Z"
   },
   {
    "duration": 32,
    "start_time": "2022-04-17T13:39:08.265Z"
   },
   {
    "duration": 15,
    "start_time": "2022-04-17T13:39:08.300Z"
   },
   {
    "duration": 65,
    "start_time": "2022-04-17T13:39:08.318Z"
   },
   {
    "duration": 21,
    "start_time": "2022-04-17T13:39:08.386Z"
   },
   {
    "duration": 13,
    "start_time": "2022-04-17T13:39:08.409Z"
   },
   {
    "duration": 5,
    "start_time": "2022-04-17T13:39:08.424Z"
   },
   {
    "duration": 13,
    "start_time": "2022-04-17T13:39:08.432Z"
   },
   {
    "duration": 51,
    "start_time": "2022-04-17T13:39:08.447Z"
   },
   {
    "duration": 8,
    "start_time": "2022-04-17T13:39:08.502Z"
   },
   {
    "duration": 19,
    "start_time": "2022-04-17T13:39:08.512Z"
   },
   {
    "duration": 49,
    "start_time": "2022-04-17T13:39:08.534Z"
   },
   {
    "duration": 11,
    "start_time": "2022-04-17T13:39:08.586Z"
   },
   {
    "duration": 10,
    "start_time": "2022-04-17T13:39:08.599Z"
   },
   {
    "duration": 6,
    "start_time": "2022-04-17T13:39:08.611Z"
   },
   {
    "duration": 63,
    "start_time": "2022-04-17T13:39:08.620Z"
   },
   {
    "duration": 18,
    "start_time": "2022-04-17T13:39:08.686Z"
   },
   {
    "duration": 86,
    "start_time": "2022-04-17T13:39:08.706Z"
   },
   {
    "duration": 31,
    "start_time": "2022-04-17T13:39:08.794Z"
   },
   {
    "duration": 16,
    "start_time": "2022-04-17T13:39:08.883Z"
   },
   {
    "duration": 18,
    "start_time": "2022-04-17T13:39:08.901Z"
   },
   {
    "duration": 62,
    "start_time": "2022-04-17T13:39:08.921Z"
   },
   {
    "duration": 18,
    "start_time": "2022-04-17T13:39:08.986Z"
   },
   {
    "duration": 729,
    "start_time": "2022-04-17T13:39:09.006Z"
   },
   {
    "duration": 570,
    "start_time": "2022-04-17T13:39:09.737Z"
   },
   {
    "duration": 414,
    "start_time": "2022-04-17T13:39:10.310Z"
   },
   {
    "duration": 500,
    "start_time": "2022-04-17T13:39:10.726Z"
   },
   {
    "duration": 448,
    "start_time": "2022-04-17T13:39:11.229Z"
   },
   {
    "duration": 299,
    "start_time": "2022-04-17T13:39:11.682Z"
   },
   {
    "duration": 18,
    "start_time": "2022-04-17T13:39:11.983Z"
   },
   {
    "duration": 7,
    "start_time": "2022-04-17T13:39:12.004Z"
   },
   {
    "duration": 373,
    "start_time": "2022-04-17T13:39:12.013Z"
   },
   {
    "duration": 360,
    "start_time": "2022-04-17T13:39:12.389Z"
   },
   {
    "duration": 355,
    "start_time": "2022-04-17T13:39:12.751Z"
   },
   {
    "duration": 5,
    "start_time": "2022-04-17T13:39:13.109Z"
   },
   {
    "duration": 411,
    "start_time": "2022-04-17T13:39:13.116Z"
   },
   {
    "duration": 17,
    "start_time": "2022-04-17T13:39:13.532Z"
   },
   {
    "duration": 36,
    "start_time": "2022-04-17T13:39:13.551Z"
   },
   {
    "duration": 42,
    "start_time": "2022-04-17T13:39:13.589Z"
   },
   {
    "duration": 20,
    "start_time": "2022-04-17T13:39:13.633Z"
   },
   {
    "duration": 3,
    "start_time": "2022-04-17T13:39:34.901Z"
   },
   {
    "duration": 15,
    "start_time": "2022-04-17T13:39:36.044Z"
   },
   {
    "duration": 1480,
    "start_time": "2022-04-17T13:48:34.265Z"
   },
   {
    "duration": 14,
    "start_time": "2022-04-17T13:48:35.749Z"
   },
   {
    "duration": 4,
    "start_time": "2022-04-17T13:48:35.765Z"
   },
   {
    "duration": 17,
    "start_time": "2022-04-17T13:48:35.781Z"
   },
   {
    "duration": 11,
    "start_time": "2022-04-17T13:48:35.803Z"
   },
   {
    "duration": 16,
    "start_time": "2022-04-17T13:48:35.817Z"
   },
   {
    "duration": 26,
    "start_time": "2022-04-17T13:48:35.835Z"
   },
   {
    "duration": 13,
    "start_time": "2022-04-17T13:48:35.882Z"
   },
   {
    "duration": 8,
    "start_time": "2022-04-17T13:48:35.897Z"
   },
   {
    "duration": 14,
    "start_time": "2022-04-17T13:48:35.907Z"
   },
   {
    "duration": 16,
    "start_time": "2022-04-17T13:48:35.923Z"
   },
   {
    "duration": 43,
    "start_time": "2022-04-17T13:48:35.941Z"
   },
   {
    "duration": 15,
    "start_time": "2022-04-17T13:48:35.988Z"
   },
   {
    "duration": 31,
    "start_time": "2022-04-17T13:48:36.008Z"
   },
   {
    "duration": 10,
    "start_time": "2022-04-17T13:48:36.042Z"
   },
   {
    "duration": 30,
    "start_time": "2022-04-17T13:48:36.055Z"
   },
   {
    "duration": 8,
    "start_time": "2022-04-17T13:48:36.087Z"
   },
   {
    "duration": 17,
    "start_time": "2022-04-17T13:48:36.098Z"
   },
   {
    "duration": 19,
    "start_time": "2022-04-17T13:48:36.117Z"
   },
   {
    "duration": 64,
    "start_time": "2022-04-17T13:48:36.138Z"
   },
   {
    "duration": 28,
    "start_time": "2022-04-17T13:48:36.205Z"
   },
   {
    "duration": 49,
    "start_time": "2022-04-17T13:48:36.235Z"
   },
   {
    "duration": 27,
    "start_time": "2022-04-17T13:48:36.287Z"
   },
   {
    "duration": 20,
    "start_time": "2022-04-17T13:48:36.316Z"
   },
   {
    "duration": 47,
    "start_time": "2022-04-17T13:48:36.338Z"
   },
   {
    "duration": 633,
    "start_time": "2022-04-17T13:48:36.387Z"
   },
   {
    "duration": 558,
    "start_time": "2022-04-17T13:48:37.023Z"
   },
   {
    "duration": 397,
    "start_time": "2022-04-17T13:48:37.584Z"
   },
   {
    "duration": 561,
    "start_time": "2022-04-17T13:48:37.984Z"
   },
   {
    "duration": 555,
    "start_time": "2022-04-17T13:48:38.547Z"
   },
   {
    "duration": 405,
    "start_time": "2022-04-17T13:48:39.105Z"
   },
   {
    "duration": 24,
    "start_time": "2022-04-17T13:48:39.513Z"
   },
   {
    "duration": 7,
    "start_time": "2022-04-17T13:48:39.539Z"
   },
   {
    "duration": 500,
    "start_time": "2022-04-17T13:48:39.548Z"
   },
   {
    "duration": 475,
    "start_time": "2022-04-17T13:48:40.051Z"
   },
   {
    "duration": 357,
    "start_time": "2022-04-17T13:48:40.529Z"
   },
   {
    "duration": 5,
    "start_time": "2022-04-17T13:48:40.889Z"
   },
   {
    "duration": 373,
    "start_time": "2022-04-17T13:48:40.897Z"
   },
   {
    "duration": 15,
    "start_time": "2022-04-17T13:48:41.282Z"
   },
   {
    "duration": 16,
    "start_time": "2022-04-17T13:48:41.299Z"
   },
   {
    "duration": 71,
    "start_time": "2022-04-17T13:48:41.321Z"
   },
   {
    "duration": 20,
    "start_time": "2022-04-17T13:48:41.395Z"
   },
   {
    "duration": 1396,
    "start_time": "2022-07-17T17:14:10.911Z"
   },
   {
    "duration": 63,
    "start_time": "2022-07-17T17:14:12.310Z"
   },
   {
    "duration": 4,
    "start_time": "2022-07-17T17:14:12.375Z"
   },
   {
    "duration": 21,
    "start_time": "2022-07-17T17:14:12.382Z"
   },
   {
    "duration": 11,
    "start_time": "2022-07-17T17:14:12.405Z"
   },
   {
    "duration": 17,
    "start_time": "2022-07-17T17:14:12.418Z"
   },
   {
    "duration": 80,
    "start_time": "2022-07-17T17:14:12.438Z"
   },
   {
    "duration": 14,
    "start_time": "2022-07-17T17:14:12.520Z"
   },
   {
    "duration": 5,
    "start_time": "2022-07-17T17:14:12.536Z"
   },
   {
    "duration": 13,
    "start_time": "2022-07-17T17:14:12.545Z"
   },
   {
    "duration": 19,
    "start_time": "2022-07-17T17:14:12.560Z"
   },
   {
    "duration": 25,
    "start_time": "2022-07-17T17:14:12.581Z"
   },
   {
    "duration": 14,
    "start_time": "2022-07-17T17:14:12.608Z"
   },
   {
    "duration": 25,
    "start_time": "2022-07-17T17:14:12.624Z"
   },
   {
    "duration": 60,
    "start_time": "2022-07-17T17:14:12.651Z"
   },
   {
    "duration": 8,
    "start_time": "2022-07-17T17:14:12.713Z"
   },
   {
    "duration": 8,
    "start_time": "2022-07-17T17:14:12.723Z"
   },
   {
    "duration": 13,
    "start_time": "2022-07-17T17:14:12.733Z"
   },
   {
    "duration": 13,
    "start_time": "2022-07-17T17:14:12.748Z"
   },
   {
    "duration": 51,
    "start_time": "2022-07-17T17:14:12.763Z"
   },
   {
    "duration": 21,
    "start_time": "2022-07-17T17:14:12.816Z"
   },
   {
    "duration": 14,
    "start_time": "2022-07-17T17:14:12.839Z"
   },
   {
    "duration": 50,
    "start_time": "2022-07-17T17:14:12.855Z"
   },
   {
    "duration": 14,
    "start_time": "2022-07-17T17:14:12.907Z"
   },
   {
    "duration": 13,
    "start_time": "2022-07-17T17:14:12.923Z"
   },
   {
    "duration": 389,
    "start_time": "2022-07-17T17:14:12.938Z"
   },
   {
    "duration": 375,
    "start_time": "2022-07-17T17:14:13.329Z"
   },
   {
    "duration": 268,
    "start_time": "2022-07-17T17:14:13.707Z"
   },
   {
    "duration": 360,
    "start_time": "2022-07-17T17:14:13.977Z"
   },
   {
    "duration": 287,
    "start_time": "2022-07-17T17:14:14.339Z"
   },
   {
    "duration": 203,
    "start_time": "2022-07-17T17:14:14.629Z"
   },
   {
    "duration": 15,
    "start_time": "2022-07-17T17:14:14.834Z"
   },
   {
    "duration": 34,
    "start_time": "2022-07-17T17:14:14.851Z"
   },
   {
    "duration": 332,
    "start_time": "2022-07-17T17:14:14.887Z"
   },
   {
    "duration": 325,
    "start_time": "2022-07-17T17:14:15.221Z"
   },
   {
    "duration": 238,
    "start_time": "2022-07-17T17:14:15.548Z"
   },
   {
    "duration": 5,
    "start_time": "2022-07-17T17:14:15.788Z"
   },
   {
    "duration": 276,
    "start_time": "2022-07-17T17:14:15.795Z"
   },
   {
    "duration": 21,
    "start_time": "2022-07-17T17:14:16.073Z"
   },
   {
    "duration": 14,
    "start_time": "2022-07-17T17:14:16.106Z"
   },
   {
    "duration": 47,
    "start_time": "2022-07-17T17:14:16.123Z"
   },
   {
    "duration": 48,
    "start_time": "2022-07-17T17:14:16.172Z"
   }
  ],
  "kernelspec": {
   "display_name": "Python 3 (ipykernel)",
   "language": "python",
   "name": "python3"
  },
  "language_info": {
   "codemirror_mode": {
    "name": "ipython",
    "version": 3
   },
   "file_extension": ".py",
   "mimetype": "text/x-python",
   "name": "python",
   "nbconvert_exporter": "python",
   "pygments_lexer": "ipython3",
   "version": "3.9.5"
  },
  "toc": {
   "base_numbering": 1,
   "nav_menu": {},
   "number_sections": true,
   "sideBar": true,
   "skip_h1_title": true,
   "title_cell": "Table of Contents",
   "title_sidebar": "Contents",
   "toc_cell": false,
   "toc_position": {
    "height": "calc(100% - 180px)",
    "left": "10px",
    "top": "150px",
    "width": "352.85px"
   },
   "toc_section_display": true,
   "toc_window_display": false
  }
 },
 "nbformat": 4,
 "nbformat_minor": 2
}
